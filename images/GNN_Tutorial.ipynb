{
 "cells": [
  {
   "cell_type": "markdown",
   "id": "e13d743a",
   "metadata": {},
   "source": [
    "# Todo list"
   ]
  },
  {
   "cell_type": "markdown",
   "id": "c37b1bd5",
   "metadata": {},
   "source": [
    "A ajouter d'ici mardi, envoi du PDF à Christophe:\n",
    "\n",
    "ENE : Elodie Noëlé\n",
    "\n",
    "ACI : Aurélien Casagrandi \n",
    "\n",
    "Pour les data, dans la partie Introduction:\n",
    "- Penser à ajouter deux folders dans le folder data (données californiennes SCEDC & données françaises (LDG)) DONE\n",
    "- Ajouter les histogrammes 1D et 2D (composantes 2 à 2) pour les données californiennes et françaises(?) des magnitudes, des profondeurs et des coordonnées du seisme. [ACI & ENE]\n",
    "\n",
    "- Pour les signaux affichés dans la partie Introduction, ajouter les directions (NS, EW, Up-Down) [ACI] DONE\n",
    "\n",
    "- Finir l'introduction par le graphe, mentionner pourquoi on utilise les 72 stations ( plus de 20 ans de données). [ACI] HALF DONE\n",
    "\n",
    "- Préciser si les distances de calcul pour le graphe sont géodésiques ou non (à contrôler dans le script de visualisation.py). Ajouter aussi les côtes des arêtes sur les graphes affichés. Vérifier le nombre de voisins (4 ou 5, vérifier si le noeud est considéré comme un voisin de lui-même ou non, notion de self-loop) choisis pour tracer le graphe. [ENE]\n",
    "\n",
    "- Mettre les figures sur un fond de carte.  S'assurer de la cohérence des deux figures. [ENE]\n",
    "\n",
    "Partie 1 :\n",
    "- Commenter les  hyperparamètres définis dans la première partie du tutorial. [ACI] DONE\n",
    "\n",
    "Partie 2:\n",
    "- Commenter l'importance du bias dans l'affichage des erreurs. [ENE]\n",
    "\n",
    "Partie 5 :\n",
    "- Afficher les résultats avec les 10 folds pour les 10 optims, ainsi que les loss avec std. [ENE]\n",
    "\n",
    "Nota bene : \n",
    "- Entre GNN2 et GNN3, mentionner la notion d'oversmoothing au travers du GNN2-1D et faire le lien entre le graphe spectrale et le graphe dynamique. [ENE]\n",
    "\n",
    "- Dans la partie introduction : bien mentionner que pour le graphe dynamique, on modifie uniquement les relations soit l'espace E et non pas les noeuds appartenant à V. [ACI]\n",
    "\n",
    "- Pour GNN3, extraire les graphes dynamiques entre chaque couche : montrer qu'à partir d'un certain nombre de couches, celui-ci n'évolue plus et tend à se concentrer autour de l'évènement. [ACI]\n",
    "\n",
    "- Verifier le nombre de couches GCN retenus pour le GNN2. [ENE]\n",
    "\n",
    "- (Optionnel) Faire un traitement analogue avec les données françaises (LDG) [ENE/ACI]\n",
    "\n",
    "- Préparer un exemple (wave equation) avec un GNO. [ENE]\n",
    "\n",
    "- Utiliser Optuna pour faire varier ses paramètres avec les graphes & les contour plots. [ENE]"
   ]
  },
  {
   "cell_type": "markdown",
   "id": "a0d5f5f9",
   "metadata": {},
   "source": [
    "# POUR LA PARTIE SUR LE DYNAMIQUE\n",
    "\n",
    "This dynamic graph is only caculated from the features of the signal, through a set of layers that produce outputs \n",
    "of size 64 per node (station).\n",
    "\n",
    "This output of size 64 per node is the encoded signal corresponding to its node (station) produced by the layer.\n",
    "\n",
    "Hence, each layer encodes the information of the signal that it gets as entry and creates a new graph.\n",
    "\n",
    "This means that the geographical location of the stations are not modified in these layers, only the feature distance between each is.\n",
    "\n",
    "As a result, we have a set of layers that works on the features of the signal and allows us to create a new graph which edges are the euclidian distances of the output of each node (station)."
   ]
  },
  {
   "cell_type": "markdown",
   "id": "710eb0d3",
   "metadata": {},
   "source": []
  },
  {
   "cell_type": "markdown",
   "id": "35726d34",
   "metadata": {},
   "source": []
  },
  {
   "cell_type": "markdown",
   "id": "51bb7e02",
   "metadata": {},
   "source": [
    "################################################################################################################"
   ]
  },
  {
   "cell_type": "markdown",
   "id": "a0608a1a",
   "metadata": {},
   "source": [
    "################################################################################################################"
   ]
  },
  {
   "cell_type": "markdown",
   "id": "9d73e5a1",
   "metadata": {},
   "source": [
    "################################################################################################################"
   ]
  },
  {
   "cell_type": "markdown",
   "id": "c2bd54ec",
   "metadata": {},
   "source": [
    "# Actual Tutorial Zone"
   ]
  },
  {
   "cell_type": "markdown",
   "id": "9baf7480",
   "metadata": {},
   "source": [
    "# Seismic Source Characterization with Graph Neural Networks (Live Demo Tutorial)"
   ]
  },
  {
   "cell_type": "markdown",
   "id": "81e6a767",
   "metadata": {},
   "source": [
    "## Credits Zone\n",
    "Xavier Cassagnou, Aurélien Casagrandi, Elodie Noëlé, Christophe Millet, Mathilde Mougeot"
   ]
  },
  {
   "cell_type": "markdown",
   "id": "6e5b16b3",
   "metadata": {},
   "source": [
    "## Environment setup"
   ]
  },
  {
   "cell_type": "markdown",
   "id": "2299ad9e",
   "metadata": {},
   "source": [
    "\n",
    "## 1. Introduction\n",
    "\n",
    "\n",
    "<img src=\"./images/otice_seismic_network.png\" alt=\"\" />\n",
    "\n",
    "**What's at stake?** : Seismic event monitoring plays a crucial role in the Comprehensive Nuclear-Test-Ban Treaty (CTBT) surveillance by providing a reliable means to detect and identify underground nuclear explosions. By continuously recording and analyzing seismic waves generated by earthquakes and other subsurface activities, monitoring stations can distinguish between natural seismic events and potential nuclear tests based on wave characteristics, depth, and location. This capability ensures timely and accurate verification of compliance with the treaty, helping to deter clandestine nuclear testing and promote global nuclear non-proliferation and security. The worldwide seismic monitoring network supporting the CTBT is a global, integrated system composed of hundreds of seismic stations distributed strategically across the globe to maximize detection sensitivity. This global network is interconnected with numerous country-level and regional seismic networks, facilitating data sharing, cross-validation, and enhanced resolution of event detection. Such cooperation among international, national, and regional networks strengthens the overall robustness and reliability of CTBT verification efforts by combining local expertise and infrastructure with global monitoring capabilities.\n",
    "\n"
   ]
  },
  {
   "cell_type": "markdown",
   "id": "146de7f0",
   "metadata": {},
   "source": [
    "#### Southern California Seismic Network (SCSN)\n",
    "\n",
    "We use the data of this seismic stations network by recuperating it from the **Southern California Earthquake Data Center (SCEDC)**. The data is gathered by a set of 211 stations (we will only use 72 of those) and is composed of recorded waveforms on 3 spatial dimensions from each station of 4881 seismic events.\n",
    "\n",
    "Those events are listed alongside an estimation of their location (latitude and longitude), their magnitude and their depth (the four informations that the model is supposed to predict).\n",
    "\n",
    "\n",
    "Here is an example of waveforms received by two different stations (ADO and ALP) for the same seismic event.\n",
    "\n",
    "\n",
    "<img src=\"./images/visu_series.jpeg\" alt=\"\" />\n",
    "\n",
    "Amongst all those events and stations, we only select a few through filtering in order to get data with better quality and save computation and storage costs.\n",
    "\n",
    "In the dataset that we will use here, we chose the events which are :\n",
    "\n",
    " - at least clearly detected by 5 stations on 20/40Hz frequencies (for the knn method)\n",
    " - separated from other events by at least 200 seconds\n",
    " \n",
    "Those filtered events are detected by a set of 72 stations amongst the 211 original stations. \n",
    "Hence, we only take those 72 stations to save computation and storage costs.\n",
    "\n",
    "You can also find the spatial position knn method results allowing to compute the graph for all the stations and 5-neighbourhood for each station :\n",
    "\n",
    "\n",
    "<img src=\"./images/visu_graphe.jpeg\" alt=\"\" />"
   ]
  },
  {
   "cell_type": "markdown",
   "id": "04120262",
   "metadata": {},
   "source": [
    "\n",
    "**Context:** Assuming that a seismic network is modeled as a graph, with seismic stations constituting the nodes and the spatial relationships between stations representing the edges, the seismic waveform signals associated with each station can be defined as the network's edges. For each of these waveforms, the North-South, East-West, and Up-Down components are identifiable. The objective of this study is to develop a function capable of predicting earthquake source parameters, including latitude, longitude, depth, and magnitude, from multi-station waveforms.\n",
    "\n",
    "<img src=\"./images/Seismic_map.png\" alt=\"\" />\n",
    "\n",
    "\n",
    "**Goal:** Predict the location (latitude, longitude), magnitude, and depth of a seismic event using a Graph Neural Network (GNN).\n",
    "\n",
    "**Why GNNs?**\n",
    "Machine learning models are increasingly used in geophysical applications, particularly for problems involving large, complex, and noisy datasets. Traditional ML models like decision trees, SVMs, or fully connected neural networks treat data as independent samples. However, seismic data collected from a network of stations is inherently relational — the response at one station is correlated with others due to spatial proximity and shared wave propagation paths.\n",
    "\n",
    "Graph Neural Networks (GNNs) are a class of deep learning models designed to work directly on graph-structured data. They extend the idea of convolutional neural networks (CNNs) to graphs, enabling learning from both node features and the connectivity of the data.\n",
    "\n",
    "<span style=\"color:red\">**Working in progress : Neighboorhoods using spatial relationship and similarity relationship figures **</span>\n"
   ]
  },
  {
   "cell_type": "markdown",
   "id": "8bc75177",
   "metadata": {},
   "source": [
    "\n",
    "\n",
    "***Mathematical Formalism of GNNs (fig 2.)***\n",
    "<img src=\"./images/graph_explanation.png\" alt=\"Example Image\" style=\"height:1500px;  float: left; margin-right: 1px;\"/>\n",
    "<div>\n",
    "\n",
    "This is the text next to the image. It will appear on the right side, wrapping nicely.\n",
    "Let a graph (fig 1.) be defined as $ G = (V, E)$, with:\n",
    "- $ V $: a set of nodes (e.g., seismic stations)\n",
    "- $ E $: a set of edges (e.g., connectivity based on location or signal correlation)\n",
    "- $ A \\in \\mathbb{R}^{N \\times N} $: the adjacency matrix (fig 2.)\n",
    "- $ X \\in \\mathbb{R}^{N \\times d} $: the feature matrix with $ d $-dimensional node features\n",
    "\n",
    "<br> <br><br> <br><br> <br><br> <br>  <br> <br><br> <br><br> <br><br> <br>  <br> <br><br> <br><br> <br><br> <br>     \n",
    "    \n",
    "    \n",
    "The general form of message-passing GNNs (fig 4.) is:\n",
    "\n",
    "$$ h_i^{(k+1)} = \\gamma^{(k)}\\left( h_i^{(k)}, \\square_{j \\in \\mathcal{N}(i)} \\phi^{(k)}(h_i^{(k)}, h_j^{(k)}, e_{ij}) \\right) $$\n",
    "\n",
    "Where:\n",
    "- $ h_i^{(k)} $: hidden representation of node $ i $ at layer $ k $\n",
    "- $ \\mathcal{N}(i) $: neighborhood of node $ i $\n",
    "- $ \\phi $: message function\n",
    "- $ \\gamma $: update function (e.g., MLP)\n",
    "- $ \\square $: aggregation function (e.g., sum, mean, max)\n",
    "\n",
    "    \n",
    "    \n",
    "    \n",
    "A common simplification is the Graph Convolutional Network (GCN) (fig 5.):\n",
    "\n",
    "$$ H^{(l+1)} = \\sigma\\left( \\hat{D}^{-1/2} \\hat{A} \\hat{D}^{-1/2} H^{(l)} W^{(l)} \\right) $$\n",
    "\n",
    "Where:\n",
    "- $ \\hat{A} = A + I $ adds self-loops\n",
    "- $ \\hat{D} $ is the degree matrix of $ \\hat{A} $\n",
    "- $ W^{(l)} $: learnable weights\n",
    "- $ \\sigma $: nonlinearity (e.g., ReLU)\n",
    "\n",
    "    \n",
    "**In this context:**\n",
    "- **Nodes** represent seismic stations with their corresponding signal features (e.g., waveform descriptors).\n",
    "- **Edges** represent the relationships or distances between stations (e.g., geographic, signal correlation).\n",
    "\n",
    "GNNs aggregate and transform features through message passing between nodes, capturing both local and global patterns in the data.\n",
    "\n",
    "</div>\n",
    "\n"
   ]
  },
  {
   "cell_type": "markdown",
   "id": "4b7c12c7",
   "metadata": {},
   "source": [
    "\n",
    "**Benefits of GNNs for Seismic Analysis:**\n",
    "- Incorporate spatial structure of seismic networks\n",
    "- Handle variable network topologies\n",
    "- Improve generalization by leveraging relational inductive bias\n",
    "\n",
    "**Live Demo Steps:**\n",
    "1. Load preprocessed graph data\n",
    "2. Load pre-trained GNN\n",
    "3. Run offline inference\n",
    "4. Visualize prediction vs. truth\n"
   ]
  },
  {
   "cell_type": "code",
   "execution_count": 283,
   "id": "098a5a55",
   "metadata": {},
   "outputs": [],
   "source": [
    "# Uncomment if required\n",
    "#!pip install torch torchvision torchaudio torch-geometric matplotlib seaborn geopandas\n",
    "\n",
    "import pandas as pd\n",
    "import os, pickle, torch, timeit\n",
    "import numpy as np\n",
    "from torchinfo import summary\n",
    "from tqdm import tqdm\n",
    "import gc\n",
    "from modules import utils as ut\n",
    "from modules import model as md\n",
    "torch.cuda.empty_cache()\n",
    "gc.collect()\n",
    "\n",
    "seed = 0\n",
    "device= \"cuda:1\"\n",
    "np.random.seed(seed)\n",
    "torch.manual_seed(seed)\n",
    "torch.backends.cudnn.deterministic = True\n",
    "folder = os.path.join(os.getcwd(), \"./data\")\n",
    "data = [os.path.join(folder, f\"data-{i}.pkl\") for i in range(10)]\n",
    "\n",
    "# A commenter\n",
    "folder = os.path.join(os.getcwd(), 'example')\n",
    "train_file = data[:-1] \n",
    "valid_file = data[-1]\n",
    "model_file = \"model.pt\"\n",
    "model_name = \"GNN1\" # The model used (GNN1, GNN1D, GNN2,GNN2D, GNN3)\n",
    "n_epochs = 800  # The number of rounds of training\n",
    "batch_size = 32 # The size of batches for training\n",
    "lr = 0.0002 # The learning rate\n",
    "dropout_rate = 0.15  # The probability for each node to be deactivated at each epoch \n",
    "K = 5 # The value of k that is chosen for the knn method\n",
    "nlayers = 12 # The number of layers in the blocks\n",
    "concat = True # The decision to use the concatenation or not\n",
    "L2 = False  # The decision to use L2 as loss function (=True) or L1 (=False)\n",
    "\n",
    "arrData = [np.load(file, allow_pickle=True) for file in train_file]\n",
    "\n"
   ]
  },
  {
   "cell_type": "code",
   "execution_count": 299,
   "id": "0ecfbb1b",
   "metadata": {},
   "outputs": [],
   "source": [
    "\n",
    "import matplotlib.pylab as pylab\n",
    "\n",
    "params = {'legend.fontsize': 'xx-large',       # Taille des légences\n",
    "          'figure.figsize': (15, 5),                        # Taille initiale des figures\n",
    "         'axes.labelsize': 'xx-large',                   # Taille des titres\n",
    "         'axes.titlesize':'xx-large',                     # Taille des titres de figures\n",
    "         'xtick.labelsize':'xx-large',                   # Taille des titres des abscisses\n",
    "         'ytick.labelsize':'xx-large',                   # Taille des titres des ordonnées\n",
    "         'font.size' : 10.0,                                 # Taille du texte\n",
    "         'font.family': 'DejaVu Sans',                # Paramètre 1 de police du texte\n",
    "         'font.serif': 'Times New Roman',         # Paramètre 2 de police du texte\n",
    "         'font.style': 'normal',                          # Paramètre 3 de police du texte\n",
    "         'xtick.direction' : 'inout',                     # Sens des abscisses\n",
    "         'ytick.direction' : 'inout',                     # Sens des ordonnées\n",
    "         'xtick.major.size' : 5,                          # Espacement entre les abscisses\n",
    "         'ytick.major.size' : 5}                         # Espacement entre les ordonnées\n",
    "\n",
    "pylab.rcParams.update(params)                 # Mise à jour globale\n",
    "\n"
   ]
  },
  {
   "cell_type": "markdown",
   "id": "b0904d4c",
   "metadata": {},
   "source": [
    "## 2. Architecture overview"
   ]
  },
  {
   "cell_type": "markdown",
   "id": "8799eba2",
   "metadata": {},
   "source": [
    "### General framework\n",
    "We have a seismic network modeled as a graph $ G = (V, E) $, where:\n",
    "- $V$ corresponds to the $N \\in \\mathbb{N_*}$ seismic stations $s$ (nodes $v_s \\in V $) for which a seismic signal waveform of $P \\in \\mathbb{N_*}$ time steps and three components (North-South, East-West, Up-Down) $x_s \\in \\mathbb{R}^{Px3} $ and geographic coordinates (latitude and longitude) $p_s \\in \\mathbb{R}^2$ are associated\n",
    "- $E$ corresponds to the spatial relationships between the stations (edges) to be defined and learn through the networks.\n",
    "\n",
    "From the data of this seismic network, we want to compute the source parameters $y \\in \\mathbb{R}^4$, a seismic event's latiude, longitude, depth and magnitude.\n",
    "\n",
    "To do such, our aim to learn a function $h_{\\theta}$ such as : \n",
    "\n",
    "$\\begin{array}{ccccc}\n",
    "h_{\\theta} & : & \\mathbb{R}^{NxPx3}x\\mathbb{R}^{Nx2}x\\mathbb{E}(G) & \\to & \\mathbb{R}^4 \\\\\n",
    " & & x, p, G & \\mapsto & y \\\\\n",
    "\\end{array}$\n",
    "\n",
    "\n",
    "Inspired by the works on GNN (missing references and explanation), we designed a three component-archicture\n",
    "such as $ y = h^{(3)}_{\\theta^{(3)}} \\big( \\max_{1 \\leq s \\leq N} h^{(2)}_{\\theta^{(2)}} (p_s, h^{(1)}_{\\theta^{(1)}}(x_s)) \\big) $:\n",
    "- $h^{(1)}_{\\theta^{(1)}}$, a CNN-based encoder for extracting the temporal features of the seismic waveforms for each seismic station\n",
    "- $h^{(2)}_{\\theta^{(2)}}$, a fully-connected neural network to concatenate the latent temporal features with the station geographic coordinates.\n",
    "- $h^{(3)}_{\\theta^{(3)}}$, a MLP for predicting the source parameters from the spatially enhanced vectors.\n",
    "\n",
    "In the following paragraphs, we will review each architecture component"
   ]
  },
  {
   "cell_type": "markdown",
   "id": "f48ec233",
   "metadata": {},
   "source": [
    "### CNN-based encoder $h^{(1)}_{\\theta^{(1)}}$"
   ]
  },
  {
   "cell_type": "markdown",
   "id": "9f198524",
   "metadata": {},
   "source": [
    "The first component of the architecture $h^{(1)}_{\\theta^{(1)}}$ is based on multiple temporal convolutions (Conv2d) applied on the temporal waveform $x_s$ associated with each station $s$ of the nodes $V$. It contains five sub-components denoted as TimeBlock with $L$ convolutional layers :\n",
    "\n",
    "<img src=\"./images/TimeBlock.png\" alt=\"\" />\n",
    "\n",
    "This 2D convolution of kernel size (1,5) is applied for each time step $n \\in \\{1, ..., P\\} $ and for each feature channel $i$ of a waveform $x_s$ such as :\n",
    "\n",
    "\n",
    "$$ x^{(l)}_{si}[n] = ReLU \\Big( b_i^{(l)} + \\sum_{j=1}^{d_{l-1}} \\underbrace{W^{(l)}_{ji} * x_{sj}^{(l-1)}[n]}_{{\\substack{\\text{convolution operator} \\\\ \\sum^4_{k=0} w^{(l)}_{jik}x^{(l-1)}_{sj} [n+k]}}} \\Big) $$\n",
    "\n",
    "For this sub-component, the total number of learnable weights is : $\\sum^L_{l=1} d_l(4d_{l+1}+1)$\n",
    "Then, to reduce the size of the output vector, a global max pooling-layer is applied on the output of the convolutional layers after a dropout operation for avoiding overfitting."
   ]
  },
  {
   "cell_type": "code",
   "execution_count": 286,
   "id": "24a5ebef",
   "metadata": {},
   "outputs": [],
   "source": [
    "\n",
    "class TimeBlock(nn.Module):\n",
    "    \"\"\"\n",
    "    Neural network block that applies 3 temporal convolutions to each node of a graph in isolation.\n",
    "    \"\"\"\n",
    "\n",
    "    def __init__(self, n_layers, in_channels, out_channels, kernel_size=5, activ = F.relu, dropout = 0, pool_kernel_size = (1,1)):\n",
    "        \"\"\"\n",
    "        :param in_channels: Number of input features at each node in each time step.\n",
    "        :param out_channels: Desired number of output channels at each node in each time step.\n",
    "        :param kernel_size: Size of the 1D temporal kernel.\n",
    "        \"\"\"\n",
    "        super(TimeBlock, self).__init__()\n",
    "        \n",
    "        self.layers = nn.ModuleList()\n",
    "        self.layers.append(nn.Conv2d(in_channels, out_channels, (1, kernel_size)))\n",
    "        for i in range(1, n_layers):\n",
    "            self.layers.append(nn.Conv2d(out_channels, out_channels, (1, kernel_size)))\n",
    "            \n",
    "        self.activ = activ\n",
    "        self.dropout = nn.Dropout2d(dropout)\n",
    "        self.pooling = nn.MaxPool2d(pool_kernel_size)\n",
    "        \n",
    "        for l in self.layers:\n",
    "            nn.init.orthogonal_(l.weight)\n",
    "\n",
    "    def forward(self, X):\n",
    "        \"\"\"\n",
    "        :param X: Input data of shape (batch_size, num_features=in_channels, num_nodes, num_timesteps)\n",
    "        :return: Output data of shape (batch_size, num_features=out_channels, num_nodes, num_timesteps_out)\n",
    "        \"\"\"\n",
    "        for i in range(len(self.layers)):\n",
    "            X = self.layers[i](X)\n",
    "            X = self.activ(X)\n",
    "            X = self.dropout(X)\n",
    "        X = self.pooling(X)\n",
    "                        \n",
    "        return X\n",
    "    \n",
    "    "
   ]
  },
  {
   "cell_type": "markdown",
   "id": "096bbf26",
   "metadata": {},
   "source": [
    "To avoid an abrupt reduction in sequence length at the final stage, intermediate pooling layers are introduced between convolutional layers, allowing for a more gradual and controlled reduction, so that this component is composed of five TimeBlocks with a total $\\sum^5_{t=1} \\sum^{L^{(t)}}_{l=1} d^{(t)}_l(4d^{(t)}_{l+1}+1)$ learnable weights\n",
    "\n",
    "<img src=\"./images/CNN.png\" alt=\"\" />\n",
    "\n",
    "The aim of this architecture is to get a latent representation $\\tilde{x_s}$ of the signal waveform of each station for capturing temporal characteristic patterns.\n"
   ]
  },
  {
   "cell_type": "code",
   "execution_count": 287,
   "id": "1faf2285",
   "metadata": {},
   "outputs": [],
   "source": [
    "\n",
    "        \n",
    "class CNN(nn.Module):\n",
    "\n",
    "    def __init__(self, in_channels, dropout = 0):\n",
    "        \n",
    "        super(CNN, self).__init__()\n",
    "        \n",
    "        self.layers = nn.ModuleList()\n",
    "        self.layers.append(TimeBlock(n_layers = 3, in_channels = in_channels, out_channels = 8, kernel_size = 5, activ = F.relu, dropout = dropout, pool_kernel_size = (1,4)))\n",
    "        self.layers.append(TimeBlock(n_layers = 3, in_channels = 8, out_channels = 16, kernel_size = 5, activ = F.relu, dropout = dropout, pool_kernel_size = (1,4)))\n",
    "        self.layers.append(TimeBlock(n_layers = 3, in_channels = 16, out_channels = 32, kernel_size = 5, activ = F.relu, dropout = dropout, pool_kernel_size = (1,4)))\n",
    "        self.layers.append(TimeBlock(n_layers = 2, in_channels = 32, out_channels = 64, kernel_size = 5, activ = F.relu, dropout = dropout))\n",
    "        self.layers.append(TimeBlock(n_layers = 1, in_channels = 64, out_channels = 64, kernel_size = 5, activ = F.tanh, dropout = 0, pool_kernel_size = (1,16)))\n",
    "        \n",
    "        # Taille du signal\n",
    "        # 2048 -> 2044 -> 2040 -> 2036 -> 509\n",
    "        # 509 -> 505 -> 501 -> 497 -> 124\n",
    "        # 124 -> 120 -> 116 -> 112 -> 28\n",
    "        # 28 -> 24 -> 20 -> 16 -> 1\n",
    "\n",
    "    def forward(self, X):\n",
    "        \"\"\"\n",
    "        :param X: Input data of shape (batch_size, num_features=in_channels, num_nodes, 2048)\n",
    "        :return: Output data of shape (batch_size, num_features=64, num_nodes, 1)\n",
    "        \"\"\"\n",
    "        \n",
    "        for l in self.layers:\n",
    "            X = l(X)\n",
    "            \n",
    "        return X"
   ]
  },
  {
   "cell_type": "markdown",
   "id": "36698984",
   "metadata": {},
   "source": [
    "### FCNN for aggregating latent temporal features with stations geographic coordinates $h^{(2)}_{\\theta^{(2)}}$"
   ]
  },
  {
   "cell_type": "markdown",
   "id": "8ddf6760",
   "metadata": {},
   "source": [
    "From this reduced vector $\\tilde{x_s}$, we want to include the information coming from the geographic coordinates of the stations. To do so, we aggregate the vectors to get an enhanced feature vector $\\hat{x_s} = \\tilde{x_s} || p_s $ on which a TimeBlock is applied for performance improvment and obtain a lower-dimension latent representation vector of the aggregated data.\n",
    "\n",
    "<img src=\"./images/TimeBlock.png\" alt=\"\" />"
   ]
  },
  {
   "cell_type": "markdown",
   "id": "d2dd8e41",
   "metadata": {},
   "source": [
    "### Source parameters prediction with the MLP $h^{(3)}_{\\theta^{(3)}}$"
   ]
  },
  {
   "cell_type": "markdown",
   "id": "1f683665",
   "metadata": {},
   "source": [
    "For the third and last component, we use a component-wise max pooling layer followed by a 2-layers MLP for the prediction of the target source parameters from enhanced feature vectors $\\hat{x_s}$. So that:\n",
    "$$ y = \\sigma_2 \\big(W_2 \\sigma_1(W_1 \\underbrace{z}_{\\max_{1 \\leq s \\leq N} \\hat{x_s}} + b_1) + b_2 \\big)$$\n",
    "\n",
    "<img src=\"./images/MLP.png\" alt=\"\" />"
   ]
  },
  {
   "cell_type": "code",
   "execution_count": 288,
   "id": "3cdea4bf",
   "metadata": {},
   "outputs": [],
   "source": [
    "\n",
    "        \n",
    "       \n",
    "        \n",
    "class MLP(nn.Module):\n",
    "\n",
    "    def __init__(self, num_nodes, in_channels, dropout = 0):\n",
    "\n",
    "        super(MLP, self).__init__()\n",
    "\n",
    "        self.pooling = nn.MaxPool2d((num_nodes,1))\n",
    "        self.MLP1 = nn.Linear(in_channels, 128)\n",
    "        self.MLP2 = nn.Linear(128, 4)\n",
    "        nn.init.orthogonal_(self.MLP1.weight)\n",
    "        nn.init.orthogonal_(self.MLP2.weight)\n",
    "        self.dropout = nn.Dropout(dropout)\n",
    "            \n",
    "\n",
    "    def forward(self, X):\n",
    "        \"\"\"\n",
    "        :param X: Input data of shape (batch_size, in_channels, num_nodes, 1)\n",
    "        :return: Output data of shape (batch_size, 4)\n",
    "        \"\"\"\n",
    "        X = torch.squeeze(self.pooling(X))\n",
    "        X = F.relu(self.MLP1(X))\n",
    "        X = self.dropout(X)\n",
    "        X = F.tanh(self.MLP2(X))\n",
    "        return X"
   ]
  },
  {
   "cell_type": "markdown",
   "id": "98e70a33",
   "metadata": {},
   "source": [
    "### First architecture : Edgeless Graph Neural Network GNN1"
   ]
  },
  {
   "cell_type": "markdown",
   "id": "d3947286",
   "metadata": {},
   "source": [
    "This first architecture with the components set as described below is denoted Edgeless-GNN:\n",
    "<img src=\"./images/GNN1.png\" alt=\"\" />\n",
    "\n",
    "As the operation of $h^{(1)}_{\\theta^{(1)}}$ and $h^{(2)}_{\\theta^{(2)}}$ apply the same operations independently on each element, they are permutation-invariant and even permutation-equivariant (to be checked)\n",
    "\n",
    "This terminology emphasizes the graph-like structure of the input while acknowledging\n",
    "the absence of edge modeling and the architectural simplifications relative to classical\n",
    "GNNs."
   ]
  },
  {
   "cell_type": "code",
   "execution_count": 289,
   "id": "821fe058",
   "metadata": {},
   "outputs": [],
   "source": [
    "\n",
    "        \n",
    "        \n",
    "class GNN1(nn.Module):\n",
    "\n",
    "    def __init__(self, in_channels, pos, dropout = 0):\n",
    "        \"\"\"\n",
    "        :param in_channels: Number of input features at each node in each time step.\n",
    "        :param pos: Positions of stations : shape (2, num_nodes)\n",
    "        \"\"\"\n",
    "        \n",
    "        super(GNN1, self).__init__()\n",
    "        \n",
    "        self.pos = pos\n",
    "        \n",
    "        self.CNNlayer = CNN(in_channels = in_channels, dropout = dropout)\n",
    "        self.sblock = TimeBlock(n_layers = 2, in_channels = 66, out_channels = 128, kernel_size = 1, activ = F.relu, dropout = dropout)\n",
    "        self.MLP = MLP(num_nodes = pos.shape[1], in_channels = 128, dropout = dropout)\n",
    "\n",
    "    def forward(self, X):\n",
    "        \"\"\"\n",
    "        :param X: Input data of shape (batch_size, num_features=in_channels, num_nodes, 2048)\n",
    "        :param pos: Positions of stations : shape (2, num_nodes)\n",
    "        :return: Output data of shape (batch_size, num_features=4)\n",
    "        \"\"\"\n",
    "        \n",
    "        X = self.CNNlayer(X)                                                    # Shape (batch_size, 64, num_nodes, 1)\n",
    "        pos = self.pos.repeat(X.shape[0], 1, 1, 1).permute(0, 2, 3, 1)          # Shape (batch_size, 2, num_nodes, 1)\n",
    "        X = torch.cat((X, pos), 1)                                              # Shape (batch_size, 66, num_nodes, 1)\n",
    "        X = self.sblock(X)\n",
    "        X = self.MLP(X)\n",
    "        return X"
   ]
  },
  {
   "cell_type": "markdown",
   "id": "265f26dc",
   "metadata": {},
   "source": [
    "#### Training"
   ]
  },
  {
   "cell_type": "code",
   "execution_count": 290,
   "id": "70d88790",
   "metadata": {},
   "outputs": [
    {
     "name": "stdout",
     "output_type": "stream",
     "text": [
      "Total params: 110356\n"
     ]
    },
    {
     "data": {
      "text/plain": [
       "==========================================================================================\n",
       "Layer (type:depth-idx)                   Output Shape              Param #\n",
       "==========================================================================================\n",
       "GNN1                                     [4]                       --\n",
       "├─CNN: 1-1                               [1, 64, 42, 1]            --\n",
       "│    └─ModuleList: 2-1                   --                        --\n",
       "│    │    └─TimeBlock: 3-1               [1, 8, 42, 509]           704\n",
       "│    │    └─TimeBlock: 3-2               [1, 16, 42, 124]          3,248\n",
       "│    │    └─TimeBlock: 3-3               [1, 32, 42, 28]           12,896\n",
       "│    │    └─TimeBlock: 3-4               [1, 64, 42, 20]           30,848\n",
       "│    │    └─TimeBlock: 3-5               [1, 64, 42, 1]            20,544\n",
       "├─TimeBlock: 1-2                         [1, 128, 42, 1]           --\n",
       "│    └─ModuleList: 2-4                   --                        (recursive)\n",
       "│    │    └─Conv2d: 3-6                  [1, 128, 42, 1]           8,576\n",
       "│    └─Dropout2d: 2-3                    [1, 128, 42, 1]           --\n",
       "│    └─ModuleList: 2-4                   --                        (recursive)\n",
       "│    │    └─Conv2d: 3-7                  [1, 128, 42, 1]           16,512\n",
       "│    └─Dropout2d: 2-5                    [1, 128, 42, 1]           --\n",
       "│    └─MaxPool2d: 2-6                    [1, 128, 42, 1]           --\n",
       "├─MLP: 1-3                               [4]                       --\n",
       "│    └─MaxPool2d: 2-7                    [1, 128, 1, 1]            --\n",
       "│    └─Linear: 2-8                       [128]                     16,512\n",
       "│    └─Dropout: 2-9                      [128]                     --\n",
       "│    └─Linear: 2-10                      [4]                       516\n",
       "==========================================================================================\n",
       "Total params: 110,356\n",
       "Trainable params: 110,356\n",
       "Non-trainable params: 0\n",
       "Total mult-adds (Units.MEGABYTES): 235.53\n",
       "==========================================================================================\n",
       "Input size (MB): 0.34\n",
       "Forward/backward pass size (MB): 29.65\n",
       "Params size (MB): 0.44\n",
       "Estimated Total Size (MB): 30.44\n",
       "=========================================================================================="
      ]
     },
     "execution_count": 290,
     "metadata": {},
     "output_type": "execute_result"
    }
   ],
   "source": [
    "model = GNN1(x_train.shape[1], pos, dropout_rate).to(device)\n",
    "print('Total params: ' + str(sum(p.numel() for p in model.parameters())))\n",
    "summary(model, [1, 1, 42, 2048])\n"
   ]
  },
  {
   "cell_type": "code",
   "execution_count": 295,
   "id": "46c5b749",
   "metadata": {},
   "outputs": [
    {
     "name": "stderr",
     "output_type": "stream",
     "text": [
      "  0%|          | 1/800 [00:11<2:30:04, 11.27s/it]"
     ]
    },
    {
     "name": "stdout",
     "output_type": "stream",
     "text": [
      "Epoch 1/800: 11.27s - Training loss = 0.002280 - Validation loss = 0.328324\n"
     ]
    },
    {
     "name": "stderr",
     "output_type": "stream",
     "text": [
      "\r",
      "  0%|          | 2/800 [00:22<2:29:02, 11.21s/it]"
     ]
    },
    {
     "name": "stdout",
     "output_type": "stream",
     "text": [
      "Epoch 2/800: 11.16s - Training loss = 0.002687 - Validation loss = 0.322081\n"
     ]
    },
    {
     "name": "stderr",
     "output_type": "stream",
     "text": [
      "\r",
      "  0%|          | 3/800 [00:33<2:30:05, 11.30s/it]"
     ]
    },
    {
     "name": "stdout",
     "output_type": "stream",
     "text": [
      "Epoch 3/800: 11.41s - Training loss = 0.002409 - Validation loss = 0.321468\n"
     ]
    },
    {
     "name": "stderr",
     "output_type": "stream",
     "text": [
      "\r",
      "  0%|          | 4/800 [00:45<2:32:07, 11.47s/it]"
     ]
    },
    {
     "name": "stdout",
     "output_type": "stream",
     "text": [
      "Epoch 4/800: 11.72s - Training loss = 0.002241 - Validation loss = 0.320410\n"
     ]
    },
    {
     "name": "stderr",
     "output_type": "stream",
     "text": [
      "\r",
      "  1%|          | 5/800 [00:57<2:32:07, 11.48s/it]"
     ]
    },
    {
     "name": "stdout",
     "output_type": "stream",
     "text": [
      "Epoch 5/800: 11.51s - Training loss = 0.002362 - Validation loss = 0.319457\n"
     ]
    },
    {
     "name": "stderr",
     "output_type": "stream",
     "text": [
      "\r",
      "  1%|          | 6/800 [01:08<2:33:24, 11.59s/it]"
     ]
    },
    {
     "name": "stdout",
     "output_type": "stream",
     "text": [
      "Epoch 6/800: 11.81s - Training loss = 0.002648 - Validation loss = 0.318933\n"
     ]
    },
    {
     "name": "stderr",
     "output_type": "stream",
     "text": [
      "\r",
      "  1%|          | 7/800 [01:20<2:33:45, 11.63s/it]"
     ]
    },
    {
     "name": "stdout",
     "output_type": "stream",
     "text": [
      "Epoch 7/800: 11.72s - Training loss = 0.002149 - Validation loss = 0.317633\n"
     ]
    },
    {
     "name": "stderr",
     "output_type": "stream",
     "text": [
      "\r",
      "  1%|          | 8/800 [01:32<2:33:25, 11.62s/it]"
     ]
    },
    {
     "name": "stdout",
     "output_type": "stream",
     "text": [
      "Epoch 8/800: 11.60s - Training loss = 0.002296 - Validation loss = 0.318394\n"
     ]
    },
    {
     "name": "stderr",
     "output_type": "stream",
     "text": [
      "\r",
      "  1%|          | 9/800 [01:43<2:33:24, 11.64s/it]"
     ]
    },
    {
     "name": "stdout",
     "output_type": "stream",
     "text": [
      "Epoch 9/800: 11.66s - Training loss = 0.002199 - Validation loss = 0.316835\n"
     ]
    },
    {
     "name": "stderr",
     "output_type": "stream",
     "text": [
      "\r",
      "  1%|▏         | 10/800 [01:55<2:33:37, 11.67s/it]"
     ]
    },
    {
     "name": "stdout",
     "output_type": "stream",
     "text": [
      "Epoch 10/800: 11.74s - Training loss = 0.002492 - Validation loss = 0.313800\n"
     ]
    },
    {
     "name": "stderr",
     "output_type": "stream",
     "text": [
      "\r",
      "  1%|▏         | 11/800 [02:07<2:33:55, 11.71s/it]"
     ]
    },
    {
     "name": "stdout",
     "output_type": "stream",
     "text": [
      "Epoch 11/800: 11.79s - Training loss = 0.002344 - Validation loss = 0.307826\n"
     ]
    },
    {
     "name": "stderr",
     "output_type": "stream",
     "text": [
      "\r",
      "  2%|▏         | 12/800 [02:19<2:34:08, 11.74s/it]"
     ]
    },
    {
     "name": "stdout",
     "output_type": "stream",
     "text": [
      "Epoch 12/800: 11.81s - Training loss = 0.001931 - Validation loss = 0.285070\n"
     ]
    },
    {
     "name": "stderr",
     "output_type": "stream",
     "text": [
      "\r",
      "  2%|▏         | 13/800 [02:30<2:33:44, 11.72s/it]"
     ]
    },
    {
     "name": "stdout",
     "output_type": "stream",
     "text": [
      "Epoch 13/800: 11.68s - Training loss = 0.002042 - Validation loss = 0.242064\n"
     ]
    },
    {
     "name": "stderr",
     "output_type": "stream",
     "text": [
      "\r",
      "  2%|▏         | 14/800 [02:42<2:32:41, 11.66s/it]"
     ]
    },
    {
     "name": "stdout",
     "output_type": "stream",
     "text": [
      "Epoch 14/800: 11.51s - Training loss = 0.001468 - Validation loss = 0.198633\n"
     ]
    },
    {
     "name": "stderr",
     "output_type": "stream",
     "text": [
      "\r",
      "  2%|▏         | 15/800 [02:53<2:32:00, 11.62s/it]"
     ]
    },
    {
     "name": "stdout",
     "output_type": "stream",
     "text": [
      "Epoch 15/800: 11.53s - Training loss = 0.001285 - Validation loss = 0.184466\n"
     ]
    },
    {
     "name": "stderr",
     "output_type": "stream",
     "text": [
      "\r",
      "  2%|▏         | 16/800 [03:05<2:32:55, 11.70s/it]"
     ]
    },
    {
     "name": "stdout",
     "output_type": "stream",
     "text": [
      "Epoch 16/800: 11.90s - Training loss = 0.001242 - Validation loss = 0.172206\n"
     ]
    },
    {
     "name": "stderr",
     "output_type": "stream",
     "text": [
      "\r",
      "  2%|▏         | 17/800 [03:17<2:33:20, 11.75s/it]"
     ]
    },
    {
     "name": "stdout",
     "output_type": "stream",
     "text": [
      "Epoch 17/800: 11.86s - Training loss = 0.001247 - Validation loss = 0.167135\n"
     ]
    },
    {
     "name": "stderr",
     "output_type": "stream",
     "text": [
      "\r",
      "  2%|▏         | 18/800 [03:29<2:33:18, 11.76s/it]"
     ]
    },
    {
     "name": "stdout",
     "output_type": "stream",
     "text": [
      "Epoch 18/800: 11.79s - Training loss = 0.001151 - Validation loss = 0.162938\n"
     ]
    },
    {
     "name": "stderr",
     "output_type": "stream",
     "text": [
      "\r",
      "  2%|▏         | 19/800 [03:41<2:32:33, 11.72s/it]"
     ]
    },
    {
     "name": "stdout",
     "output_type": "stream",
     "text": [
      "Epoch 19/800: 11.62s - Training loss = 0.001004 - Validation loss = 0.161159\n"
     ]
    },
    {
     "name": "stderr",
     "output_type": "stream",
     "text": [
      "\r",
      "  2%|▎         | 20/800 [03:52<2:32:46, 11.75s/it]"
     ]
    },
    {
     "name": "stdout",
     "output_type": "stream",
     "text": [
      "Epoch 20/800: 11.83s - Training loss = 0.000899 - Validation loss = 0.155514\n"
     ]
    },
    {
     "name": "stderr",
     "output_type": "stream",
     "text": [
      "\r",
      "  3%|▎         | 21/800 [04:04<2:32:10, 11.72s/it]"
     ]
    },
    {
     "name": "stdout",
     "output_type": "stream",
     "text": [
      "Epoch 21/800: 11.65s - Training loss = 0.000989 - Validation loss = 0.154730\n"
     ]
    },
    {
     "name": "stderr",
     "output_type": "stream",
     "text": [
      "\r",
      "  3%|▎         | 22/800 [04:16<2:32:32, 11.76s/it]"
     ]
    },
    {
     "name": "stdout",
     "output_type": "stream",
     "text": [
      "Epoch 22/800: 11.86s - Training loss = 0.001004 - Validation loss = 0.149830\n"
     ]
    },
    {
     "name": "stderr",
     "output_type": "stream",
     "text": [
      "\r",
      "  3%|▎         | 23/800 [04:28<2:32:44, 11.79s/it]"
     ]
    },
    {
     "name": "stdout",
     "output_type": "stream",
     "text": [
      "Epoch 23/800: 11.87s - Training loss = 0.000841 - Validation loss = 0.145248\n"
     ]
    },
    {
     "name": "stderr",
     "output_type": "stream",
     "text": [
      "\r",
      "  3%|▎         | 24/800 [04:40<2:33:50, 11.90s/it]"
     ]
    },
    {
     "name": "stdout",
     "output_type": "stream",
     "text": [
      "Epoch 24/800: 12.13s - Training loss = 0.001093 - Validation loss = 0.144271\n"
     ]
    },
    {
     "name": "stderr",
     "output_type": "stream",
     "text": [
      "\r",
      "  3%|▎         | 25/800 [04:52<2:32:54, 11.84s/it]"
     ]
    },
    {
     "name": "stdout",
     "output_type": "stream",
     "text": [
      "Epoch 25/800: 11.70s - Training loss = 0.000833 - Validation loss = 0.141252\n"
     ]
    },
    {
     "name": "stderr",
     "output_type": "stream",
     "text": [
      "\r",
      "  3%|▎         | 26/800 [05:04<2:33:25, 11.89s/it]"
     ]
    },
    {
     "name": "stdout",
     "output_type": "stream",
     "text": [
      "Epoch 26/800: 12.02s - Training loss = 0.000937 - Validation loss = 0.139842\n"
     ]
    },
    {
     "name": "stderr",
     "output_type": "stream",
     "text": [
      "\r",
      "  3%|▎         | 27/800 [05:16<2:33:09, 11.89s/it]"
     ]
    },
    {
     "name": "stdout",
     "output_type": "stream",
     "text": [
      "Epoch 27/800: 11.87s - Training loss = 0.000911 - Validation loss = 0.141541\n"
     ]
    },
    {
     "name": "stderr",
     "output_type": "stream",
     "text": [
      "\r",
      "  4%|▎         | 28/800 [05:28<2:35:09, 12.06s/it]"
     ]
    },
    {
     "name": "stdout",
     "output_type": "stream",
     "text": [
      "Epoch 28/800: 12.46s - Training loss = 0.001057 - Validation loss = 0.139572\n"
     ]
    },
    {
     "name": "stderr",
     "output_type": "stream",
     "text": [
      "\r",
      "  4%|▎         | 29/800 [05:40<2:34:51, 12.05s/it]"
     ]
    },
    {
     "name": "stdout",
     "output_type": "stream",
     "text": [
      "Epoch 29/800: 12.03s - Training loss = 0.000861 - Validation loss = 0.140861\n"
     ]
    },
    {
     "name": "stderr",
     "output_type": "stream",
     "text": [
      "\r",
      "  4%|▍         | 30/800 [05:52<2:35:29, 12.12s/it]"
     ]
    },
    {
     "name": "stdout",
     "output_type": "stream",
     "text": [
      "Epoch 30/800: 12.27s - Training loss = 0.000949 - Validation loss = 0.136560\n"
     ]
    },
    {
     "name": "stderr",
     "output_type": "stream",
     "text": [
      "\r",
      "  4%|▍         | 31/800 [06:05<2:35:50, 12.16s/it]"
     ]
    },
    {
     "name": "stdout",
     "output_type": "stream",
     "text": [
      "Epoch 31/800: 12.26s - Training loss = 0.001123 - Validation loss = 0.134531\n"
     ]
    },
    {
     "name": "stderr",
     "output_type": "stream",
     "text": [
      "\r",
      "  4%|▍         | 32/800 [06:17<2:34:56, 12.10s/it]"
     ]
    },
    {
     "name": "stdout",
     "output_type": "stream",
     "text": [
      "Epoch 32/800: 11.98s - Training loss = 0.000852 - Validation loss = 0.138070\n"
     ]
    },
    {
     "name": "stderr",
     "output_type": "stream",
     "text": [
      "\r",
      "  4%|▍         | 33/800 [06:29<2:34:44, 12.10s/it]"
     ]
    },
    {
     "name": "stdout",
     "output_type": "stream",
     "text": [
      "Epoch 33/800: 12.10s - Training loss = 0.000825 - Validation loss = 0.131893\n"
     ]
    },
    {
     "name": "stderr",
     "output_type": "stream",
     "text": [
      "\r",
      "  4%|▍         | 34/800 [06:41<2:34:29, 12.10s/it]"
     ]
    },
    {
     "name": "stdout",
     "output_type": "stream",
     "text": [
      "Epoch 34/800: 12.09s - Training loss = 0.000942 - Validation loss = 0.133661\n"
     ]
    },
    {
     "name": "stderr",
     "output_type": "stream",
     "text": [
      "\r",
      "  4%|▍         | 35/800 [06:53<2:33:52, 12.07s/it]"
     ]
    },
    {
     "name": "stdout",
     "output_type": "stream",
     "text": [
      "Epoch 35/800: 11.99s - Training loss = 0.000850 - Validation loss = 0.132362\n"
     ]
    },
    {
     "name": "stderr",
     "output_type": "stream",
     "text": [
      "\r",
      "  4%|▍         | 36/800 [07:05<2:33:38, 12.07s/it]"
     ]
    },
    {
     "name": "stdout",
     "output_type": "stream",
     "text": [
      "Epoch 36/800: 12.06s - Training loss = 0.001041 - Validation loss = 0.131779\n"
     ]
    },
    {
     "name": "stderr",
     "output_type": "stream",
     "text": [
      "\r",
      "  5%|▍         | 37/800 [07:17<2:34:09, 12.12s/it]"
     ]
    },
    {
     "name": "stdout",
     "output_type": "stream",
     "text": [
      "Epoch 37/800: 12.25s - Training loss = 0.000861 - Validation loss = 0.129542\n"
     ]
    },
    {
     "name": "stderr",
     "output_type": "stream",
     "text": [
      "\r",
      "  5%|▍         | 38/800 [07:29<2:34:33, 12.17s/it]"
     ]
    },
    {
     "name": "stdout",
     "output_type": "stream",
     "text": [
      "Epoch 38/800: 12.28s - Training loss = 0.000991 - Validation loss = 0.128839\n"
     ]
    },
    {
     "name": "stderr",
     "output_type": "stream",
     "text": [
      "\r",
      "  5%|▍         | 39/800 [07:41<2:33:06, 12.07s/it]"
     ]
    },
    {
     "name": "stdout",
     "output_type": "stream",
     "text": [
      "Epoch 39/800: 11.84s - Training loss = 0.000853 - Validation loss = 0.128535\n"
     ]
    },
    {
     "name": "stderr",
     "output_type": "stream",
     "text": [
      "\r",
      "  5%|▌         | 40/800 [07:53<2:32:47, 12.06s/it]"
     ]
    },
    {
     "name": "stdout",
     "output_type": "stream",
     "text": [
      "Epoch 40/800: 12.04s - Training loss = 0.000965 - Validation loss = 0.127766\n"
     ]
    },
    {
     "name": "stderr",
     "output_type": "stream",
     "text": [
      "\r",
      "  5%|▌         | 41/800 [08:05<2:32:05, 12.02s/it]"
     ]
    },
    {
     "name": "stdout",
     "output_type": "stream",
     "text": [
      "Epoch 41/800: 11.93s - Training loss = 0.001137 - Validation loss = 0.128521\n"
     ]
    },
    {
     "name": "stderr",
     "output_type": "stream",
     "text": [
      "\r",
      "  5%|▌         | 42/800 [08:17<2:32:27, 12.07s/it]"
     ]
    },
    {
     "name": "stdout",
     "output_type": "stream",
     "text": [
      "Epoch 42/800: 12.17s - Training loss = 0.000839 - Validation loss = 0.131486\n"
     ]
    },
    {
     "name": "stderr",
     "output_type": "stream",
     "text": [
      "\r",
      "  5%|▌         | 43/800 [08:29<2:31:48, 12.03s/it]"
     ]
    },
    {
     "name": "stdout",
     "output_type": "stream",
     "text": [
      "Epoch 43/800: 11.95s - Training loss = 0.000879 - Validation loss = 0.129328\n"
     ]
    },
    {
     "name": "stderr",
     "output_type": "stream",
     "text": [
      "\r",
      "  6%|▌         | 44/800 [08:41<2:31:26, 12.02s/it]"
     ]
    },
    {
     "name": "stdout",
     "output_type": "stream",
     "text": [
      "Epoch 44/800: 11.99s - Training loss = 0.000805 - Validation loss = 0.129632\n"
     ]
    },
    {
     "name": "stderr",
     "output_type": "stream",
     "text": [
      "\r",
      "  6%|▌         | 45/800 [08:53<2:31:19, 12.03s/it]"
     ]
    },
    {
     "name": "stdout",
     "output_type": "stream",
     "text": [
      "Epoch 45/800: 12.04s - Training loss = 0.000938 - Validation loss = 0.126641\n"
     ]
    },
    {
     "name": "stderr",
     "output_type": "stream",
     "text": [
      "\r",
      "  6%|▌         | 46/800 [09:05<2:30:41, 11.99s/it]"
     ]
    },
    {
     "name": "stdout",
     "output_type": "stream",
     "text": [
      "Epoch 46/800: 11.91s - Training loss = 0.000752 - Validation loss = 0.127325\n"
     ]
    },
    {
     "name": "stderr",
     "output_type": "stream",
     "text": [
      "\r",
      "  6%|▌         | 47/800 [09:17<2:30:19, 11.98s/it]"
     ]
    },
    {
     "name": "stdout",
     "output_type": "stream",
     "text": [
      "Epoch 47/800: 11.95s - Training loss = 0.000930 - Validation loss = 0.122774\n"
     ]
    },
    {
     "name": "stderr",
     "output_type": "stream",
     "text": [
      "\r",
      "  6%|▌         | 48/800 [09:30<2:31:40, 12.10s/it]"
     ]
    },
    {
     "name": "stdout",
     "output_type": "stream",
     "text": [
      "Epoch 48/800: 12.39s - Training loss = 0.000977 - Validation loss = 0.125799\n"
     ]
    },
    {
     "name": "stderr",
     "output_type": "stream",
     "text": [
      "\r",
      "  6%|▌         | 49/800 [09:42<2:32:17, 12.17s/it]"
     ]
    },
    {
     "name": "stdout",
     "output_type": "stream",
     "text": [
      "Epoch 49/800: 12.32s - Training loss = 0.000598 - Validation loss = 0.121110\n"
     ]
    },
    {
     "name": "stderr",
     "output_type": "stream",
     "text": [
      "\r",
      "  6%|▋         | 50/800 [09:54<2:31:59, 12.16s/it]"
     ]
    },
    {
     "name": "stdout",
     "output_type": "stream",
     "text": [
      "Epoch 50/800: 12.14s - Training loss = 0.000934 - Validation loss = 0.124670\n"
     ]
    },
    {
     "name": "stderr",
     "output_type": "stream",
     "text": [
      "\r",
      "  6%|▋         | 51/800 [10:06<2:31:41, 12.15s/it]"
     ]
    },
    {
     "name": "stdout",
     "output_type": "stream",
     "text": [
      "Epoch 51/800: 12.13s - Training loss = 0.000736 - Validation loss = 0.124171\n"
     ]
    },
    {
     "name": "stderr",
     "output_type": "stream",
     "text": [
      "\r",
      "  6%|▋         | 52/800 [10:18<2:30:44, 12.09s/it]"
     ]
    },
    {
     "name": "stdout",
     "output_type": "stream",
     "text": [
      "Epoch 52/800: 11.95s - Training loss = 0.000800 - Validation loss = 0.123378\n"
     ]
    },
    {
     "name": "stderr",
     "output_type": "stream",
     "text": [
      "\r",
      "  7%|▋         | 53/800 [10:30<2:30:08, 12.06s/it]"
     ]
    },
    {
     "name": "stdout",
     "output_type": "stream",
     "text": [
      "Epoch 53/800: 11.98s - Training loss = 0.000786 - Validation loss = 0.121533\n"
     ]
    },
    {
     "name": "stderr",
     "output_type": "stream",
     "text": [
      "\r",
      "  7%|▋         | 54/800 [10:42<2:29:16, 12.01s/it]"
     ]
    },
    {
     "name": "stdout",
     "output_type": "stream",
     "text": [
      "Epoch 54/800: 11.88s - Training loss = 0.000748 - Validation loss = 0.124152\n"
     ]
    },
    {
     "name": "stderr",
     "output_type": "stream",
     "text": [
      "\r",
      "  7%|▋         | 55/800 [10:54<2:28:04, 11.93s/it]"
     ]
    },
    {
     "name": "stdout",
     "output_type": "stream",
     "text": [
      "Epoch 55/800: 11.74s - Training loss = 0.000768 - Validation loss = 0.124155\n"
     ]
    },
    {
     "name": "stderr",
     "output_type": "stream",
     "text": [
      "\r",
      "  7%|▋         | 56/800 [11:05<2:27:17, 11.88s/it]"
     ]
    },
    {
     "name": "stdout",
     "output_type": "stream",
     "text": [
      "Epoch 56/800: 11.77s - Training loss = 0.000767 - Validation loss = 0.120453\n"
     ]
    },
    {
     "name": "stderr",
     "output_type": "stream",
     "text": [
      "\r",
      "  7%|▋         | 57/800 [11:17<2:27:17, 11.89s/it]"
     ]
    },
    {
     "name": "stdout",
     "output_type": "stream",
     "text": [
      "Epoch 57/800: 11.93s - Training loss = 0.000743 - Validation loss = 0.121536\n"
     ]
    },
    {
     "name": "stderr",
     "output_type": "stream",
     "text": [
      "\r",
      "  7%|▋         | 58/800 [11:29<2:27:03, 11.89s/it]"
     ]
    },
    {
     "name": "stdout",
     "output_type": "stream",
     "text": [
      "Epoch 58/800: 11.89s - Training loss = 0.000807 - Validation loss = 0.120668\n"
     ]
    },
    {
     "name": "stderr",
     "output_type": "stream",
     "text": [
      "\r",
      "  7%|▋         | 59/800 [11:41<2:27:06, 11.91s/it]"
     ]
    },
    {
     "name": "stdout",
     "output_type": "stream",
     "text": [
      "Epoch 59/800: 11.96s - Training loss = 0.000789 - Validation loss = 0.119866\n"
     ]
    },
    {
     "name": "stderr",
     "output_type": "stream",
     "text": [
      "\r",
      "  8%|▊         | 60/800 [11:53<2:26:56, 11.91s/it]"
     ]
    },
    {
     "name": "stdout",
     "output_type": "stream",
     "text": [
      "Epoch 60/800: 11.92s - Training loss = 0.000880 - Validation loss = 0.121117\n"
     ]
    },
    {
     "name": "stderr",
     "output_type": "stream",
     "text": [
      "\r",
      "  8%|▊         | 61/800 [12:05<2:27:03, 11.94s/it]"
     ]
    },
    {
     "name": "stdout",
     "output_type": "stream",
     "text": [
      "Epoch 61/800: 12.00s - Training loss = 0.000660 - Validation loss = 0.117571\n"
     ]
    },
    {
     "name": "stderr",
     "output_type": "stream",
     "text": [
      "\r",
      "  8%|▊         | 62/800 [12:17<2:26:24, 11.90s/it]"
     ]
    },
    {
     "name": "stdout",
     "output_type": "stream",
     "text": [
      "Epoch 62/800: 11.82s - Training loss = 0.000675 - Validation loss = 0.120537\n"
     ]
    },
    {
     "name": "stderr",
     "output_type": "stream",
     "text": [
      "\r",
      "  8%|▊         | 63/800 [12:29<2:25:07, 11.82s/it]"
     ]
    },
    {
     "name": "stdout",
     "output_type": "stream",
     "text": [
      "Epoch 63/800: 11.61s - Training loss = 0.000807 - Validation loss = 0.121226\n"
     ]
    },
    {
     "name": "stderr",
     "output_type": "stream",
     "text": [
      "\r",
      "  8%|▊         | 64/800 [12:40<2:24:10, 11.75s/it]"
     ]
    },
    {
     "name": "stdout",
     "output_type": "stream",
     "text": [
      "Epoch 64/800: 11.61s - Training loss = 0.000784 - Validation loss = 0.118971\n"
     ]
    },
    {
     "name": "stderr",
     "output_type": "stream",
     "text": [
      "\r",
      "  8%|▊         | 65/800 [12:52<2:23:35, 11.72s/it]"
     ]
    },
    {
     "name": "stdout",
     "output_type": "stream",
     "text": [
      "Epoch 65/800: 11.65s - Training loss = 0.000759 - Validation loss = 0.121590\n"
     ]
    },
    {
     "name": "stderr",
     "output_type": "stream",
     "text": [
      "\r",
      "  8%|▊         | 66/800 [13:03<2:23:03, 11.69s/it]"
     ]
    },
    {
     "name": "stdout",
     "output_type": "stream",
     "text": [
      "Epoch 66/800: 11.63s - Training loss = 0.000701 - Validation loss = 0.116591\n"
     ]
    },
    {
     "name": "stderr",
     "output_type": "stream",
     "text": [
      "\r",
      "  8%|▊         | 67/800 [13:15<2:22:34, 11.67s/it]"
     ]
    },
    {
     "name": "stdout",
     "output_type": "stream",
     "text": [
      "Epoch 67/800: 11.62s - Training loss = 0.000895 - Validation loss = 0.118285\n"
     ]
    },
    {
     "name": "stderr",
     "output_type": "stream",
     "text": [
      "\r",
      "  8%|▊         | 68/800 [13:27<2:22:06, 11.65s/it]"
     ]
    },
    {
     "name": "stdout",
     "output_type": "stream",
     "text": [
      "Epoch 68/800: 11.59s - Training loss = 0.000797 - Validation loss = 0.118823\n"
     ]
    },
    {
     "name": "stderr",
     "output_type": "stream",
     "text": [
      "\r",
      "  9%|▊         | 69/800 [13:38<2:21:52, 11.64s/it]"
     ]
    },
    {
     "name": "stdout",
     "output_type": "stream",
     "text": [
      "Epoch 69/800: 11.64s - Training loss = 0.000697 - Validation loss = 0.120813\n"
     ]
    },
    {
     "name": "stderr",
     "output_type": "stream",
     "text": [
      "\r",
      "  9%|▉         | 70/800 [13:50<2:21:52, 11.66s/it]"
     ]
    },
    {
     "name": "stdout",
     "output_type": "stream",
     "text": [
      "Epoch 70/800: 11.70s - Training loss = 0.000640 - Validation loss = 0.117971\n"
     ]
    },
    {
     "name": "stderr",
     "output_type": "stream",
     "text": [
      "\r",
      "  9%|▉         | 71/800 [14:02<2:21:49, 11.67s/it]"
     ]
    },
    {
     "name": "stdout",
     "output_type": "stream",
     "text": [
      "Epoch 71/800: 11.70s - Training loss = 0.000612 - Validation loss = 0.115994\n"
     ]
    },
    {
     "name": "stderr",
     "output_type": "stream",
     "text": [
      "\r",
      "  9%|▉         | 72/800 [14:14<2:22:20, 11.73s/it]"
     ]
    },
    {
     "name": "stdout",
     "output_type": "stream",
     "text": [
      "Epoch 72/800: 11.87s - Training loss = 0.000747 - Validation loss = 0.118502\n"
     ]
    },
    {
     "name": "stderr",
     "output_type": "stream",
     "text": [
      "\r",
      "  9%|▉         | 73/800 [14:26<2:23:14, 11.82s/it]"
     ]
    },
    {
     "name": "stdout",
     "output_type": "stream",
     "text": [
      "Epoch 73/800: 12.03s - Training loss = 0.000785 - Validation loss = 0.116883\n"
     ]
    },
    {
     "name": "stderr",
     "output_type": "stream",
     "text": [
      "\r",
      "  9%|▉         | 74/800 [14:37<2:23:12, 11.84s/it]"
     ]
    },
    {
     "name": "stdout",
     "output_type": "stream",
     "text": [
      "Epoch 74/800: 11.87s - Training loss = 0.000722 - Validation loss = 0.115782\n"
     ]
    },
    {
     "name": "stderr",
     "output_type": "stream",
     "text": [
      "\r",
      "  9%|▉         | 75/800 [14:49<2:22:14, 11.77s/it]"
     ]
    },
    {
     "name": "stdout",
     "output_type": "stream",
     "text": [
      "Epoch 75/800: 11.62s - Training loss = 0.000690 - Validation loss = 0.116336\n"
     ]
    },
    {
     "name": "stderr",
     "output_type": "stream",
     "text": [
      "\r",
      " 10%|▉         | 76/800 [15:01<2:21:28, 11.72s/it]"
     ]
    },
    {
     "name": "stdout",
     "output_type": "stream",
     "text": [
      "Epoch 76/800: 11.61s - Training loss = 0.000802 - Validation loss = 0.118366\n"
     ]
    },
    {
     "name": "stderr",
     "output_type": "stream",
     "text": [
      "\r",
      " 10%|▉         | 77/800 [15:12<2:21:27, 11.74s/it]"
     ]
    },
    {
     "name": "stdout",
     "output_type": "stream",
     "text": [
      "Epoch 77/800: 11.77s - Training loss = 0.000587 - Validation loss = 0.115674\n"
     ]
    },
    {
     "name": "stderr",
     "output_type": "stream",
     "text": [
      "\r",
      " 10%|▉         | 78/800 [15:24<2:20:48, 11.70s/it]"
     ]
    },
    {
     "name": "stdout",
     "output_type": "stream",
     "text": [
      "Epoch 78/800: 11.61s - Training loss = 0.000732 - Validation loss = 0.117688\n"
     ]
    },
    {
     "name": "stderr",
     "output_type": "stream",
     "text": [
      "\r",
      " 10%|▉         | 79/800 [15:36<2:20:31, 11.69s/it]"
     ]
    },
    {
     "name": "stdout",
     "output_type": "stream",
     "text": [
      "Epoch 79/800: 11.68s - Training loss = 0.000672 - Validation loss = 0.114393\n"
     ]
    },
    {
     "name": "stderr",
     "output_type": "stream",
     "text": [
      "\r",
      " 10%|█         | 80/800 [15:47<2:20:05, 11.67s/it]"
     ]
    },
    {
     "name": "stdout",
     "output_type": "stream",
     "text": [
      "Epoch 80/800: 11.62s - Training loss = 0.000689 - Validation loss = 0.113073\n"
     ]
    },
    {
     "name": "stderr",
     "output_type": "stream",
     "text": [
      "\r",
      " 10%|█         | 81/800 [15:59<2:19:38, 11.65s/it]"
     ]
    },
    {
     "name": "stdout",
     "output_type": "stream",
     "text": [
      "Epoch 81/800: 11.60s - Training loss = 0.000724 - Validation loss = 0.116372\n"
     ]
    },
    {
     "name": "stderr",
     "output_type": "stream",
     "text": [
      "\r",
      " 10%|█         | 82/800 [16:11<2:19:18, 11.64s/it]"
     ]
    },
    {
     "name": "stdout",
     "output_type": "stream",
     "text": [
      "Epoch 82/800: 11.61s - Training loss = 0.000737 - Validation loss = 0.115943\n"
     ]
    },
    {
     "name": "stderr",
     "output_type": "stream",
     "text": [
      "\r",
      " 10%|█         | 83/800 [16:22<2:18:58, 11.63s/it]"
     ]
    },
    {
     "name": "stdout",
     "output_type": "stream",
     "text": [
      "Epoch 83/800: 11.60s - Training loss = 0.000599 - Validation loss = 0.116061\n"
     ]
    },
    {
     "name": "stderr",
     "output_type": "stream",
     "text": [
      "\r",
      " 10%|█         | 84/800 [16:34<2:18:47, 11.63s/it]"
     ]
    },
    {
     "name": "stdout",
     "output_type": "stream",
     "text": [
      "Epoch 84/800: 11.63s - Training loss = 0.000707 - Validation loss = 0.113573\n"
     ]
    },
    {
     "name": "stderr",
     "output_type": "stream",
     "text": [
      "\r",
      " 11%|█         | 85/800 [16:46<2:19:54, 11.74s/it]"
     ]
    },
    {
     "name": "stdout",
     "output_type": "stream",
     "text": [
      "Epoch 85/800: 12.00s - Training loss = 0.000566 - Validation loss = 0.112925\n"
     ]
    },
    {
     "name": "stderr",
     "output_type": "stream",
     "text": [
      "\r",
      " 11%|█         | 86/800 [16:58<2:20:04, 11.77s/it]"
     ]
    },
    {
     "name": "stdout",
     "output_type": "stream",
     "text": [
      "Epoch 86/800: 11.84s - Training loss = 0.000701 - Validation loss = 0.113259\n"
     ]
    },
    {
     "name": "stderr",
     "output_type": "stream",
     "text": [
      "\r",
      " 11%|█         | 87/800 [17:10<2:20:05, 11.79s/it]"
     ]
    },
    {
     "name": "stdout",
     "output_type": "stream",
     "text": [
      "Epoch 87/800: 11.83s - Training loss = 0.000737 - Validation loss = 0.115748\n"
     ]
    },
    {
     "name": "stderr",
     "output_type": "stream",
     "text": [
      "\r",
      " 11%|█         | 88/800 [17:21<2:20:02, 11.80s/it]"
     ]
    },
    {
     "name": "stdout",
     "output_type": "stream",
     "text": [
      "Epoch 88/800: 11.83s - Training loss = 0.000590 - Validation loss = 0.113908\n"
     ]
    },
    {
     "name": "stderr",
     "output_type": "stream",
     "text": [
      "\r",
      " 11%|█         | 89/800 [17:33<2:20:00, 11.81s/it]"
     ]
    },
    {
     "name": "stdout",
     "output_type": "stream",
     "text": [
      "Epoch 89/800: 11.84s - Training loss = 0.000599 - Validation loss = 0.115238\n"
     ]
    },
    {
     "name": "stderr",
     "output_type": "stream",
     "text": [
      "\r",
      " 11%|█▏        | 90/800 [17:45<2:19:39, 11.80s/it]"
     ]
    },
    {
     "name": "stdout",
     "output_type": "stream",
     "text": [
      "Epoch 90/800: 11.77s - Training loss = 0.000639 - Validation loss = 0.114085\n"
     ]
    },
    {
     "name": "stderr",
     "output_type": "stream",
     "text": [
      "\r",
      " 11%|█▏        | 91/800 [17:57<2:19:38, 11.82s/it]"
     ]
    },
    {
     "name": "stdout",
     "output_type": "stream",
     "text": [
      "Epoch 91/800: 11.85s - Training loss = 0.000647 - Validation loss = 0.112709\n"
     ]
    },
    {
     "name": "stderr",
     "output_type": "stream",
     "text": [
      "\r",
      " 12%|█▏        | 92/800 [18:08<2:18:27, 11.73s/it]"
     ]
    },
    {
     "name": "stdout",
     "output_type": "stream",
     "text": [
      "Epoch 92/800: 11.54s - Training loss = 0.000546 - Validation loss = 0.113886\n"
     ]
    },
    {
     "name": "stderr",
     "output_type": "stream",
     "text": [
      "\r",
      " 12%|█▏        | 93/800 [18:20<2:17:35, 11.68s/it]"
     ]
    },
    {
     "name": "stdout",
     "output_type": "stream",
     "text": [
      "Epoch 93/800: 11.54s - Training loss = 0.000554 - Validation loss = 0.116819\n"
     ]
    },
    {
     "name": "stderr",
     "output_type": "stream",
     "text": [
      "\r",
      " 12%|█▏        | 94/800 [18:32<2:18:34, 11.78s/it]"
     ]
    },
    {
     "name": "stdout",
     "output_type": "stream",
     "text": [
      "Epoch 94/800: 12.01s - Training loss = 0.000751 - Validation loss = 0.112003\n"
     ]
    },
    {
     "name": "stderr",
     "output_type": "stream",
     "text": [
      "\r",
      " 12%|█▏        | 95/800 [18:44<2:20:07, 11.93s/it]"
     ]
    },
    {
     "name": "stdout",
     "output_type": "stream",
     "text": [
      "Epoch 95/800: 12.27s - Training loss = 0.000591 - Validation loss = 0.115705\n"
     ]
    },
    {
     "name": "stderr",
     "output_type": "stream",
     "text": [
      "\r",
      " 12%|█▏        | 96/800 [18:56<2:21:15, 12.04s/it]"
     ]
    },
    {
     "name": "stdout",
     "output_type": "stream",
     "text": [
      "Epoch 96/800: 12.30s - Training loss = 0.000513 - Validation loss = 0.114089\n"
     ]
    },
    {
     "name": "stderr",
     "output_type": "stream",
     "text": [
      "\r",
      " 12%|█▏        | 97/800 [19:08<2:20:14, 11.97s/it]"
     ]
    },
    {
     "name": "stdout",
     "output_type": "stream",
     "text": [
      "Epoch 97/800: 11.81s - Training loss = 0.000656 - Validation loss = 0.113118\n"
     ]
    },
    {
     "name": "stderr",
     "output_type": "stream",
     "text": [
      "\r",
      " 12%|█▏        | 98/800 [19:20<2:19:37, 11.93s/it]"
     ]
    },
    {
     "name": "stdout",
     "output_type": "stream",
     "text": [
      "Epoch 98/800: 11.85s - Training loss = 0.000587 - Validation loss = 0.117685\n"
     ]
    },
    {
     "name": "stderr",
     "output_type": "stream",
     "text": [
      "\r",
      " 12%|█▏        | 99/800 [19:32<2:20:04, 11.99s/it]"
     ]
    },
    {
     "name": "stdout",
     "output_type": "stream",
     "text": [
      "Epoch 99/800: 12.12s - Training loss = 0.000684 - Validation loss = 0.114382\n"
     ]
    },
    {
     "name": "stderr",
     "output_type": "stream",
     "text": [
      "\r",
      " 12%|█▎        | 100/800 [19:44<2:19:37, 11.97s/it]"
     ]
    },
    {
     "name": "stdout",
     "output_type": "stream",
     "text": [
      "Epoch 100/800: 11.91s - Training loss = 0.000597 - Validation loss = 0.115415\n"
     ]
    },
    {
     "name": "stderr",
     "output_type": "stream",
     "text": [
      "\r",
      " 13%|█▎        | 101/800 [19:56<2:18:20, 11.87s/it]"
     ]
    },
    {
     "name": "stdout",
     "output_type": "stream",
     "text": [
      "Epoch 101/800: 11.66s - Training loss = 0.000560 - Validation loss = 0.115354\n"
     ]
    },
    {
     "name": "stderr",
     "output_type": "stream",
     "text": [
      "\r",
      " 13%|█▎        | 102/800 [20:08<2:18:05, 11.87s/it]"
     ]
    },
    {
     "name": "stdout",
     "output_type": "stream",
     "text": [
      "Epoch 102/800: 11.86s - Training loss = 0.000674 - Validation loss = 0.115611\n"
     ]
    },
    {
     "name": "stderr",
     "output_type": "stream",
     "text": [
      "\r",
      " 13%|█▎        | 103/800 [20:20<2:18:21, 11.91s/it]"
     ]
    },
    {
     "name": "stdout",
     "output_type": "stream",
     "text": [
      "Epoch 103/800: 12.00s - Training loss = 0.000561 - Validation loss = 0.114870\n"
     ]
    },
    {
     "name": "stderr",
     "output_type": "stream",
     "text": [
      "\r",
      " 13%|█▎        | 104/800 [20:32<2:18:37, 11.95s/it]"
     ]
    },
    {
     "name": "stdout",
     "output_type": "stream",
     "text": [
      "Epoch 104/800: 12.04s - Training loss = 0.000631 - Validation loss = 0.112311\n"
     ]
    },
    {
     "name": "stderr",
     "output_type": "stream",
     "text": [
      "\r",
      " 13%|█▎        | 105/800 [20:44<2:17:58, 11.91s/it]"
     ]
    },
    {
     "name": "stdout",
     "output_type": "stream",
     "text": [
      "Epoch 105/800: 11.82s - Training loss = 0.000554 - Validation loss = 0.112081\n"
     ]
    },
    {
     "name": "stderr",
     "output_type": "stream",
     "text": [
      "\r",
      " 13%|█▎        | 106/800 [20:56<2:18:11, 11.95s/it]"
     ]
    },
    {
     "name": "stdout",
     "output_type": "stream",
     "text": [
      "Epoch 106/800: 12.03s - Training loss = 0.000576 - Validation loss = 0.113388\n"
     ]
    },
    {
     "name": "stderr",
     "output_type": "stream",
     "text": [
      "\r",
      " 13%|█▎        | 107/800 [21:08<2:18:15, 11.97s/it]"
     ]
    },
    {
     "name": "stdout",
     "output_type": "stream",
     "text": [
      "Epoch 107/800: 12.02s - Training loss = 0.000566 - Validation loss = 0.114313\n"
     ]
    },
    {
     "name": "stderr",
     "output_type": "stream",
     "text": [
      "\r",
      " 14%|█▎        | 108/800 [21:19<2:17:42, 11.94s/it]"
     ]
    },
    {
     "name": "stdout",
     "output_type": "stream",
     "text": [
      "Epoch 108/800: 11.87s - Training loss = 0.000557 - Validation loss = 0.115030\n"
     ]
    },
    {
     "name": "stderr",
     "output_type": "stream",
     "text": [
      "\r",
      " 14%|█▎        | 109/800 [21:32<2:17:54, 11.97s/it]"
     ]
    },
    {
     "name": "stdout",
     "output_type": "stream",
     "text": [
      "Epoch 109/800: 12.05s - Training loss = 0.000571 - Validation loss = 0.110692\n"
     ]
    },
    {
     "name": "stderr",
     "output_type": "stream",
     "text": [
      "\r",
      " 14%|█▍        | 110/800 [21:44<2:18:23, 12.03s/it]"
     ]
    },
    {
     "name": "stdout",
     "output_type": "stream",
     "text": [
      "Epoch 110/800: 12.17s - Training loss = 0.000552 - Validation loss = 0.113768\n"
     ]
    },
    {
     "name": "stderr",
     "output_type": "stream",
     "text": [
      "\r",
      " 14%|█▍        | 111/800 [21:56<2:18:29, 12.06s/it]"
     ]
    },
    {
     "name": "stdout",
     "output_type": "stream",
     "text": [
      "Epoch 111/800: 12.12s - Training loss = 0.000671 - Validation loss = 0.110521\n"
     ]
    },
    {
     "name": "stderr",
     "output_type": "stream",
     "text": [
      "\r",
      " 14%|█▍        | 112/800 [22:08<2:18:35, 12.09s/it]"
     ]
    },
    {
     "name": "stdout",
     "output_type": "stream",
     "text": [
      "Epoch 112/800: 12.15s - Training loss = 0.000544 - Validation loss = 0.110105\n"
     ]
    },
    {
     "name": "stderr",
     "output_type": "stream",
     "text": [
      "\r",
      " 14%|█▍        | 113/800 [22:20<2:18:23, 12.09s/it]"
     ]
    },
    {
     "name": "stdout",
     "output_type": "stream",
     "text": [
      "Epoch 113/800: 12.09s - Training loss = 0.000574 - Validation loss = 0.113798\n"
     ]
    },
    {
     "name": "stderr",
     "output_type": "stream",
     "text": [
      "\r",
      " 14%|█▍        | 114/800 [22:33<2:19:34, 12.21s/it]"
     ]
    },
    {
     "name": "stdout",
     "output_type": "stream",
     "text": [
      "Epoch 114/800: 12.49s - Training loss = 0.000500 - Validation loss = 0.112723\n"
     ]
    },
    {
     "name": "stderr",
     "output_type": "stream",
     "text": [
      "\r",
      " 14%|█▍        | 115/800 [22:44<2:18:24, 12.12s/it]"
     ]
    },
    {
     "name": "stdout",
     "output_type": "stream",
     "text": [
      "Epoch 115/800: 11.92s - Training loss = 0.000616 - Validation loss = 0.113726\n"
     ]
    },
    {
     "name": "stderr",
     "output_type": "stream",
     "text": [
      "\r",
      " 14%|█▍        | 116/800 [22:57<2:18:12, 12.12s/it]"
     ]
    },
    {
     "name": "stdout",
     "output_type": "stream",
     "text": [
      "Epoch 116/800: 12.12s - Training loss = 0.000526 - Validation loss = 0.111967\n"
     ]
    },
    {
     "name": "stderr",
     "output_type": "stream",
     "text": [
      "\r",
      " 15%|█▍        | 117/800 [23:09<2:18:13, 12.14s/it]"
     ]
    },
    {
     "name": "stdout",
     "output_type": "stream",
     "text": [
      "Epoch 117/800: 12.19s - Training loss = 0.000526 - Validation loss = 0.112308\n"
     ]
    },
    {
     "name": "stderr",
     "output_type": "stream",
     "text": [
      "\r",
      " 15%|█▍        | 118/800 [23:21<2:17:04, 12.06s/it]"
     ]
    },
    {
     "name": "stdout",
     "output_type": "stream",
     "text": [
      "Epoch 118/800: 11.86s - Training loss = 0.000506 - Validation loss = 0.111190\n"
     ]
    },
    {
     "name": "stderr",
     "output_type": "stream",
     "text": [
      "\r",
      " 15%|█▍        | 119/800 [23:33<2:16:50, 12.06s/it]"
     ]
    },
    {
     "name": "stdout",
     "output_type": "stream",
     "text": [
      "Epoch 119/800: 12.05s - Training loss = 0.000535 - Validation loss = 0.110168\n"
     ]
    },
    {
     "name": "stderr",
     "output_type": "stream",
     "text": [
      "\r",
      " 15%|█▌        | 120/800 [23:45<2:16:33, 12.05s/it]"
     ]
    },
    {
     "name": "stdout",
     "output_type": "stream",
     "text": [
      "Epoch 120/800: 12.03s - Training loss = 0.000587 - Validation loss = 0.112537\n"
     ]
    },
    {
     "name": "stderr",
     "output_type": "stream",
     "text": [
      "\r",
      " 15%|█▌        | 121/800 [23:57<2:16:25, 12.05s/it]"
     ]
    },
    {
     "name": "stdout",
     "output_type": "stream",
     "text": [
      "Epoch 121/800: 12.07s - Training loss = 0.000614 - Validation loss = 0.111844\n"
     ]
    },
    {
     "name": "stderr",
     "output_type": "stream",
     "text": [
      "\r",
      " 15%|█▌        | 122/800 [24:09<2:16:35, 12.09s/it]"
     ]
    },
    {
     "name": "stdout",
     "output_type": "stream",
     "text": [
      "Epoch 122/800: 12.16s - Training loss = 0.000567 - Validation loss = 0.111945\n"
     ]
    },
    {
     "name": "stderr",
     "output_type": "stream",
     "text": [
      "\r",
      " 15%|█▌        | 123/800 [24:21<2:17:03, 12.15s/it]"
     ]
    },
    {
     "name": "stdout",
     "output_type": "stream",
     "text": [
      "Epoch 123/800: 12.29s - Training loss = 0.000619 - Validation loss = 0.114006\n"
     ]
    },
    {
     "name": "stderr",
     "output_type": "stream",
     "text": [
      "\r",
      " 16%|█▌        | 124/800 [24:34<2:18:35, 12.30s/it]"
     ]
    },
    {
     "name": "stdout",
     "output_type": "stream",
     "text": [
      "Epoch 124/800: 12.66s - Training loss = 0.000504 - Validation loss = 0.110370\n"
     ]
    },
    {
     "name": "stderr",
     "output_type": "stream",
     "text": [
      "\r",
      " 16%|█▌        | 125/800 [24:47<2:19:52, 12.43s/it]"
     ]
    },
    {
     "name": "stdout",
     "output_type": "stream",
     "text": [
      "Epoch 125/800: 12.74s - Training loss = 0.000591 - Validation loss = 0.115237\n"
     ]
    },
    {
     "name": "stderr",
     "output_type": "stream",
     "text": [
      "\r",
      " 16%|█▌        | 126/800 [24:59<2:20:01, 12.46s/it]"
     ]
    },
    {
     "name": "stdout",
     "output_type": "stream",
     "text": [
      "Epoch 126/800: 12.54s - Training loss = 0.000540 - Validation loss = 0.114384\n"
     ]
    },
    {
     "name": "stderr",
     "output_type": "stream",
     "text": [
      "\r",
      " 16%|█▌        | 127/800 [25:12<2:20:28, 12.52s/it]"
     ]
    },
    {
     "name": "stdout",
     "output_type": "stream",
     "text": [
      "Epoch 127/800: 12.66s - Training loss = 0.000530 - Validation loss = 0.114932\n"
     ]
    },
    {
     "name": "stderr",
     "output_type": "stream",
     "text": [
      "\r",
      " 16%|█▌        | 128/800 [25:24<2:20:29, 12.54s/it]"
     ]
    },
    {
     "name": "stdout",
     "output_type": "stream",
     "text": [
      "Epoch 128/800: 12.59s - Training loss = 0.000573 - Validation loss = 0.110669\n"
     ]
    },
    {
     "name": "stderr",
     "output_type": "stream",
     "text": [
      "\r",
      " 16%|█▌        | 129/800 [25:37<2:20:16, 12.54s/it]"
     ]
    },
    {
     "name": "stdout",
     "output_type": "stream",
     "text": [
      "Epoch 129/800: 12.54s - Training loss = 0.000543 - Validation loss = 0.115078\n"
     ]
    },
    {
     "name": "stderr",
     "output_type": "stream",
     "text": [
      "\r",
      " 16%|█▋        | 130/800 [25:49<2:19:39, 12.51s/it]"
     ]
    },
    {
     "name": "stdout",
     "output_type": "stream",
     "text": [
      "Epoch 130/800: 12.42s - Training loss = 0.000529 - Validation loss = 0.110872\n"
     ]
    },
    {
     "name": "stderr",
     "output_type": "stream",
     "text": [
      "\r",
      " 16%|█▋        | 131/800 [26:02<2:19:36, 12.52s/it]"
     ]
    },
    {
     "name": "stdout",
     "output_type": "stream",
     "text": [
      "Epoch 131/800: 12.55s - Training loss = 0.000522 - Validation loss = 0.108275\n"
     ]
    },
    {
     "name": "stderr",
     "output_type": "stream",
     "text": [
      "\r",
      " 16%|█▋        | 132/800 [26:15<2:19:29, 12.53s/it]"
     ]
    },
    {
     "name": "stdout",
     "output_type": "stream",
     "text": [
      "Epoch 132/800: 12.55s - Training loss = 0.000544 - Validation loss = 0.110638\n"
     ]
    },
    {
     "name": "stderr",
     "output_type": "stream",
     "text": [
      "\r",
      " 17%|█▋        | 133/800 [26:27<2:19:24, 12.54s/it]"
     ]
    },
    {
     "name": "stdout",
     "output_type": "stream",
     "text": [
      "Epoch 133/800: 12.56s - Training loss = 0.000574 - Validation loss = 0.112221\n"
     ]
    },
    {
     "name": "stderr",
     "output_type": "stream",
     "text": [
      "\r",
      " 17%|█▋        | 134/800 [26:40<2:18:58, 12.52s/it]"
     ]
    },
    {
     "name": "stdout",
     "output_type": "stream",
     "text": [
      "Epoch 134/800: 12.47s - Training loss = 0.000627 - Validation loss = 0.112309\n"
     ]
    },
    {
     "name": "stderr",
     "output_type": "stream",
     "text": [
      "\r",
      " 17%|█▋        | 135/800 [26:52<2:18:57, 12.54s/it]"
     ]
    },
    {
     "name": "stdout",
     "output_type": "stream",
     "text": [
      "Epoch 135/800: 12.58s - Training loss = 0.000489 - Validation loss = 0.111100\n"
     ]
    },
    {
     "name": "stderr",
     "output_type": "stream",
     "text": [
      "\r",
      " 17%|█▋        | 136/800 [27:05<2:18:58, 12.56s/it]"
     ]
    },
    {
     "name": "stdout",
     "output_type": "stream",
     "text": [
      "Epoch 136/800: 12.61s - Training loss = 0.000442 - Validation loss = 0.113225\n"
     ]
    },
    {
     "name": "stderr",
     "output_type": "stream",
     "text": [
      "\r",
      " 17%|█▋        | 137/800 [27:17<2:19:07, 12.59s/it]"
     ]
    },
    {
     "name": "stdout",
     "output_type": "stream",
     "text": [
      "Epoch 137/800: 12.66s - Training loss = 0.000532 - Validation loss = 0.111589\n"
     ]
    },
    {
     "name": "stderr",
     "output_type": "stream",
     "text": [
      "\r",
      " 17%|█▋        | 138/800 [27:30<2:18:52, 12.59s/it]"
     ]
    },
    {
     "name": "stdout",
     "output_type": "stream",
     "text": [
      "Epoch 138/800: 12.58s - Training loss = 0.000558 - Validation loss = 0.105417\n"
     ]
    },
    {
     "name": "stderr",
     "output_type": "stream",
     "text": [
      "\r",
      " 17%|█▋        | 139/800 [27:43<2:18:31, 12.57s/it]"
     ]
    },
    {
     "name": "stdout",
     "output_type": "stream",
     "text": [
      "Epoch 139/800: 12.55s - Training loss = 0.000538 - Validation loss = 0.111252\n"
     ]
    },
    {
     "name": "stderr",
     "output_type": "stream",
     "text": [
      "\r",
      " 18%|█▊        | 140/800 [27:55<2:18:40, 12.61s/it]"
     ]
    },
    {
     "name": "stdout",
     "output_type": "stream",
     "text": [
      "Epoch 140/800: 12.68s - Training loss = 0.000526 - Validation loss = 0.111485\n"
     ]
    },
    {
     "name": "stderr",
     "output_type": "stream",
     "text": [
      "\r",
      " 18%|█▊        | 141/800 [28:08<2:18:43, 12.63s/it]"
     ]
    },
    {
     "name": "stdout",
     "output_type": "stream",
     "text": [
      "Epoch 141/800: 12.69s - Training loss = 0.000565 - Validation loss = 0.112558\n"
     ]
    },
    {
     "name": "stderr",
     "output_type": "stream",
     "text": [
      "\r",
      " 18%|█▊        | 142/800 [28:20<2:17:44, 12.56s/it]"
     ]
    },
    {
     "name": "stdout",
     "output_type": "stream",
     "text": [
      "Epoch 142/800: 12.39s - Training loss = 0.000527 - Validation loss = 0.113430\n"
     ]
    },
    {
     "name": "stderr",
     "output_type": "stream",
     "text": [
      "\r",
      " 18%|█▊        | 143/800 [28:33<2:17:12, 12.53s/it]"
     ]
    },
    {
     "name": "stdout",
     "output_type": "stream",
     "text": [
      "Epoch 143/800: 12.46s - Training loss = 0.000479 - Validation loss = 0.109417\n"
     ]
    },
    {
     "name": "stderr",
     "output_type": "stream",
     "text": [
      "\r",
      " 18%|█▊        | 144/800 [28:45<2:16:31, 12.49s/it]"
     ]
    },
    {
     "name": "stdout",
     "output_type": "stream",
     "text": [
      "Epoch 144/800: 12.38s - Training loss = 0.000529 - Validation loss = 0.112523\n"
     ]
    },
    {
     "name": "stderr",
     "output_type": "stream",
     "text": [
      "\r",
      " 18%|█▊        | 145/800 [28:58<2:16:11, 12.48s/it]"
     ]
    },
    {
     "name": "stdout",
     "output_type": "stream",
     "text": [
      "Epoch 145/800: 12.45s - Training loss = 0.000490 - Validation loss = 0.115130\n"
     ]
    },
    {
     "name": "stderr",
     "output_type": "stream",
     "text": [
      "\r",
      " 18%|█▊        | 146/800 [29:10<2:15:52, 12.47s/it]"
     ]
    },
    {
     "name": "stdout",
     "output_type": "stream",
     "text": [
      "Epoch 146/800: 12.44s - Training loss = 0.000485 - Validation loss = 0.110850\n"
     ]
    },
    {
     "name": "stderr",
     "output_type": "stream",
     "text": [
      "\r",
      " 18%|█▊        | 147/800 [29:23<2:15:53, 12.49s/it]"
     ]
    },
    {
     "name": "stdout",
     "output_type": "stream",
     "text": [
      "Epoch 147/800: 12.53s - Training loss = 0.000594 - Validation loss = 0.111309\n"
     ]
    },
    {
     "name": "stderr",
     "output_type": "stream",
     "text": [
      "\r",
      " 18%|█▊        | 148/800 [29:35<2:16:02, 12.52s/it]"
     ]
    },
    {
     "name": "stdout",
     "output_type": "stream",
     "text": [
      "Epoch 148/800: 12.60s - Training loss = 0.000571 - Validation loss = 0.112607\n"
     ]
    },
    {
     "name": "stderr",
     "output_type": "stream",
     "text": [
      "\r",
      " 19%|█▊        | 149/800 [29:48<2:16:21, 12.57s/it]"
     ]
    },
    {
     "name": "stdout",
     "output_type": "stream",
     "text": [
      "Epoch 149/800: 12.68s - Training loss = 0.000437 - Validation loss = 0.111256\n"
     ]
    },
    {
     "name": "stderr",
     "output_type": "stream",
     "text": [
      "\r",
      " 19%|█▉        | 150/800 [30:01<2:16:33, 12.61s/it]"
     ]
    },
    {
     "name": "stdout",
     "output_type": "stream",
     "text": [
      "Epoch 150/800: 12.69s - Training loss = 0.000487 - Validation loss = 0.106370\n"
     ]
    },
    {
     "name": "stderr",
     "output_type": "stream",
     "text": [
      "\r",
      " 19%|█▉        | 151/800 [30:13<2:16:33, 12.63s/it]"
     ]
    },
    {
     "name": "stdout",
     "output_type": "stream",
     "text": [
      "Epoch 151/800: 12.67s - Training loss = 0.000453 - Validation loss = 0.109512\n"
     ]
    },
    {
     "name": "stderr",
     "output_type": "stream",
     "text": [
      "\r",
      " 19%|█▉        | 152/800 [30:26<2:16:29, 12.64s/it]"
     ]
    },
    {
     "name": "stdout",
     "output_type": "stream",
     "text": [
      "Epoch 152/800: 12.67s - Training loss = 0.000512 - Validation loss = 0.112087\n"
     ]
    },
    {
     "name": "stderr",
     "output_type": "stream",
     "text": [
      "\r",
      " 19%|█▉        | 153/800 [30:38<2:15:55, 12.61s/it]"
     ]
    },
    {
     "name": "stdout",
     "output_type": "stream",
     "text": [
      "Epoch 153/800: 12.53s - Training loss = 0.000412 - Validation loss = 0.112635\n"
     ]
    },
    {
     "name": "stderr",
     "output_type": "stream",
     "text": [
      "\r",
      " 19%|█▉        | 154/800 [30:51<2:15:40, 12.60s/it]"
     ]
    },
    {
     "name": "stdout",
     "output_type": "stream",
     "text": [
      "Epoch 154/800: 12.59s - Training loss = 0.000508 - Validation loss = 0.110471\n"
     ]
    },
    {
     "name": "stderr",
     "output_type": "stream",
     "text": [
      "\r",
      " 19%|█▉        | 155/800 [31:04<2:15:27, 12.60s/it]"
     ]
    },
    {
     "name": "stdout",
     "output_type": "stream",
     "text": [
      "Epoch 155/800: 12.60s - Training loss = 0.000552 - Validation loss = 0.111291\n"
     ]
    },
    {
     "name": "stderr",
     "output_type": "stream",
     "text": [
      "\r",
      " 20%|█▉        | 156/800 [31:16<2:15:47, 12.65s/it]"
     ]
    },
    {
     "name": "stdout",
     "output_type": "stream",
     "text": [
      "Epoch 156/800: 12.77s - Training loss = 0.000478 - Validation loss = 0.108766\n"
     ]
    },
    {
     "name": "stderr",
     "output_type": "stream",
     "text": [
      "\r",
      " 20%|█▉        | 157/800 [31:29<2:14:59, 12.60s/it]"
     ]
    },
    {
     "name": "stdout",
     "output_type": "stream",
     "text": [
      "Epoch 157/800: 12.47s - Training loss = 0.000490 - Validation loss = 0.111202\n"
     ]
    },
    {
     "name": "stderr",
     "output_type": "stream",
     "text": [
      "\r",
      " 20%|█▉        | 158/800 [31:41<2:14:16, 12.55s/it]"
     ]
    },
    {
     "name": "stdout",
     "output_type": "stream",
     "text": [
      "Epoch 158/800: 12.44s - Training loss = 0.000460 - Validation loss = 0.111739\n"
     ]
    },
    {
     "name": "stderr",
     "output_type": "stream",
     "text": [
      "\r",
      " 20%|█▉        | 159/800 [31:54<2:13:31, 12.50s/it]"
     ]
    },
    {
     "name": "stdout",
     "output_type": "stream",
     "text": [
      "Epoch 159/800: 12.38s - Training loss = 0.000466 - Validation loss = 0.109664\n"
     ]
    },
    {
     "name": "stderr",
     "output_type": "stream",
     "text": [
      "\r",
      " 20%|██        | 160/800 [32:06<2:13:39, 12.53s/it]"
     ]
    },
    {
     "name": "stdout",
     "output_type": "stream",
     "text": [
      "Epoch 160/800: 12.61s - Training loss = 0.000495 - Validation loss = 0.111479\n"
     ]
    },
    {
     "name": "stderr",
     "output_type": "stream",
     "text": [
      "\r",
      " 20%|██        | 161/800 [32:19<2:13:27, 12.53s/it]"
     ]
    },
    {
     "name": "stdout",
     "output_type": "stream",
     "text": [
      "Epoch 161/800: 12.53s - Training loss = 0.000442 - Validation loss = 0.111368\n"
     ]
    },
    {
     "name": "stderr",
     "output_type": "stream",
     "text": [
      "\r",
      " 20%|██        | 162/800 [32:31<2:13:23, 12.54s/it]"
     ]
    },
    {
     "name": "stdout",
     "output_type": "stream",
     "text": [
      "Epoch 162/800: 12.58s - Training loss = 0.000567 - Validation loss = 0.111231\n"
     ]
    },
    {
     "name": "stderr",
     "output_type": "stream",
     "text": [
      "\r",
      " 20%|██        | 163/800 [32:44<2:13:36, 12.58s/it]"
     ]
    },
    {
     "name": "stdout",
     "output_type": "stream",
     "text": [
      "Epoch 163/800: 12.68s - Training loss = 0.000547 - Validation loss = 0.108447\n"
     ]
    },
    {
     "name": "stderr",
     "output_type": "stream",
     "text": [
      "\r",
      " 20%|██        | 164/800 [32:57<2:13:01, 12.55s/it]"
     ]
    },
    {
     "name": "stdout",
     "output_type": "stream",
     "text": [
      "Epoch 164/800: 12.47s - Training loss = 0.000480 - Validation loss = 0.110108\n"
     ]
    },
    {
     "name": "stderr",
     "output_type": "stream",
     "text": [
      "\r",
      " 21%|██        | 165/800 [33:09<2:12:20, 12.51s/it]"
     ]
    },
    {
     "name": "stdout",
     "output_type": "stream",
     "text": [
      "Epoch 165/800: 12.40s - Training loss = 0.000531 - Validation loss = 0.111767\n"
     ]
    },
    {
     "name": "stderr",
     "output_type": "stream",
     "text": [
      "\r",
      " 21%|██        | 166/800 [33:21<2:11:52, 12.48s/it]"
     ]
    },
    {
     "name": "stdout",
     "output_type": "stream",
     "text": [
      "Epoch 166/800: 12.42s - Training loss = 0.000493 - Validation loss = 0.110042\n"
     ]
    },
    {
     "name": "stderr",
     "output_type": "stream",
     "text": [
      "\r",
      " 21%|██        | 167/800 [33:34<2:11:29, 12.46s/it]"
     ]
    },
    {
     "name": "stdout",
     "output_type": "stream",
     "text": [
      "Epoch 167/800: 12.43s - Training loss = 0.000467 - Validation loss = 0.110486\n"
     ]
    },
    {
     "name": "stderr",
     "output_type": "stream",
     "text": [
      "\r",
      " 21%|██        | 168/800 [33:46<2:11:04, 12.44s/it]"
     ]
    },
    {
     "name": "stdout",
     "output_type": "stream",
     "text": [
      "Epoch 168/800: 12.39s - Training loss = 0.000507 - Validation loss = 0.111010\n"
     ]
    },
    {
     "name": "stderr",
     "output_type": "stream",
     "text": [
      "\r",
      " 21%|██        | 169/800 [33:59<2:10:58, 12.45s/it]"
     ]
    },
    {
     "name": "stdout",
     "output_type": "stream",
     "text": [
      "Epoch 169/800: 12.48s - Training loss = 0.000388 - Validation loss = 0.110178\n"
     ]
    },
    {
     "name": "stderr",
     "output_type": "stream",
     "text": [
      "\r",
      " 21%|██▏       | 170/800 [34:11<2:10:40, 12.44s/it]"
     ]
    },
    {
     "name": "stdout",
     "output_type": "stream",
     "text": [
      "Epoch 170/800: 12.42s - Training loss = 0.000477 - Validation loss = 0.109571\n"
     ]
    },
    {
     "name": "stderr",
     "output_type": "stream",
     "text": [
      "\r",
      " 21%|██▏       | 171/800 [34:24<2:10:28, 12.45s/it]"
     ]
    },
    {
     "name": "stdout",
     "output_type": "stream",
     "text": [
      "Epoch 171/800: 12.45s - Training loss = 0.000485 - Validation loss = 0.109312\n"
     ]
    },
    {
     "name": "stderr",
     "output_type": "stream",
     "text": [
      "\r",
      " 22%|██▏       | 172/800 [34:35<2:08:43, 12.30s/it]"
     ]
    },
    {
     "name": "stdout",
     "output_type": "stream",
     "text": [
      "Epoch 172/800: 11.95s - Training loss = 0.000490 - Validation loss = 0.112858\n"
     ]
    },
    {
     "name": "stderr",
     "output_type": "stream",
     "text": [
      "\r",
      " 22%|██▏       | 173/800 [34:47<2:07:28, 12.20s/it]"
     ]
    },
    {
     "name": "stdout",
     "output_type": "stream",
     "text": [
      "Epoch 173/800: 11.96s - Training loss = 0.000532 - Validation loss = 0.109639\n"
     ]
    },
    {
     "name": "stderr",
     "output_type": "stream",
     "text": [
      "\r",
      " 22%|██▏       | 174/800 [34:59<2:06:26, 12.12s/it]"
     ]
    },
    {
     "name": "stdout",
     "output_type": "stream",
     "text": [
      "Epoch 174/800: 11.94s - Training loss = 0.000518 - Validation loss = 0.110961\n"
     ]
    },
    {
     "name": "stderr",
     "output_type": "stream",
     "text": [
      "\r",
      " 22%|██▏       | 175/800 [35:12<2:06:28, 12.14s/it]"
     ]
    },
    {
     "name": "stdout",
     "output_type": "stream",
     "text": [
      "Epoch 175/800: 12.19s - Training loss = 0.000467 - Validation loss = 0.107346\n"
     ]
    },
    {
     "name": "stderr",
     "output_type": "stream",
     "text": [
      "\r",
      " 22%|██▏       | 176/800 [35:24<2:06:30, 12.16s/it]"
     ]
    },
    {
     "name": "stdout",
     "output_type": "stream",
     "text": [
      "Epoch 176/800: 12.22s - Training loss = 0.000491 - Validation loss = 0.109133\n"
     ]
    },
    {
     "name": "stderr",
     "output_type": "stream",
     "text": [
      "\r",
      " 22%|██▏       | 177/800 [35:36<2:07:17, 12.26s/it]"
     ]
    },
    {
     "name": "stdout",
     "output_type": "stream",
     "text": [
      "Epoch 177/800: 12.48s - Training loss = 0.000459 - Validation loss = 0.109249\n"
     ]
    },
    {
     "name": "stderr",
     "output_type": "stream",
     "text": [
      "\r",
      " 22%|██▏       | 178/800 [35:49<2:08:12, 12.37s/it]"
     ]
    },
    {
     "name": "stdout",
     "output_type": "stream",
     "text": [
      "Epoch 178/800: 12.62s - Training loss = 0.000542 - Validation loss = 0.107935\n"
     ]
    },
    {
     "name": "stderr",
     "output_type": "stream",
     "text": [
      "\r",
      " 22%|██▏       | 179/800 [36:02<2:09:19, 12.50s/it]"
     ]
    },
    {
     "name": "stdout",
     "output_type": "stream",
     "text": [
      "Epoch 179/800: 12.79s - Training loss = 0.000518 - Validation loss = 0.107750\n"
     ]
    },
    {
     "name": "stderr",
     "output_type": "stream",
     "text": [
      "\r",
      " 22%|██▎       | 180/800 [36:15<2:10:40, 12.65s/it]"
     ]
    },
    {
     "name": "stdout",
     "output_type": "stream",
     "text": [
      "Epoch 180/800: 12.99s - Training loss = 0.000425 - Validation loss = 0.108169\n"
     ]
    },
    {
     "name": "stderr",
     "output_type": "stream",
     "text": [
      "\r",
      " 23%|██▎       | 181/800 [36:27<2:10:12, 12.62s/it]"
     ]
    },
    {
     "name": "stdout",
     "output_type": "stream",
     "text": [
      "Epoch 181/800: 12.56s - Training loss = 0.000414 - Validation loss = 0.112154\n"
     ]
    },
    {
     "name": "stderr",
     "output_type": "stream",
     "text": [
      "\r",
      " 23%|██▎       | 182/800 [36:40<2:09:54, 12.61s/it]"
     ]
    },
    {
     "name": "stdout",
     "output_type": "stream",
     "text": [
      "Epoch 182/800: 12.59s - Training loss = 0.000445 - Validation loss = 0.108842\n"
     ]
    },
    {
     "name": "stderr",
     "output_type": "stream",
     "text": [
      "\r",
      " 23%|██▎       | 183/800 [36:52<2:09:23, 12.58s/it]"
     ]
    },
    {
     "name": "stdout",
     "output_type": "stream",
     "text": [
      "Epoch 183/800: 12.51s - Training loss = 0.000410 - Validation loss = 0.109876\n"
     ]
    },
    {
     "name": "stderr",
     "output_type": "stream",
     "text": [
      "\r",
      " 23%|██▎       | 184/800 [37:05<2:09:00, 12.57s/it]"
     ]
    },
    {
     "name": "stdout",
     "output_type": "stream",
     "text": [
      "Epoch 184/800: 12.53s - Training loss = 0.000469 - Validation loss = 0.108293\n"
     ]
    },
    {
     "name": "stderr",
     "output_type": "stream",
     "text": [
      "\r",
      " 23%|██▎       | 185/800 [37:17<2:08:38, 12.55s/it]"
     ]
    },
    {
     "name": "stdout",
     "output_type": "stream",
     "text": [
      "Epoch 185/800: 12.51s - Training loss = 0.000462 - Validation loss = 0.108075\n"
     ]
    },
    {
     "name": "stderr",
     "output_type": "stream",
     "text": [
      "\r",
      " 23%|██▎       | 186/800 [37:30<2:08:42, 12.58s/it]"
     ]
    },
    {
     "name": "stdout",
     "output_type": "stream",
     "text": [
      "Epoch 186/800: 12.64s - Training loss = 0.000449 - Validation loss = 0.110736\n"
     ]
    },
    {
     "name": "stderr",
     "output_type": "stream",
     "text": [
      "\r",
      " 23%|██▎       | 187/800 [37:43<2:08:23, 12.57s/it]"
     ]
    },
    {
     "name": "stdout",
     "output_type": "stream",
     "text": [
      "Epoch 187/800: 12.54s - Training loss = 0.000409 - Validation loss = 0.110627\n"
     ]
    },
    {
     "name": "stderr",
     "output_type": "stream",
     "text": [
      "\r",
      " 23%|██▎       | 187/800 [37:55<2:04:19, 12.17s/it]"
     ]
    },
    {
     "name": "stdout",
     "output_type": "stream",
     "text": [
      "Epoch 188/800: -0.00s - Training loss = 0.000488 - Validation loss = 0.108663\n",
      "0.10541682690382004\n"
     ]
    },
    {
     "name": "stderr",
     "output_type": "stream",
     "text": [
      "\n"
     ]
    }
   ],
   "source": [
    "torch.cuda.empty_cache()\n",
    "gc.collect()\n",
    "\n",
    "#               x_train             y_train\n",
    "# Dimension 0 : évènements          évènements\n",
    "# Dimension 1 : directions (3)      labels (4)\n",
    "# Dimension 2 : stations (50)       -\n",
    "# Dimension 3 : temps (2048)        -\n",
    "\n",
    "x_train, y_train = arrData[0][0], arrData[0][1]\n",
    "for data_file in train_file[1:]:\n",
    "    x_train = np.concatenate((x_train, arrData[0][0]), axis = 0)\n",
    "    y_train = np.concatenate((y_train, arrData[0][1]), axis = 0)\n",
    "\n",
    "x_train = torch.permute(torch.Tensor(x_train).to(device),(0,3,1,2))\n",
    "y_train = torch.Tensor(y_train[:,1:]).to(device)\n",
    "pos = torch.Tensor(arrData[0][2].T).to(device)\n",
    "dist = torch.Tensor(arrData[0][3]).to(device)\n",
    "\n",
    "(x_valid, y_valid, _, _) = np.load(valid_file, allow_pickle=True)\n",
    "x_valid = torch.permute(torch.Tensor(x_valid).to(device),(0,3,1,2))\n",
    "y_valid = torch.Tensor(y_valid[:,1:]).to(device)\n",
    "\n",
    "\n",
    "model = md.GNN1(x_train.shape[1], pos, dropout_rate).to(device)\n",
    "\n",
    "model_file = \"model_GNN1.pt\"\n",
    "\n",
    "optimizer = torch.optim.Adam(model.parameters(),lr=lr)\n",
    "if L2:\n",
    "    criterion = nn.MSELoss().to(device)\n",
    "else:\n",
    "    criterion = nn.L1Loss().to(device)\n",
    "    \n",
    "loss_dict = {\"train\" : [],\n",
    "            \"valid\" : []}\n",
    "loss_valid_min = 0\n",
    "\n",
    "\n",
    "earlyStopper = EarlyStopper(50, 0.0002)\n",
    "for epoch in tqdm(range(n_epochs)):\n",
    "    \n",
    "    t1 = timeit.default_timer()\n",
    "    inds = np.arange(len(x_train))\n",
    "    np.random.shuffle(inds)\n",
    "    \n",
    "    lossAvg = 0\n",
    "    count = 0\n",
    "    \n",
    "    for k in range(0, len(x_train)-batch_size, batch_size):\n",
    "        inds_k = inds[k:k+batch_size]\n",
    "        results = model(x_train[inds_k])\n",
    "        loss = criterion(results,y_train[inds_k])\n",
    "\n",
    "#        print(loss.item(),k,epoch,time()-t)\n",
    "        optimizer.zero_grad()\n",
    "        loss.backward()\n",
    "        optimizer.step()\n",
    "        lossAvg = loss.item()\n",
    "        count +=1\n",
    "        \n",
    "    lossAvg = lossAvg / count\n",
    "    loss_dict[\"train\"].append(lossAvg)\n",
    "\n",
    "    # Early stopping\n",
    "    with torch.no_grad():\n",
    "        results_valid = model(x_valid)\n",
    "    loss_valid = criterion(results_valid, y_valid)\n",
    "    #print(loss_valid.item(), epoch, time()-t)\n",
    "    if loss_valid_min == 0 or loss_valid_min > loss_valid.item():\n",
    "        loss_valid_min = loss_valid.item()\n",
    "        model_valid = model.state_dict()\n",
    "    loss_dict[\"valid\"].append(loss_valid.item())\n",
    "    \n",
    "    if earlyStopper.early_stop(loss_valid.item()):\n",
    "        print(f'Epoch {epoch+1}/{n_epochs}: {t2-t1:.2f}s - Training loss = {lossAvg:.6f} - Validation loss = {loss_valid.item():.6f}')\n",
    "        break\n",
    "    \n",
    "    t2 = timeit.default_timer()\n",
    "    print(f'Epoch {epoch+1}/{n_epochs}: {t2-t1:.2f}s - Training loss = {lossAvg:.6f} - Validation loss = {loss_valid.item():.6f}')\n",
    "\n",
    "\n",
    "torch.save(model_valid, folder+\"/\"+model_file)\n",
    "np.save(folder+\"/loss_\"+model_file, loss_dict)\n",
    "print(loss_valid_min)"
   ]
  },
  {
   "cell_type": "markdown",
   "id": "c1c48b52",
   "metadata": {},
   "source": [
    "#### Plotting the results"
   ]
  },
  {
   "cell_type": "code",
   "execution_count": 300,
   "id": "8e43be15",
   "metadata": {},
   "outputs": [
    {
     "data": {
      "text/plain": [
       "Text(0.5, 1.0, 'Loss function for GNN1')"
      ]
     },
     "execution_count": 300,
     "metadata": {},
     "output_type": "execute_result"
    },
    {
     "data": {
      "image/png": "[encoded data removed]",
      "text/plain": [
       "<Figure size 800x600 with 1 Axes>"
      ]
     },
     "metadata": {},
     "output_type": "display_data"
    }
   ],
   "source": [
    "\n",
    "model_file = \"model_GNN1.pt\"\n",
    "\n",
    "dict_loss = np.load(folder+\"/loss_\"+model_file + \".npy\", allow_pickle=True).item()\n",
    "\n",
    "fig = plt.figure(figsize=(8,6))\n",
    "plt.semilogy(dict_loss[\"train\"], linewidth=4, color=\"red\", alpha=0.5, label=\"Training\")\n",
    "plt.semilogy(dict_loss[\"valid\"], linewidth=4, color=\"blue\", alpha=0.5, label=\"Validation\")\n",
    "plt.plot(np.argmin(dict_loss[\"valid\"]), np.min(dict_loss[\"valid\"]), 'k*', markersize=12, label=\"Best Epoch\")\n",
    "plt.legend()\n",
    "plt.xlabel(\"Epochs\")\n",
    "plt.ylabel(\"Loss\")\n",
    "plt.title(\"Loss function for GNN1\")\n"
   ]
  },
  {
   "cell_type": "code",
   "execution_count": 301,
   "id": "deb9d8e3",
   "metadata": {},
   "outputs": [
    {
     "data": {
      "image/png": "[encoded data removed]",
      "text/plain": [
       "<Figure size 1600x600 with 6 Axes>"
      ]
     },
     "metadata": {},
     "output_type": "display_data"
    }
   ],
   "source": [
    "\n",
    "name = \"../SCEDC/agreg-results/GNN1-DATA-select-0-0\"\n",
    "name_ref = \".\"\n",
    "\n",
    "(results, labels, _) = pickle.load(open(name + \"-all-test-results-mul.pkl\", \"rb\"))\n",
    "if name_ref != \".\":\n",
    "    (results_ref, labels_ref, _) = pickle.load(open(name_ref + \"-all-test-results.pkl\", \"rb\"))\n",
    "\n",
    "fig, axs = plt.subplots(2, 3, figsize=(16, 6), gridspec_kw={'height_ratios':[1,3]})\n",
    "titles = (\"Distance\", \"Depth\", \"Magnitude\")\n",
    "err_ranges = ((0, 200), (-30, 30), (-2.0, 2.0))\n",
    "\n",
    "def plot_density(i, results, labels, l, pos):\n",
    "\n",
    "    ax = axs[1,i]\n",
    "\n",
    "    if i == 0:\n",
    "        lat = results[:, 0] * np.pi/180\n",
    "        lat_lab = labels[:, 0] * np.pi/180\n",
    "        lon = results[:, 1] * np.pi/180\n",
    "        lon_lab = labels[:, 1] * np.pi/180\n",
    "        test_diff = 6371 * np.arccos(np.sin(lat)*np.sin(lat_lab)+np.cos(lat)*np.cos(lat_lab)*np.cos(lon-lon_lab))\n",
    "    else:\n",
    "        test_diff = results[:, i+1] - labels[:, i+1]\n",
    "    \n",
    "    test_hist, test_bins = np.histogram(test_diff, bins=100, range=err_ranges[i], density=True)\n",
    "    test_bins = 0.5 * (test_bins[1:] + test_bins[:-1])\n",
    "\n",
    "    ax.plot(test_bins, test_hist, c=\"C\"+str(pos), lw=1., alpha=1, label=l)\n",
    "    ax.fill_between(test_bins, 0, test_hist, fc=\"C\"+str(pos), alpha=0.1)\n",
    "\n",
    "    ax = axs[0,i]\n",
    "\n",
    "    ax.boxplot(test_diff, sym=\"\", vert=False, whis=[5,95], positions=[pos], widths = 0.5, labels=[l])\n",
    "    if i != 0:\n",
    "        ax.set_yticks([])\n",
    "\n",
    "axs[1,0].set_xlabel(\"error [km]\")\n",
    "axs[1,1].set_xlabel(\"error [km]\")\n",
    "axs[1,2].set_xlabel(\"error\")\n",
    "axs[1,0].set_ylabel(\"density\")\n",
    "\n",
    "for j in range(2):\n",
    "    axs[j,0].set_xlim(0.0, 80.0)\n",
    "    axs[j,1].set_xlim(-20.0, 20.0)\n",
    "    axs[j,2].set_xlim(-0.5, 0.5)\n",
    "\n",
    "absvlines = [[0, 20, 40, 60, 80], [-20, -10, 0, 10, 20], [-0.4, -0.2, 0.0, 0.2, 0.4]]\n",
    "\n",
    "\n",
    "for i in range(3):\n",
    "    \n",
    "    for a in absvlines[i]:\n",
    "        axs[1,i].axvline(a, c=\"grey\", lw = 0.5)\n",
    "\n",
    "    if name_ref != \".\":\n",
    "        plot_density(i, results_ref, labels_ref, name_ref, 0)\n",
    "    plot_density(i, results, labels, \"GNN1\", 1)\n",
    "#    axs[1,i].legend()\n",
    "\n",
    "    axs[0,i].invert_yaxis()\n",
    "    axs[0,i].set_title(titles[i])\n",
    "\n",
    "\n",
    "plt.savefig(name + \"-density.jpeg\")\n",
    "\n",
    "\n",
    "\n"
   ]
  },
  {
   "cell_type": "markdown",
   "id": "ccc5594e",
   "metadata": {},
   "source": [
    "### Limitations (In Progress)"
   ]
  },
  {
   "cell_type": "markdown",
   "id": "432638e3",
   "metadata": {},
   "source": [
    "### Second architecture : Spectral Graph Neural Network GNN2"
   ]
  },
  {
   "cell_type": "markdown",
   "id": "59d86b73",
   "metadata": {},
   "source": [
    "\n",
    "<img src=\"./images/GraphConvLayer.png\" alt=\"\" />\n",
    "\n",
    "In this second architecture, we keep the first and last components of GNN1, but this time, we do take advantage of the graph structure of the data by replacing the second component $h^{(2)}_{\\theta^{(2)}}$ with a message passing neural networks with a modified update rule such as:\n",
    "\n",
    "$$ \\hat{x_s} = \\sigma \\Big( x_s W + \\sum_{v_j \\in {\\mathbb{N}_{geo}(v_s)}} \\frac{1}{\\sqrt{d_s d_j}}x_j W \\Big) $$\n",
    "\n",
    "Using a fixed spatial graph G computed with the stations as nodes and the euclidean distance based on the geographical coordinates of the station as the edges. For each station $v_s$, we compute a neighborhood $\\mathbb{N}_{geo}(v_s)$ which are composed of the $k=4$-nearest neighbors in the graph.\n",
    "\n",
    "\n",
    "<span style=\"color:red\">Work in progress : Image of the graph </span>\n",
    "\n",
    "\n",
    "<span style=\"color:red\">**Work in progress : \n",
    "Image of the graph and the k nearest neighbours of a station **</span>\n",
    "\n"
   ]
  },
  {
   "cell_type": "code",
   "execution_count": null,
   "id": "a2e530f3",
   "metadata": {},
   "outputs": [],
   "source": [
    " \n",
    "        \n",
    "class GraphConvLayer(nn.Module):\n",
    "\n",
    "    def __init__(self, in_channels, out_channels, adj, activ = F.relu, dropout = 0):\n",
    "        \"\"\"\n",
    "        :param in_channels: Number of input features at each node in each time step.\n",
    "        :param out_channels: Desired number of output features at each node in each time step.\n",
    "        :param adj: Normalized adjacency matrix.\n",
    "        \"\"\"\n",
    "        super(GraphConvLayer, self).__init__()\n",
    "\n",
    "        adj_sym = (adj+torch.t(adj))/2\n",
    "        D = torch.sum(adj_sym, dim=1).reshape((-1,))\n",
    "        diag = torch.diag(torch.rsqrt(D))\n",
    "        norm_adj = torch.matmul(diag, torch.matmul(adj_sym, diag))\n",
    "\n",
    "        self.adj = norm_adj \n",
    "        self.Theta = nn.Parameter(torch.FloatTensor(in_channels, out_channels))\n",
    "        self.activ = activ\n",
    "        self.dropout = nn.Dropout2d(dropout)\n",
    "\n",
    "        nn.init.orthogonal_(self.Theta)\n",
    "            \n",
    "\n",
    "    def forward(self, X):\n",
    "        \"\"\"\n",
    "        :param X: Input data of shape (batch_size, num_features=in_channels, num_nodes, num_timesteps)\n",
    "        :return: Output data of shape (batch_size, num_features=out_channels, num_nodes, num_timesteps)\n",
    "        \"\"\"\n",
    "        \n",
    "        lfs = torch.einsum(\"ij,kmjl->kmil\", [self.adj, X])\n",
    "        X = torch.einsum(\"kmil,mn->knil\", [lfs, self.Theta])\n",
    "        X = self.activ(X)\n",
    "        X = self.dropout(X)\n",
    "        return X\n",
    "   "
   ]
  },
  {
   "cell_type": "markdown",
   "id": "836536b7",
   "metadata": {},
   "source": [
    "In this case, we rely on a fixed graph computed using the euclidean distance between the spatial coordinates of the stations. For each of those stations, a spatio-temporal enhanced feature vector is computed using the temporal features vector of the CNN component and concatenating it directly with the geographic coordinates of the stations.\n",
    "\n",
    "<img src=\"./images/GNN2.png\" alt=\"\" />"
   ]
  },
  {
   "cell_type": "code",
   "execution_count": null,
   "id": "f267650e",
   "metadata": {},
   "outputs": [],
   "source": [
    "\n",
    "class GNN2(nn.Module):\n",
    "\n",
    "    def __init__(self, in_channels, adj, pos, dropout = 0):\n",
    "        \"\"\"\n",
    "        :param in_channels: Number of input features at each node in each time step.\n",
    "        :param adj: Normalized adjacency matrix.\n",
    "        :param pos: Positions of stations : shape (2, num_nodes)\n",
    "        \"\"\"\n",
    "        \n",
    "        super(GNN2, self).__init__()\n",
    "        \n",
    "        self.pos = pos\n",
    "        \n",
    "        self.CNNlayer = CNN(in_channels = in_channels, dropout = dropout)\n",
    "        self.layers = nn.ModuleList()\n",
    "        self.layers.append(GraphConvLayer(in_channels = 66, out_channels = 128, adj = adj, activ = F.relu, dropout = dropout))\n",
    "        self.layers.append(GraphConvLayer(in_channels = 128, out_channels = 128, adj = adj, activ = F.relu, dropout = dropout))\n",
    "        self.layers.append(MLP(num_nodes = pos.shape[1], in_channels = 128, dropout = dropout))\n",
    "        \n",
    "\n",
    "    def forward(self, X):\n",
    "        \"\"\"\n",
    "        :param X: Input data of shape (batch_size, num_features=in_channels, num_nodes, 2048)\n",
    "        :return: Output data of shape (batch_size, num_features=4)\n",
    "        \"\"\"\n",
    "        \n",
    "        X = self.CNNlayer(X)                                                    # Shape (batch_size, 64, num_nodes, 1)\n",
    "        pos = self.pos.repeat(X.shape[0], 1, 1, 1).permute(0, 2, 3, 1)          # Shape (batch_size, 2, num_nodes, 1)\n",
    "        X = torch.cat((X, pos), 1)                                              # Shape (batch_size, 66, num_nodes, 1)\n",
    "        \n",
    "        for l in self.layers:\n",
    "            X = l(X)\n",
    "            \n",
    "        return X\n"
   ]
  },
  {
   "cell_type": "code",
   "execution_count": null,
   "id": "3e18af6a",
   "metadata": {},
   "outputs": [],
   "source": [
    "model = md.GNN2(x_train.shape[1], adj, pos, dropout_rate).to(device)\n",
    "print('Total params: ' + str(sum(p.numel() for p in model.parameters())))\n",
    "summary(model, [1, 1, 42, 2048])\n"
   ]
  },
  {
   "cell_type": "code",
   "execution_count": 296,
   "id": "6228fc08",
   "metadata": {},
   "outputs": [
    {
     "name": "stderr",
     "output_type": "stream",
     "text": [
      "  0%|          | 1/800 [00:11<2:38:27, 11.90s/it]"
     ]
    },
    {
     "name": "stdout",
     "output_type": "stream",
     "text": [
      "Epoch 1/800: 11.90s - Training loss = 0.002491 - Validation loss = 0.326330\n"
     ]
    },
    {
     "name": "stderr",
     "output_type": "stream",
     "text": [
      "\r",
      "  0%|          | 2/800 [00:23<2:39:01, 11.96s/it]"
     ]
    },
    {
     "name": "stdout",
     "output_type": "stream",
     "text": [
      "Epoch 2/800: 12.00s - Training loss = 0.002483 - Validation loss = 0.321067\n"
     ]
    },
    {
     "name": "stderr",
     "output_type": "stream",
     "text": [
      "\r",
      "  0%|          | 3/800 [00:36<2:39:44, 12.03s/it]"
     ]
    },
    {
     "name": "stdout",
     "output_type": "stream",
     "text": [
      "Epoch 3/800: 12.11s - Training loss = 0.002403 - Validation loss = 0.321012\n"
     ]
    },
    {
     "name": "stderr",
     "output_type": "stream",
     "text": [
      "\r",
      "  0%|          | 4/800 [00:48<2:40:28, 12.10s/it]"
     ]
    },
    {
     "name": "stdout",
     "output_type": "stream",
     "text": [
      "Epoch 4/800: 12.20s - Training loss = 0.001943 - Validation loss = 0.315816\n"
     ]
    },
    {
     "name": "stderr",
     "output_type": "stream",
     "text": [
      "\r",
      "  1%|          | 5/800 [01:00<2:41:31, 12.19s/it]"
     ]
    },
    {
     "name": "stdout",
     "output_type": "stream",
     "text": [
      "Epoch 5/800: 12.35s - Training loss = 0.001902 - Validation loss = 0.283218\n"
     ]
    },
    {
     "name": "stderr",
     "output_type": "stream",
     "text": [
      "\r",
      "  1%|          | 6/800 [01:12<2:40:30, 12.13s/it]"
     ]
    },
    {
     "name": "stdout",
     "output_type": "stream",
     "text": [
      "Epoch 6/800: 12.01s - Training loss = 0.001635 - Validation loss = 0.230445\n"
     ]
    },
    {
     "name": "stderr",
     "output_type": "stream",
     "text": [
      "\r",
      "  1%|          | 7/800 [01:24<2:40:11, 12.12s/it]"
     ]
    },
    {
     "name": "stdout",
     "output_type": "stream",
     "text": [
      "Epoch 7/800: 12.10s - Training loss = 0.001395 - Validation loss = 0.196018\n"
     ]
    },
    {
     "name": "stderr",
     "output_type": "stream",
     "text": [
      "\r",
      "  1%|          | 8/800 [01:36<2:38:29, 12.01s/it]"
     ]
    },
    {
     "name": "stdout",
     "output_type": "stream",
     "text": [
      "Epoch 8/800: 11.76s - Training loss = 0.001523 - Validation loss = 0.182420\n"
     ]
    },
    {
     "name": "stderr",
     "output_type": "stream",
     "text": [
      "\r",
      "  1%|          | 9/800 [01:47<2:36:18, 11.86s/it]"
     ]
    },
    {
     "name": "stdout",
     "output_type": "stream",
     "text": [
      "Epoch 9/800: 11.52s - Training loss = 0.001430 - Validation loss = 0.171273\n"
     ]
    },
    {
     "name": "stderr",
     "output_type": "stream",
     "text": [
      "\r",
      "  1%|▏         | 10/800 [01:59<2:34:55, 11.77s/it]"
     ]
    },
    {
     "name": "stdout",
     "output_type": "stream",
     "text": [
      "Epoch 10/800: 11.57s - Training loss = 0.001283 - Validation loss = 0.163952\n"
     ]
    },
    {
     "name": "stderr",
     "output_type": "stream",
     "text": [
      "\r",
      "  1%|▏         | 11/800 [02:11<2:34:00, 11.71s/it]"
     ]
    },
    {
     "name": "stdout",
     "output_type": "stream",
     "text": [
      "Epoch 11/800: 11.59s - Training loss = 0.001205 - Validation loss = 0.160631\n"
     ]
    },
    {
     "name": "stderr",
     "output_type": "stream",
     "text": [
      "\r",
      "  2%|▏         | 12/800 [02:22<2:33:21, 11.68s/it]"
     ]
    },
    {
     "name": "stdout",
     "output_type": "stream",
     "text": [
      "Epoch 12/800: 11.60s - Training loss = 0.001313 - Validation loss = 0.159203\n"
     ]
    },
    {
     "name": "stderr",
     "output_type": "stream",
     "text": [
      "\r",
      "  2%|▏         | 13/800 [02:34<2:32:33, 11.63s/it]"
     ]
    },
    {
     "name": "stdout",
     "output_type": "stream",
     "text": [
      "Epoch 13/800: 11.52s - Training loss = 0.001173 - Validation loss = 0.154130\n"
     ]
    },
    {
     "name": "stderr",
     "output_type": "stream",
     "text": [
      "\r",
      "  2%|▏         | 14/800 [02:45<2:31:57, 11.60s/it]"
     ]
    },
    {
     "name": "stdout",
     "output_type": "stream",
     "text": [
      "Epoch 14/800: 11.53s - Training loss = 0.001052 - Validation loss = 0.153641\n"
     ]
    },
    {
     "name": "stderr",
     "output_type": "stream",
     "text": [
      "\r",
      "  2%|▏         | 15/800 [02:57<2:31:33, 11.58s/it]"
     ]
    },
    {
     "name": "stdout",
     "output_type": "stream",
     "text": [
      "Epoch 15/800: 11.55s - Training loss = 0.001069 - Validation loss = 0.146737\n"
     ]
    },
    {
     "name": "stderr",
     "output_type": "stream",
     "text": [
      "\r",
      "  2%|▏         | 16/800 [03:08<2:31:12, 11.57s/it]"
     ]
    },
    {
     "name": "stdout",
     "output_type": "stream",
     "text": [
      "Epoch 16/800: 11.54s - Training loss = 0.001035 - Validation loss = 0.143377\n"
     ]
    },
    {
     "name": "stderr",
     "output_type": "stream",
     "text": [
      "\r",
      "  2%|▏         | 17/800 [03:20<2:30:53, 11.56s/it]"
     ]
    },
    {
     "name": "stdout",
     "output_type": "stream",
     "text": [
      "Epoch 17/800: 11.54s - Training loss = 0.000970 - Validation loss = 0.142267\n"
     ]
    },
    {
     "name": "stderr",
     "output_type": "stream",
     "text": [
      "\r",
      "  2%|▏         | 18/800 [03:31<2:30:36, 11.56s/it]"
     ]
    },
    {
     "name": "stdout",
     "output_type": "stream",
     "text": [
      "Epoch 18/800: 11.54s - Training loss = 0.000980 - Validation loss = 0.141349\n"
     ]
    },
    {
     "name": "stderr",
     "output_type": "stream",
     "text": [
      "\r",
      "  2%|▏         | 19/800 [03:43<2:30:19, 11.55s/it]"
     ]
    },
    {
     "name": "stdout",
     "output_type": "stream",
     "text": [
      "Epoch 19/800: 11.53s - Training loss = 0.000950 - Validation loss = 0.137464\n"
     ]
    },
    {
     "name": "stderr",
     "output_type": "stream",
     "text": [
      "\r",
      "  2%|▎         | 20/800 [03:54<2:30:01, 11.54s/it]"
     ]
    },
    {
     "name": "stdout",
     "output_type": "stream",
     "text": [
      "Epoch 20/800: 11.52s - Training loss = 0.000940 - Validation loss = 0.136124\n"
     ]
    },
    {
     "name": "stderr",
     "output_type": "stream",
     "text": [
      "\r",
      "  3%|▎         | 21/800 [04:06<2:29:47, 11.54s/it]"
     ]
    },
    {
     "name": "stdout",
     "output_type": "stream",
     "text": [
      "Epoch 21/800: 11.53s - Training loss = 0.000956 - Validation loss = 0.136472\n"
     ]
    },
    {
     "name": "stderr",
     "output_type": "stream",
     "text": [
      "\r",
      "  3%|▎         | 22/800 [04:18<2:29:34, 11.53s/it]"
     ]
    },
    {
     "name": "stdout",
     "output_type": "stream",
     "text": [
      "Epoch 22/800: 11.53s - Training loss = 0.000814 - Validation loss = 0.136363\n"
     ]
    },
    {
     "name": "stderr",
     "output_type": "stream",
     "text": [
      "\r",
      "  3%|▎         | 23/800 [04:29<2:29:19, 11.53s/it]"
     ]
    },
    {
     "name": "stdout",
     "output_type": "stream",
     "text": [
      "Epoch 23/800: 11.52s - Training loss = 0.000924 - Validation loss = 0.134033\n"
     ]
    },
    {
     "name": "stderr",
     "output_type": "stream",
     "text": [
      "\r",
      "  3%|▎         | 24/800 [04:41<2:29:06, 11.53s/it]"
     ]
    },
    {
     "name": "stdout",
     "output_type": "stream",
     "text": [
      "Epoch 24/800: 11.52s - Training loss = 0.000924 - Validation loss = 0.132974\n"
     ]
    },
    {
     "name": "stderr",
     "output_type": "stream",
     "text": [
      "\r",
      "  3%|▎         | 25/800 [04:52<2:28:57, 11.53s/it]"
     ]
    },
    {
     "name": "stdout",
     "output_type": "stream",
     "text": [
      "Epoch 25/800: 11.54s - Training loss = 0.001112 - Validation loss = 0.132349\n"
     ]
    },
    {
     "name": "stderr",
     "output_type": "stream",
     "text": [
      "\r",
      "  3%|▎         | 26/800 [05:04<2:29:29, 11.59s/it]"
     ]
    },
    {
     "name": "stdout",
     "output_type": "stream",
     "text": [
      "Epoch 26/800: 11.72s - Training loss = 0.000850 - Validation loss = 0.132263\n"
     ]
    },
    {
     "name": "stderr",
     "output_type": "stream",
     "text": [
      "\r",
      "  3%|▎         | 27/800 [05:15<2:29:19, 11.59s/it]"
     ]
    },
    {
     "name": "stdout",
     "output_type": "stream",
     "text": [
      "Epoch 27/800: 11.60s - Training loss = 0.000878 - Validation loss = 0.127743\n"
     ]
    },
    {
     "name": "stderr",
     "output_type": "stream",
     "text": [
      "\r",
      "  4%|▎         | 28/800 [05:27<2:29:15, 11.60s/it]"
     ]
    },
    {
     "name": "stdout",
     "output_type": "stream",
     "text": [
      "Epoch 28/800: 11.62s - Training loss = 0.000905 - Validation loss = 0.132239\n"
     ]
    },
    {
     "name": "stderr",
     "output_type": "stream",
     "text": [
      "\r",
      "  4%|▎         | 29/800 [05:39<2:29:35, 11.64s/it]"
     ]
    },
    {
     "name": "stdout",
     "output_type": "stream",
     "text": [
      "Epoch 29/800: 11.74s - Training loss = 0.000806 - Validation loss = 0.130226\n"
     ]
    },
    {
     "name": "stderr",
     "output_type": "stream",
     "text": [
      "\r",
      "  4%|▍         | 30/800 [05:51<2:29:48, 11.67s/it]"
     ]
    },
    {
     "name": "stdout",
     "output_type": "stream",
     "text": [
      "Epoch 30/800: 11.75s - Training loss = 0.000943 - Validation loss = 0.127278\n"
     ]
    },
    {
     "name": "stderr",
     "output_type": "stream",
     "text": [
      "\r",
      "  4%|▍         | 31/800 [06:02<2:30:17, 11.73s/it]"
     ]
    },
    {
     "name": "stdout",
     "output_type": "stream",
     "text": [
      "Epoch 31/800: 11.85s - Training loss = 0.000846 - Validation loss = 0.126107\n"
     ]
    },
    {
     "name": "stderr",
     "output_type": "stream",
     "text": [
      "\r",
      "  4%|▍         | 32/800 [06:15<2:31:30, 11.84s/it]"
     ]
    },
    {
     "name": "stdout",
     "output_type": "stream",
     "text": [
      "Epoch 32/800: 12.09s - Training loss = 0.000739 - Validation loss = 0.127523\n"
     ]
    },
    {
     "name": "stderr",
     "output_type": "stream",
     "text": [
      "\r",
      "  4%|▍         | 33/800 [06:26<2:31:03, 11.82s/it]"
     ]
    },
    {
     "name": "stdout",
     "output_type": "stream",
     "text": [
      "Epoch 33/800: 11.77s - Training loss = 0.000764 - Validation loss = 0.126901\n"
     ]
    },
    {
     "name": "stderr",
     "output_type": "stream",
     "text": [
      "\r",
      "  4%|▍         | 34/800 [06:38<2:31:06, 11.84s/it]"
     ]
    },
    {
     "name": "stdout",
     "output_type": "stream",
     "text": [
      "Epoch 34/800: 11.88s - Training loss = 0.000904 - Validation loss = 0.125926\n"
     ]
    },
    {
     "name": "stderr",
     "output_type": "stream",
     "text": [
      "\r",
      "  4%|▍         | 35/800 [06:50<2:31:13, 11.86s/it]"
     ]
    },
    {
     "name": "stdout",
     "output_type": "stream",
     "text": [
      "Epoch 35/800: 11.92s - Training loss = 0.000924 - Validation loss = 0.130825\n"
     ]
    },
    {
     "name": "stderr",
     "output_type": "stream",
     "text": [
      "\r",
      "  4%|▍         | 36/800 [07:02<2:32:46, 12.00s/it]"
     ]
    },
    {
     "name": "stdout",
     "output_type": "stream",
     "text": [
      "Epoch 36/800: 12.32s - Training loss = 0.000754 - Validation loss = 0.125102\n"
     ]
    },
    {
     "name": "stderr",
     "output_type": "stream",
     "text": [
      "\r",
      "  5%|▍         | 37/800 [07:15<2:33:59, 12.11s/it]"
     ]
    },
    {
     "name": "stdout",
     "output_type": "stream",
     "text": [
      "Epoch 37/800: 12.37s - Training loss = 0.000698 - Validation loss = 0.125184\n"
     ]
    },
    {
     "name": "stderr",
     "output_type": "stream",
     "text": [
      "\r",
      "  5%|▍         | 38/800 [07:27<2:33:42, 12.10s/it]"
     ]
    },
    {
     "name": "stdout",
     "output_type": "stream",
     "text": [
      "Epoch 38/800: 12.09s - Training loss = 0.000824 - Validation loss = 0.127375\n"
     ]
    },
    {
     "name": "stderr",
     "output_type": "stream",
     "text": [
      "\r",
      "  5%|▍         | 39/800 [07:38<2:31:32, 11.95s/it]"
     ]
    },
    {
     "name": "stdout",
     "output_type": "stream",
     "text": [
      "Epoch 39/800: 11.58s - Training loss = 0.000710 - Validation loss = 0.124420\n"
     ]
    },
    {
     "name": "stderr",
     "output_type": "stream",
     "text": [
      "\r",
      "  5%|▌         | 40/800 [07:50<2:29:40, 11.82s/it]"
     ]
    },
    {
     "name": "stdout",
     "output_type": "stream",
     "text": [
      "Epoch 40/800: 11.51s - Training loss = 0.000805 - Validation loss = 0.123184\n"
     ]
    },
    {
     "name": "stderr",
     "output_type": "stream",
     "text": [
      "\r",
      "  5%|▌         | 41/800 [08:01<2:28:21, 11.73s/it]"
     ]
    },
    {
     "name": "stdout",
     "output_type": "stream",
     "text": [
      "Epoch 41/800: 11.52s - Training loss = 0.000746 - Validation loss = 0.122323\n"
     ]
    },
    {
     "name": "stderr",
     "output_type": "stream",
     "text": [
      "\r",
      "  5%|▌         | 42/800 [08:13<2:27:58, 11.71s/it]"
     ]
    },
    {
     "name": "stdout",
     "output_type": "stream",
     "text": [
      "Epoch 42/800: 11.68s - Training loss = 0.000787 - Validation loss = 0.123308\n"
     ]
    },
    {
     "name": "stderr",
     "output_type": "stream",
     "text": [
      "\r",
      "  5%|▌         | 43/800 [08:25<2:27:04, 11.66s/it]"
     ]
    },
    {
     "name": "stdout",
     "output_type": "stream",
     "text": [
      "Epoch 43/800: 11.53s - Training loss = 0.000793 - Validation loss = 0.120818\n"
     ]
    },
    {
     "name": "stderr",
     "output_type": "stream",
     "text": [
      "\r",
      "  6%|▌         | 44/800 [08:36<2:26:22, 11.62s/it]"
     ]
    },
    {
     "name": "stdout",
     "output_type": "stream",
     "text": [
      "Epoch 44/800: 11.52s - Training loss = 0.000763 - Validation loss = 0.124086\n"
     ]
    },
    {
     "name": "stderr",
     "output_type": "stream",
     "text": [
      "\r",
      "  6%|▌         | 45/800 [08:48<2:25:50, 11.59s/it]"
     ]
    },
    {
     "name": "stdout",
     "output_type": "stream",
     "text": [
      "Epoch 45/800: 11.53s - Training loss = 0.000688 - Validation loss = 0.119644\n"
     ]
    },
    {
     "name": "stderr",
     "output_type": "stream",
     "text": [
      "\r",
      "  6%|▌         | 46/800 [08:59<2:25:24, 11.57s/it]"
     ]
    },
    {
     "name": "stdout",
     "output_type": "stream",
     "text": [
      "Epoch 46/800: 11.52s - Training loss = 0.000714 - Validation loss = 0.121295\n"
     ]
    },
    {
     "name": "stderr",
     "output_type": "stream",
     "text": [
      "\r",
      "  6%|▌         | 47/800 [09:11<2:25:01, 11.56s/it]"
     ]
    },
    {
     "name": "stdout",
     "output_type": "stream",
     "text": [
      "Epoch 47/800: 11.52s - Training loss = 0.000747 - Validation loss = 0.121994\n"
     ]
    },
    {
     "name": "stderr",
     "output_type": "stream",
     "text": [
      "\r",
      "  6%|▌         | 48/800 [09:22<2:24:39, 11.54s/it]"
     ]
    },
    {
     "name": "stdout",
     "output_type": "stream",
     "text": [
      "Epoch 48/800: 11.51s - Training loss = 0.000632 - Validation loss = 0.123740\n"
     ]
    },
    {
     "name": "stderr",
     "output_type": "stream",
     "text": [
      "\r",
      "  6%|▌         | 49/800 [09:34<2:24:22, 11.53s/it]"
     ]
    },
    {
     "name": "stdout",
     "output_type": "stream",
     "text": [
      "Epoch 49/800: 11.52s - Training loss = 0.000971 - Validation loss = 0.121698\n"
     ]
    },
    {
     "name": "stderr",
     "output_type": "stream",
     "text": [
      "\r",
      "  6%|▋         | 50/800 [09:45<2:24:06, 11.53s/it]"
     ]
    },
    {
     "name": "stdout",
     "output_type": "stream",
     "text": [
      "Epoch 50/800: 11.51s - Training loss = 0.000628 - Validation loss = 0.121876\n"
     ]
    },
    {
     "name": "stderr",
     "output_type": "stream",
     "text": [
      "\r",
      "  6%|▋         | 51/800 [09:57<2:23:55, 11.53s/it]"
     ]
    },
    {
     "name": "stdout",
     "output_type": "stream",
     "text": [
      "Epoch 51/800: 11.53s - Training loss = 0.000683 - Validation loss = 0.120882\n"
     ]
    },
    {
     "name": "stderr",
     "output_type": "stream",
     "text": [
      "\r",
      "  6%|▋         | 52/800 [10:08<2:23:43, 11.53s/it]"
     ]
    },
    {
     "name": "stdout",
     "output_type": "stream",
     "text": [
      "Epoch 52/800: 11.53s - Training loss = 0.000726 - Validation loss = 0.119670\n"
     ]
    },
    {
     "name": "stderr",
     "output_type": "stream",
     "text": [
      "\r",
      "  7%|▋         | 53/800 [10:20<2:23:28, 11.52s/it]"
     ]
    },
    {
     "name": "stdout",
     "output_type": "stream",
     "text": [
      "Epoch 53/800: 11.51s - Training loss = 0.000798 - Validation loss = 0.116607\n"
     ]
    },
    {
     "name": "stderr",
     "output_type": "stream",
     "text": [
      "\r",
      "  7%|▋         | 54/800 [10:31<2:23:20, 11.53s/it]"
     ]
    },
    {
     "name": "stdout",
     "output_type": "stream",
     "text": [
      "Epoch 54/800: 11.54s - Training loss = 0.000680 - Validation loss = 0.119432\n"
     ]
    },
    {
     "name": "stderr",
     "output_type": "stream",
     "text": [
      "\r",
      "  7%|▋         | 55/800 [10:43<2:24:12, 11.61s/it]"
     ]
    },
    {
     "name": "stdout",
     "output_type": "stream",
     "text": [
      "Epoch 55/800: 11.81s - Training loss = 0.000687 - Validation loss = 0.117253\n"
     ]
    },
    {
     "name": "stderr",
     "output_type": "stream",
     "text": [
      "\r",
      "  7%|▋         | 56/800 [10:55<2:24:23, 11.64s/it]"
     ]
    },
    {
     "name": "stdout",
     "output_type": "stream",
     "text": [
      "Epoch 56/800: 11.72s - Training loss = 0.000789 - Validation loss = 0.115818\n"
     ]
    },
    {
     "name": "stderr",
     "output_type": "stream",
     "text": [
      "\r",
      "  7%|▋         | 57/800 [11:07<2:24:29, 11.67s/it]"
     ]
    },
    {
     "name": "stdout",
     "output_type": "stream",
     "text": [
      "Epoch 57/800: 11.72s - Training loss = 0.000837 - Validation loss = 0.118509\n"
     ]
    },
    {
     "name": "stderr",
     "output_type": "stream",
     "text": [
      "\r",
      "  7%|▋         | 58/800 [11:18<2:24:26, 11.68s/it]"
     ]
    },
    {
     "name": "stdout",
     "output_type": "stream",
     "text": [
      "Epoch 58/800: 11.70s - Training loss = 0.000689 - Validation loss = 0.116409\n"
     ]
    },
    {
     "name": "stderr",
     "output_type": "stream",
     "text": [
      "\r",
      "  7%|▋         | 59/800 [11:30<2:24:31, 11.70s/it]"
     ]
    },
    {
     "name": "stdout",
     "output_type": "stream",
     "text": [
      "Epoch 59/800: 11.75s - Training loss = 0.000633 - Validation loss = 0.117828\n"
     ]
    },
    {
     "name": "stderr",
     "output_type": "stream",
     "text": [
      "\r",
      "  8%|▊         | 60/800 [11:42<2:24:31, 11.72s/it]"
     ]
    },
    {
     "name": "stdout",
     "output_type": "stream",
     "text": [
      "Epoch 60/800: 11.76s - Training loss = 0.000624 - Validation loss = 0.118608\n"
     ]
    },
    {
     "name": "stderr",
     "output_type": "stream",
     "text": [
      "\r",
      "  8%|▊         | 61/800 [11:54<2:24:55, 11.77s/it]"
     ]
    },
    {
     "name": "stdout",
     "output_type": "stream",
     "text": [
      "Epoch 61/800: 11.88s - Training loss = 0.000592 - Validation loss = 0.119816\n"
     ]
    },
    {
     "name": "stderr",
     "output_type": "stream",
     "text": [
      "\r",
      "  8%|▊         | 62/800 [12:06<2:25:54, 11.86s/it]"
     ]
    },
    {
     "name": "stdout",
     "output_type": "stream",
     "text": [
      "Epoch 62/800: 12.08s - Training loss = 0.000614 - Validation loss = 0.117679\n"
     ]
    },
    {
     "name": "stderr",
     "output_type": "stream",
     "text": [
      "\r",
      "  8%|▊         | 63/800 [12:18<2:26:31, 11.93s/it]"
     ]
    },
    {
     "name": "stdout",
     "output_type": "stream",
     "text": [
      "Epoch 63/800: 12.08s - Training loss = 0.000815 - Validation loss = 0.114469\n"
     ]
    },
    {
     "name": "stderr",
     "output_type": "stream",
     "text": [
      "\r",
      "  8%|▊         | 64/800 [12:30<2:26:48, 11.97s/it]"
     ]
    },
    {
     "name": "stdout",
     "output_type": "stream",
     "text": [
      "Epoch 64/800: 12.06s - Training loss = 0.000620 - Validation loss = 0.116174\n"
     ]
    },
    {
     "name": "stderr",
     "output_type": "stream",
     "text": [
      "\r",
      "  8%|▊         | 65/800 [12:42<2:27:05, 12.01s/it]"
     ]
    },
    {
     "name": "stdout",
     "output_type": "stream",
     "text": [
      "Epoch 65/800: 12.10s - Training loss = 0.000656 - Validation loss = 0.117796\n"
     ]
    },
    {
     "name": "stderr",
     "output_type": "stream",
     "text": [
      "\r",
      "  8%|▊         | 66/800 [12:54<2:27:32, 12.06s/it]"
     ]
    },
    {
     "name": "stdout",
     "output_type": "stream",
     "text": [
      "Epoch 66/800: 12.18s - Training loss = 0.000789 - Validation loss = 0.114138\n"
     ]
    },
    {
     "name": "stderr",
     "output_type": "stream",
     "text": [
      "\r",
      "  8%|▊         | 67/800 [13:06<2:27:15, 12.05s/it]"
     ]
    },
    {
     "name": "stdout",
     "output_type": "stream",
     "text": [
      "Epoch 67/800: 12.04s - Training loss = 0.000605 - Validation loss = 0.115824\n"
     ]
    },
    {
     "name": "stderr",
     "output_type": "stream",
     "text": [
      "\r",
      "  8%|▊         | 68/800 [13:18<2:27:02, 12.05s/it]"
     ]
    },
    {
     "name": "stdout",
     "output_type": "stream",
     "text": [
      "Epoch 68/800: 12.05s - Training loss = 0.000670 - Validation loss = 0.115254\n"
     ]
    },
    {
     "name": "stderr",
     "output_type": "stream",
     "text": [
      "\r",
      "  9%|▊         | 69/800 [13:30<2:27:04, 12.07s/it]"
     ]
    },
    {
     "name": "stdout",
     "output_type": "stream",
     "text": [
      "Epoch 69/800: 12.12s - Training loss = 0.000589 - Validation loss = 0.116769\n"
     ]
    },
    {
     "name": "stderr",
     "output_type": "stream",
     "text": [
      "\r",
      "  9%|▉         | 70/800 [13:43<2:27:19, 12.11s/it]"
     ]
    },
    {
     "name": "stdout",
     "output_type": "stream",
     "text": [
      "Epoch 70/800: 12.20s - Training loss = 0.000666 - Validation loss = 0.117447\n"
     ]
    },
    {
     "name": "stderr",
     "output_type": "stream",
     "text": [
      "\r",
      "  9%|▉         | 71/800 [13:55<2:27:25, 12.13s/it]"
     ]
    },
    {
     "name": "stdout",
     "output_type": "stream",
     "text": [
      "Epoch 71/800: 12.19s - Training loss = 0.000733 - Validation loss = 0.114831\n"
     ]
    },
    {
     "name": "stderr",
     "output_type": "stream",
     "text": [
      "\r",
      "  9%|▉         | 72/800 [14:07<2:27:25, 12.15s/it]"
     ]
    },
    {
     "name": "stdout",
     "output_type": "stream",
     "text": [
      "Epoch 72/800: 12.19s - Training loss = 0.000662 - Validation loss = 0.112691\n"
     ]
    },
    {
     "name": "stderr",
     "output_type": "stream",
     "text": [
      "\r",
      "  9%|▉         | 73/800 [14:19<2:27:10, 12.15s/it]"
     ]
    },
    {
     "name": "stdout",
     "output_type": "stream",
     "text": [
      "Epoch 73/800: 12.13s - Training loss = 0.000687 - Validation loss = 0.117354\n"
     ]
    },
    {
     "name": "stderr",
     "output_type": "stream",
     "text": [
      "\r",
      "  9%|▉         | 74/800 [14:31<2:27:08, 12.16s/it]"
     ]
    },
    {
     "name": "stdout",
     "output_type": "stream",
     "text": [
      "Epoch 74/800: 12.19s - Training loss = 0.000631 - Validation loss = 0.116486\n"
     ]
    },
    {
     "name": "stderr",
     "output_type": "stream",
     "text": [
      "\r",
      "  9%|▉         | 75/800 [14:44<2:28:13, 12.27s/it]"
     ]
    },
    {
     "name": "stdout",
     "output_type": "stream",
     "text": [
      "Epoch 75/800: 12.52s - Training loss = 0.000627 - Validation loss = 0.113761\n"
     ]
    },
    {
     "name": "stderr",
     "output_type": "stream",
     "text": [
      "\r",
      " 10%|▉         | 76/800 [14:57<2:29:57, 12.43s/it]"
     ]
    },
    {
     "name": "stdout",
     "output_type": "stream",
     "text": [
      "Epoch 76/800: 12.80s - Training loss = 0.000623 - Validation loss = 0.113636\n"
     ]
    },
    {
     "name": "stderr",
     "output_type": "stream",
     "text": [
      "\r",
      " 10%|▉         | 77/800 [15:09<2:29:49, 12.43s/it]"
     ]
    },
    {
     "name": "stdout",
     "output_type": "stream",
     "text": [
      "Epoch 77/800: 12.44s - Training loss = 0.000664 - Validation loss = 0.114919\n"
     ]
    },
    {
     "name": "stderr",
     "output_type": "stream",
     "text": [
      "\r",
      " 10%|▉         | 78/800 [15:22<2:30:08, 12.48s/it]"
     ]
    },
    {
     "name": "stdout",
     "output_type": "stream",
     "text": [
      "Epoch 78/800: 12.58s - Training loss = 0.000624 - Validation loss = 0.114757\n"
     ]
    },
    {
     "name": "stderr",
     "output_type": "stream",
     "text": [
      "\r",
      " 10%|▉         | 79/800 [15:34<2:29:47, 12.47s/it]"
     ]
    },
    {
     "name": "stdout",
     "output_type": "stream",
     "text": [
      "Epoch 79/800: 12.44s - Training loss = 0.000701 - Validation loss = 0.115629\n"
     ]
    },
    {
     "name": "stderr",
     "output_type": "stream",
     "text": [
      "\r",
      " 10%|█         | 80/800 [15:47<2:29:36, 12.47s/it]"
     ]
    },
    {
     "name": "stdout",
     "output_type": "stream",
     "text": [
      "Epoch 80/800: 12.47s - Training loss = 0.000588 - Validation loss = 0.113908\n"
     ]
    },
    {
     "name": "stderr",
     "output_type": "stream",
     "text": [
      "\r",
      " 10%|█         | 81/800 [15:59<2:30:22, 12.55s/it]"
     ]
    },
    {
     "name": "stdout",
     "output_type": "stream",
     "text": [
      "Epoch 81/800: 12.74s - Training loss = 0.000658 - Validation loss = 0.114271\n"
     ]
    },
    {
     "name": "stderr",
     "output_type": "stream",
     "text": [
      "\r",
      " 10%|█         | 82/800 [16:12<2:30:14, 12.56s/it]"
     ]
    },
    {
     "name": "stdout",
     "output_type": "stream",
     "text": [
      "Epoch 82/800: 12.57s - Training loss = 0.000641 - Validation loss = 0.116148\n"
     ]
    },
    {
     "name": "stderr",
     "output_type": "stream",
     "text": [
      "\r",
      " 10%|█         | 83/800 [16:24<2:29:42, 12.53s/it]"
     ]
    },
    {
     "name": "stdout",
     "output_type": "stream",
     "text": [
      "Epoch 83/800: 12.46s - Training loss = 0.000646 - Validation loss = 0.113250\n"
     ]
    },
    {
     "name": "stderr",
     "output_type": "stream",
     "text": [
      "\r",
      " 10%|█         | 84/800 [16:37<2:29:33, 12.53s/it]"
     ]
    },
    {
     "name": "stdout",
     "output_type": "stream",
     "text": [
      "Epoch 84/800: 12.54s - Training loss = 0.000546 - Validation loss = 0.112646\n"
     ]
    },
    {
     "name": "stderr",
     "output_type": "stream",
     "text": [
      "\r",
      " 11%|█         | 85/800 [16:49<2:28:48, 12.49s/it]"
     ]
    },
    {
     "name": "stdout",
     "output_type": "stream",
     "text": [
      "Epoch 85/800: 12.38s - Training loss = 0.000651 - Validation loss = 0.112896\n"
     ]
    },
    {
     "name": "stderr",
     "output_type": "stream",
     "text": [
      "\r",
      " 11%|█         | 86/800 [17:02<2:28:37, 12.49s/it]"
     ]
    },
    {
     "name": "stdout",
     "output_type": "stream",
     "text": [
      "Epoch 86/800: 12.49s - Training loss = 0.000486 - Validation loss = 0.117309\n"
     ]
    },
    {
     "name": "stderr",
     "output_type": "stream",
     "text": [
      "\r",
      " 11%|█         | 87/800 [17:14<2:27:58, 12.45s/it]"
     ]
    },
    {
     "name": "stdout",
     "output_type": "stream",
     "text": [
      "Epoch 87/800: 12.36s - Training loss = 0.000580 - Validation loss = 0.112809\n"
     ]
    },
    {
     "name": "stderr",
     "output_type": "stream",
     "text": [
      "\r",
      " 11%|█         | 88/800 [17:27<2:27:47, 12.45s/it]"
     ]
    },
    {
     "name": "stdout",
     "output_type": "stream",
     "text": [
      "Epoch 88/800: 12.46s - Training loss = 0.000657 - Validation loss = 0.117302\n"
     ]
    },
    {
     "name": "stderr",
     "output_type": "stream",
     "text": [
      "\r",
      " 11%|█         | 89/800 [17:39<2:28:06, 12.50s/it]"
     ]
    },
    {
     "name": "stdout",
     "output_type": "stream",
     "text": [
      "Epoch 89/800: 12.60s - Training loss = 0.000578 - Validation loss = 0.114474\n"
     ]
    },
    {
     "name": "stderr",
     "output_type": "stream",
     "text": [
      "\r",
      " 11%|█▏        | 90/800 [17:52<2:28:21, 12.54s/it]"
     ]
    },
    {
     "name": "stdout",
     "output_type": "stream",
     "text": [
      "Epoch 90/800: 12.62s - Training loss = 0.000681 - Validation loss = 0.113605\n"
     ]
    },
    {
     "name": "stderr",
     "output_type": "stream",
     "text": [
      "\r",
      " 11%|█▏        | 91/800 [18:04<2:27:39, 12.50s/it]"
     ]
    },
    {
     "name": "stdout",
     "output_type": "stream",
     "text": [
      "Epoch 91/800: 12.40s - Training loss = 0.000607 - Validation loss = 0.113444\n"
     ]
    },
    {
     "name": "stderr",
     "output_type": "stream",
     "text": [
      "\r",
      " 12%|█▏        | 92/800 [18:17<2:27:18, 12.48s/it]"
     ]
    },
    {
     "name": "stdout",
     "output_type": "stream",
     "text": [
      "Epoch 92/800: 12.46s - Training loss = 0.000585 - Validation loss = 0.112188\n"
     ]
    },
    {
     "name": "stderr",
     "output_type": "stream",
     "text": [
      "\r",
      " 12%|█▏        | 93/800 [18:29<2:27:11, 12.49s/it]"
     ]
    },
    {
     "name": "stdout",
     "output_type": "stream",
     "text": [
      "Epoch 93/800: 12.51s - Training loss = 0.000651 - Validation loss = 0.114891\n"
     ]
    },
    {
     "name": "stderr",
     "output_type": "stream",
     "text": [
      "\r",
      " 12%|█▏        | 94/800 [18:42<2:26:42, 12.47s/it]"
     ]
    },
    {
     "name": "stdout",
     "output_type": "stream",
     "text": [
      "Epoch 94/800: 12.41s - Training loss = 0.000578 - Validation loss = 0.111869\n"
     ]
    },
    {
     "name": "stderr",
     "output_type": "stream",
     "text": [
      "\r",
      " 12%|█▏        | 95/800 [18:54<2:26:32, 12.47s/it]"
     ]
    },
    {
     "name": "stdout",
     "output_type": "stream",
     "text": [
      "Epoch 95/800: 12.48s - Training loss = 0.000627 - Validation loss = 0.112332\n"
     ]
    },
    {
     "name": "stderr",
     "output_type": "stream",
     "text": [
      "\r",
      " 12%|█▏        | 96/800 [19:07<2:26:22, 12.48s/it]"
     ]
    },
    {
     "name": "stdout",
     "output_type": "stream",
     "text": [
      "Epoch 96/800: 12.48s - Training loss = 0.000511 - Validation loss = 0.115686\n"
     ]
    },
    {
     "name": "stderr",
     "output_type": "stream",
     "text": [
      "\r",
      " 12%|█▏        | 97/800 [19:19<2:26:03, 12.47s/it]"
     ]
    },
    {
     "name": "stdout",
     "output_type": "stream",
     "text": [
      "Epoch 97/800: 12.44s - Training loss = 0.000554 - Validation loss = 0.111571\n"
     ]
    },
    {
     "name": "stderr",
     "output_type": "stream",
     "text": [
      "\r",
      " 12%|█▏        | 98/800 [19:32<2:26:17, 12.50s/it]"
     ]
    },
    {
     "name": "stdout",
     "output_type": "stream",
     "text": [
      "Epoch 98/800: 12.59s - Training loss = 0.000586 - Validation loss = 0.113306\n"
     ]
    },
    {
     "name": "stderr",
     "output_type": "stream",
     "text": [
      "\r",
      " 12%|█▏        | 99/800 [19:44<2:25:36, 12.46s/it]"
     ]
    },
    {
     "name": "stdout",
     "output_type": "stream",
     "text": [
      "Epoch 99/800: 12.37s - Training loss = 0.000628 - Validation loss = 0.110325\n"
     ]
    },
    {
     "name": "stderr",
     "output_type": "stream",
     "text": [
      "\r",
      " 12%|█▎        | 100/800 [19:56<2:25:06, 12.44s/it]"
     ]
    },
    {
     "name": "stdout",
     "output_type": "stream",
     "text": [
      "Epoch 100/800: 12.38s - Training loss = 0.000499 - Validation loss = 0.113159\n"
     ]
    },
    {
     "name": "stderr",
     "output_type": "stream",
     "text": [
      "\r",
      " 13%|█▎        | 101/800 [20:09<2:24:47, 12.43s/it]"
     ]
    },
    {
     "name": "stdout",
     "output_type": "stream",
     "text": [
      "Epoch 101/800: 12.41s - Training loss = 0.000574 - Validation loss = 0.111618\n"
     ]
    },
    {
     "name": "stderr",
     "output_type": "stream",
     "text": [
      "\r",
      " 13%|█▎        | 102/800 [20:21<2:24:45, 12.44s/it]"
     ]
    },
    {
     "name": "stdout",
     "output_type": "stream",
     "text": [
      "Epoch 102/800: 12.48s - Training loss = 0.000581 - Validation loss = 0.111172\n"
     ]
    },
    {
     "name": "stderr",
     "output_type": "stream",
     "text": [
      "\r",
      " 13%|█▎        | 103/800 [20:34<2:25:14, 12.50s/it]"
     ]
    },
    {
     "name": "stdout",
     "output_type": "stream",
     "text": [
      "Epoch 103/800: 12.64s - Training loss = 0.000489 - Validation loss = 0.115463\n"
     ]
    },
    {
     "name": "stderr",
     "output_type": "stream",
     "text": [
      "\r",
      " 13%|█▎        | 104/800 [20:46<2:24:59, 12.50s/it]"
     ]
    },
    {
     "name": "stdout",
     "output_type": "stream",
     "text": [
      "Epoch 104/800: 12.49s - Training loss = 0.000562 - Validation loss = 0.112329\n"
     ]
    },
    {
     "name": "stderr",
     "output_type": "stream",
     "text": [
      "\r",
      " 13%|█▎        | 105/800 [20:59<2:24:40, 12.49s/it]"
     ]
    },
    {
     "name": "stdout",
     "output_type": "stream",
     "text": [
      "Epoch 105/800: 12.47s - Training loss = 0.000561 - Validation loss = 0.117220\n"
     ]
    },
    {
     "name": "stderr",
     "output_type": "stream",
     "text": [
      "\r",
      " 13%|█▎        | 106/800 [21:11<2:24:32, 12.50s/it]"
     ]
    },
    {
     "name": "stdout",
     "output_type": "stream",
     "text": [
      "Epoch 106/800: 12.51s - Training loss = 0.000560 - Validation loss = 0.112510\n"
     ]
    },
    {
     "name": "stderr",
     "output_type": "stream",
     "text": [
      "\r",
      " 13%|█▎        | 107/800 [21:24<2:24:21, 12.50s/it]"
     ]
    },
    {
     "name": "stdout",
     "output_type": "stream",
     "text": [
      "Epoch 107/800: 12.50s - Training loss = 0.000700 - Validation loss = 0.114823\n"
     ]
    },
    {
     "name": "stderr",
     "output_type": "stream",
     "text": [
      "\r",
      " 14%|█▎        | 108/800 [21:36<2:21:45, 12.29s/it]"
     ]
    },
    {
     "name": "stdout",
     "output_type": "stream",
     "text": [
      "Epoch 108/800: 11.81s - Training loss = 0.000561 - Validation loss = 0.115172\n"
     ]
    },
    {
     "name": "stderr",
     "output_type": "stream",
     "text": [
      "\r",
      " 14%|█▎        | 109/800 [21:48<2:20:08, 12.17s/it]"
     ]
    },
    {
     "name": "stdout",
     "output_type": "stream",
     "text": [
      "Epoch 109/800: 11.88s - Training loss = 0.000495 - Validation loss = 0.112131\n"
     ]
    },
    {
     "name": "stderr",
     "output_type": "stream",
     "text": [
      "\r",
      " 14%|█▍        | 110/800 [22:00<2:19:53, 12.16s/it]"
     ]
    },
    {
     "name": "stdout",
     "output_type": "stream",
     "text": [
      "Epoch 110/800: 12.16s - Training loss = 0.000594 - Validation loss = 0.111474\n"
     ]
    },
    {
     "name": "stderr",
     "output_type": "stream",
     "text": [
      "\r",
      " 14%|█▍        | 111/800 [22:12<2:19:44, 12.17s/it]"
     ]
    },
    {
     "name": "stdout",
     "output_type": "stream",
     "text": [
      "Epoch 111/800: 12.18s - Training loss = 0.000492 - Validation loss = 0.112437\n"
     ]
    },
    {
     "name": "stderr",
     "output_type": "stream",
     "text": [
      "\r",
      " 14%|█▍        | 112/800 [22:24<2:19:39, 12.18s/it]"
     ]
    },
    {
     "name": "stdout",
     "output_type": "stream",
     "text": [
      "Epoch 112/800: 12.20s - Training loss = 0.000590 - Validation loss = 0.112696\n"
     ]
    },
    {
     "name": "stderr",
     "output_type": "stream",
     "text": [
      "\r",
      " 14%|█▍        | 113/800 [22:36<2:19:31, 12.19s/it]"
     ]
    },
    {
     "name": "stdout",
     "output_type": "stream",
     "text": [
      "Epoch 113/800: 12.20s - Training loss = 0.000565 - Validation loss = 0.110608\n"
     ]
    },
    {
     "name": "stderr",
     "output_type": "stream",
     "text": [
      "\r",
      " 14%|█▍        | 114/800 [22:49<2:19:40, 12.22s/it]"
     ]
    },
    {
     "name": "stdout",
     "output_type": "stream",
     "text": [
      "Epoch 114/800: 12.29s - Training loss = 0.000512 - Validation loss = 0.111538\n"
     ]
    },
    {
     "name": "stderr",
     "output_type": "stream",
     "text": [
      "\r",
      " 14%|█▍        | 115/800 [23:01<2:19:53, 12.25s/it]"
     ]
    },
    {
     "name": "stdout",
     "output_type": "stream",
     "text": [
      "Epoch 115/800: 12.34s - Training loss = 0.000547 - Validation loss = 0.110172\n"
     ]
    },
    {
     "name": "stderr",
     "output_type": "stream",
     "text": [
      "\r",
      " 14%|█▍        | 116/800 [23:14<2:21:55, 12.45s/it]"
     ]
    },
    {
     "name": "stdout",
     "output_type": "stream",
     "text": [
      "Epoch 116/800: 12.90s - Training loss = 0.000566 - Validation loss = 0.109560\n"
     ]
    },
    {
     "name": "stderr",
     "output_type": "stream",
     "text": [
      "\r",
      " 15%|█▍        | 117/800 [23:27<2:22:34, 12.53s/it]"
     ]
    },
    {
     "name": "stdout",
     "output_type": "stream",
     "text": [
      "Epoch 117/800: 12.70s - Training loss = 0.000527 - Validation loss = 0.110670\n"
     ]
    },
    {
     "name": "stderr",
     "output_type": "stream",
     "text": [
      "\r",
      " 15%|█▍        | 118/800 [23:39<2:21:25, 12.44s/it]"
     ]
    },
    {
     "name": "stdout",
     "output_type": "stream",
     "text": [
      "Epoch 118/800: 12.25s - Training loss = 0.000581 - Validation loss = 0.112604\n"
     ]
    },
    {
     "name": "stderr",
     "output_type": "stream",
     "text": [
      "\r",
      " 15%|█▍        | 119/800 [23:51<2:20:39, 12.39s/it]"
     ]
    },
    {
     "name": "stdout",
     "output_type": "stream",
     "text": [
      "Epoch 119/800: 12.28s - Training loss = 0.000501 - Validation loss = 0.112579\n"
     ]
    },
    {
     "name": "stderr",
     "output_type": "stream",
     "text": [
      "\r",
      " 15%|█▌        | 120/800 [24:03<2:19:44, 12.33s/it]"
     ]
    },
    {
     "name": "stdout",
     "output_type": "stream",
     "text": [
      "Epoch 120/800: 12.18s - Training loss = 0.000534 - Validation loss = 0.109011\n"
     ]
    },
    {
     "name": "stderr",
     "output_type": "stream",
     "text": [
      "\r",
      " 15%|█▌        | 121/800 [24:16<2:19:07, 12.29s/it]"
     ]
    },
    {
     "name": "stdout",
     "output_type": "stream",
     "text": [
      "Epoch 121/800: 12.21s - Training loss = 0.000549 - Validation loss = 0.112876\n"
     ]
    },
    {
     "name": "stderr",
     "output_type": "stream",
     "text": [
      "\r",
      " 15%|█▌        | 122/800 [24:28<2:19:11, 12.32s/it]"
     ]
    },
    {
     "name": "stdout",
     "output_type": "stream",
     "text": [
      "Epoch 122/800: 12.37s - Training loss = 0.000485 - Validation loss = 0.109560\n"
     ]
    },
    {
     "name": "stderr",
     "output_type": "stream",
     "text": [
      "\r",
      " 15%|█▌        | 123/800 [24:40<2:18:34, 12.28s/it]"
     ]
    },
    {
     "name": "stdout",
     "output_type": "stream",
     "text": [
      "Epoch 123/800: 12.19s - Training loss = 0.000617 - Validation loss = 0.111794\n"
     ]
    },
    {
     "name": "stderr",
     "output_type": "stream",
     "text": [
      "\r",
      " 16%|█▌        | 124/800 [24:52<2:18:13, 12.27s/it]"
     ]
    },
    {
     "name": "stdout",
     "output_type": "stream",
     "text": [
      "Epoch 124/800: 12.24s - Training loss = 0.000602 - Validation loss = 0.112172\n"
     ]
    },
    {
     "name": "stderr",
     "output_type": "stream",
     "text": [
      "\r",
      " 16%|█▌        | 125/800 [25:05<2:17:45, 12.25s/it]"
     ]
    },
    {
     "name": "stdout",
     "output_type": "stream",
     "text": [
      "Epoch 125/800: 12.19s - Training loss = 0.000614 - Validation loss = 0.112804\n"
     ]
    },
    {
     "name": "stderr",
     "output_type": "stream",
     "text": [
      "\r",
      " 16%|█▌        | 126/800 [25:17<2:17:46, 12.27s/it]"
     ]
    },
    {
     "name": "stdout",
     "output_type": "stream",
     "text": [
      "Epoch 126/800: 12.31s - Training loss = 0.000615 - Validation loss = 0.113711\n"
     ]
    },
    {
     "name": "stderr",
     "output_type": "stream",
     "text": [
      "\r",
      " 16%|█▌        | 127/800 [25:29<2:17:26, 12.25s/it]"
     ]
    },
    {
     "name": "stdout",
     "output_type": "stream",
     "text": [
      "Epoch 127/800: 12.22s - Training loss = 0.000575 - Validation loss = 0.111714\n"
     ]
    },
    {
     "name": "stderr",
     "output_type": "stream",
     "text": [
      "\r",
      " 16%|█▌        | 128/800 [25:41<2:17:24, 12.27s/it]"
     ]
    },
    {
     "name": "stdout",
     "output_type": "stream",
     "text": [
      "Epoch 128/800: 12.31s - Training loss = 0.000433 - Validation loss = 0.108249\n"
     ]
    },
    {
     "name": "stderr",
     "output_type": "stream",
     "text": [
      "\r",
      " 16%|█▌        | 129/800 [25:54<2:17:41, 12.31s/it]"
     ]
    },
    {
     "name": "stdout",
     "output_type": "stream",
     "text": [
      "Epoch 129/800: 12.41s - Training loss = 0.000565 - Validation loss = 0.111278\n"
     ]
    },
    {
     "name": "stderr",
     "output_type": "stream",
     "text": [
      "\r",
      " 16%|█▋        | 130/800 [26:06<2:17:26, 12.31s/it]"
     ]
    },
    {
     "name": "stdout",
     "output_type": "stream",
     "text": [
      "Epoch 130/800: 12.30s - Training loss = 0.000560 - Validation loss = 0.113887\n"
     ]
    },
    {
     "name": "stderr",
     "output_type": "stream",
     "text": [
      "\r",
      " 16%|█▋        | 131/800 [26:18<2:16:58, 12.28s/it]"
     ]
    },
    {
     "name": "stdout",
     "output_type": "stream",
     "text": [
      "Epoch 131/800: 12.23s - Training loss = 0.000533 - Validation loss = 0.112320\n"
     ]
    },
    {
     "name": "stderr",
     "output_type": "stream",
     "text": [
      "\r",
      " 16%|█▋        | 132/800 [26:31<2:16:37, 12.27s/it]"
     ]
    },
    {
     "name": "stdout",
     "output_type": "stream",
     "text": [
      "Epoch 132/800: 12.24s - Training loss = 0.000512 - Validation loss = 0.110873\n"
     ]
    },
    {
     "name": "stderr",
     "output_type": "stream",
     "text": [
      "\r",
      " 17%|█▋        | 133/800 [26:43<2:16:20, 12.26s/it]"
     ]
    },
    {
     "name": "stdout",
     "output_type": "stream",
     "text": [
      "Epoch 133/800: 12.25s - Training loss = 0.000567 - Validation loss = 0.112222\n"
     ]
    },
    {
     "name": "stderr",
     "output_type": "stream",
     "text": [
      "\r",
      " 17%|█▋        | 134/800 [26:55<2:16:06, 12.26s/it]"
     ]
    },
    {
     "name": "stdout",
     "output_type": "stream",
     "text": [
      "Epoch 134/800: 12.25s - Training loss = 0.000467 - Validation loss = 0.111893\n"
     ]
    },
    {
     "name": "stderr",
     "output_type": "stream",
     "text": [
      "\r",
      " 17%|█▋        | 135/800 [27:07<2:15:54, 12.26s/it]"
     ]
    },
    {
     "name": "stdout",
     "output_type": "stream",
     "text": [
      "Epoch 135/800: 12.26s - Training loss = 0.000494 - Validation loss = 0.109198\n"
     ]
    },
    {
     "name": "stderr",
     "output_type": "stream",
     "text": [
      "\r",
      " 17%|█▋        | 136/800 [27:19<2:15:25, 12.24s/it]"
     ]
    },
    {
     "name": "stdout",
     "output_type": "stream",
     "text": [
      "Epoch 136/800: 12.18s - Training loss = 0.000555 - Validation loss = 0.112744\n"
     ]
    },
    {
     "name": "stderr",
     "output_type": "stream",
     "text": [
      "\r",
      " 17%|█▋        | 137/800 [27:32<2:15:10, 12.23s/it]"
     ]
    },
    {
     "name": "stdout",
     "output_type": "stream",
     "text": [
      "Epoch 137/800: 12.22s - Training loss = 0.000536 - Validation loss = 0.109608\n"
     ]
    },
    {
     "name": "stderr",
     "output_type": "stream",
     "text": [
      "\r",
      " 17%|█▋        | 138/800 [27:44<2:14:02, 12.15s/it]"
     ]
    },
    {
     "name": "stdout",
     "output_type": "stream",
     "text": [
      "Epoch 138/800: 11.95s - Training loss = 0.000500 - Validation loss = 0.110377\n"
     ]
    },
    {
     "name": "stderr",
     "output_type": "stream",
     "text": [
      "\r",
      " 17%|█▋        | 139/800 [27:56<2:13:49, 12.15s/it]"
     ]
    },
    {
     "name": "stdout",
     "output_type": "stream",
     "text": [
      "Epoch 139/800: 12.14s - Training loss = 0.000457 - Validation loss = 0.110527\n"
     ]
    },
    {
     "name": "stderr",
     "output_type": "stream",
     "text": [
      "\r",
      " 18%|█▊        | 140/800 [28:08<2:12:54, 12.08s/it]"
     ]
    },
    {
     "name": "stdout",
     "output_type": "stream",
     "text": [
      "Epoch 140/800: 11.93s - Training loss = 0.000466 - Validation loss = 0.112981\n"
     ]
    },
    {
     "name": "stderr",
     "output_type": "stream",
     "text": [
      "\r",
      " 18%|█▊        | 141/800 [28:20<2:12:13, 12.04s/it]"
     ]
    },
    {
     "name": "stdout",
     "output_type": "stream",
     "text": [
      "Epoch 141/800: 11.94s - Training loss = 0.000534 - Validation loss = 0.113190\n"
     ]
    },
    {
     "name": "stderr",
     "output_type": "stream",
     "text": [
      "\r",
      " 18%|█▊        | 142/800 [28:31<2:11:13, 11.97s/it]"
     ]
    },
    {
     "name": "stdout",
     "output_type": "stream",
     "text": [
      "Epoch 142/800: 11.79s - Training loss = 0.000475 - Validation loss = 0.107508\n"
     ]
    },
    {
     "name": "stderr",
     "output_type": "stream",
     "text": [
      "\r",
      " 18%|█▊        | 143/800 [28:43<2:11:00, 11.96s/it]"
     ]
    },
    {
     "name": "stdout",
     "output_type": "stream",
     "text": [
      "Epoch 143/800: 11.96s - Training loss = 0.000487 - Validation loss = 0.109696\n"
     ]
    },
    {
     "name": "stderr",
     "output_type": "stream",
     "text": [
      "\r",
      " 18%|█▊        | 144/800 [28:56<2:11:25, 12.02s/it]"
     ]
    },
    {
     "name": "stdout",
     "output_type": "stream",
     "text": [
      "Epoch 144/800: 12.15s - Training loss = 0.000503 - Validation loss = 0.109389\n"
     ]
    },
    {
     "name": "stderr",
     "output_type": "stream",
     "text": [
      "\r",
      " 18%|█▊        | 145/800 [29:08<2:11:41, 12.06s/it]"
     ]
    },
    {
     "name": "stdout",
     "output_type": "stream",
     "text": [
      "Epoch 145/800: 12.16s - Training loss = 0.000546 - Validation loss = 0.112090\n"
     ]
    },
    {
     "name": "stderr",
     "output_type": "stream",
     "text": [
      "\r",
      " 18%|█▊        | 146/800 [29:20<2:12:00, 12.11s/it]"
     ]
    },
    {
     "name": "stdout",
     "output_type": "stream",
     "text": [
      "Epoch 146/800: 12.22s - Training loss = 0.000530 - Validation loss = 0.107573\n"
     ]
    },
    {
     "name": "stderr",
     "output_type": "stream",
     "text": [
      "\r",
      " 18%|█▊        | 147/800 [29:32<2:12:01, 12.13s/it]"
     ]
    },
    {
     "name": "stdout",
     "output_type": "stream",
     "text": [
      "Epoch 147/800: 12.17s - Training loss = 0.000421 - Validation loss = 0.111178\n"
     ]
    },
    {
     "name": "stderr",
     "output_type": "stream",
     "text": [
      "\r",
      " 18%|█▊        | 148/800 [29:44<2:12:07, 12.16s/it]"
     ]
    },
    {
     "name": "stdout",
     "output_type": "stream",
     "text": [
      "Epoch 148/800: 12.22s - Training loss = 0.000473 - Validation loss = 0.109018\n"
     ]
    },
    {
     "name": "stderr",
     "output_type": "stream",
     "text": [
      "\r",
      " 19%|█▊        | 149/800 [29:57<2:12:18, 12.19s/it]"
     ]
    },
    {
     "name": "stdout",
     "output_type": "stream",
     "text": [
      "Epoch 149/800: 12.28s - Training loss = 0.000596 - Validation loss = 0.108168\n"
     ]
    },
    {
     "name": "stderr",
     "output_type": "stream",
     "text": [
      "\r",
      " 19%|█▉        | 150/800 [30:09<2:12:02, 12.19s/it]"
     ]
    },
    {
     "name": "stdout",
     "output_type": "stream",
     "text": [
      "Epoch 150/800: 12.17s - Training loss = 0.000472 - Validation loss = 0.109971\n"
     ]
    },
    {
     "name": "stderr",
     "output_type": "stream",
     "text": [
      "\r",
      " 19%|█▉        | 151/800 [30:21<2:11:45, 12.18s/it]"
     ]
    },
    {
     "name": "stdout",
     "output_type": "stream",
     "text": [
      "Epoch 151/800: 12.16s - Training loss = 0.000444 - Validation loss = 0.109041\n"
     ]
    },
    {
     "name": "stderr",
     "output_type": "stream",
     "text": [
      "\r",
      " 19%|█▉        | 152/800 [30:33<2:11:37, 12.19s/it]"
     ]
    },
    {
     "name": "stdout",
     "output_type": "stream",
     "text": [
      "Epoch 152/800: 12.20s - Training loss = 0.000506 - Validation loss = 0.111776\n"
     ]
    },
    {
     "name": "stderr",
     "output_type": "stream",
     "text": [
      "\r",
      " 19%|█▉        | 153/800 [30:45<2:11:21, 12.18s/it]"
     ]
    },
    {
     "name": "stdout",
     "output_type": "stream",
     "text": [
      "Epoch 153/800: 12.16s - Training loss = 0.000537 - Validation loss = 0.109716\n"
     ]
    },
    {
     "name": "stderr",
     "output_type": "stream",
     "text": [
      "\r",
      " 19%|█▉        | 154/800 [30:58<2:11:14, 12.19s/it]"
     ]
    },
    {
     "name": "stdout",
     "output_type": "stream",
     "text": [
      "Epoch 154/800: 12.21s - Training loss = 0.000642 - Validation loss = 0.109503\n"
     ]
    },
    {
     "name": "stderr",
     "output_type": "stream",
     "text": [
      "\r",
      " 19%|█▉        | 155/800 [31:10<2:11:03, 12.19s/it]"
     ]
    },
    {
     "name": "stdout",
     "output_type": "stream",
     "text": [
      "Epoch 155/800: 12.19s - Training loss = 0.000452 - Validation loss = 0.111603\n"
     ]
    },
    {
     "name": "stderr",
     "output_type": "stream",
     "text": [
      "\r",
      " 20%|█▉        | 156/800 [31:22<2:10:53, 12.19s/it]"
     ]
    },
    {
     "name": "stdout",
     "output_type": "stream",
     "text": [
      "Epoch 156/800: 12.20s - Training loss = 0.000490 - Validation loss = 0.109998\n"
     ]
    },
    {
     "name": "stderr",
     "output_type": "stream",
     "text": [
      "\r",
      " 20%|█▉        | 157/800 [31:34<2:10:47, 12.20s/it]"
     ]
    },
    {
     "name": "stdout",
     "output_type": "stream",
     "text": [
      "Epoch 157/800: 12.23s - Training loss = 0.000490 - Validation loss = 0.111195\n"
     ]
    },
    {
     "name": "stderr",
     "output_type": "stream",
     "text": [
      "\r",
      " 20%|█▉        | 158/800 [31:46<2:10:32, 12.20s/it]"
     ]
    },
    {
     "name": "stdout",
     "output_type": "stream",
     "text": [
      "Epoch 158/800: 12.19s - Training loss = 0.000434 - Validation loss = 0.108046\n"
     ]
    },
    {
     "name": "stderr",
     "output_type": "stream",
     "text": [
      "\r",
      " 20%|█▉        | 159/800 [31:59<2:10:17, 12.20s/it]"
     ]
    },
    {
     "name": "stdout",
     "output_type": "stream",
     "text": [
      "Epoch 159/800: 12.18s - Training loss = 0.000396 - Validation loss = 0.110268\n"
     ]
    },
    {
     "name": "stderr",
     "output_type": "stream",
     "text": [
      "\r",
      " 20%|██        | 160/800 [32:11<2:09:58, 12.19s/it]"
     ]
    },
    {
     "name": "stdout",
     "output_type": "stream",
     "text": [
      "Epoch 160/800: 12.16s - Training loss = 0.000404 - Validation loss = 0.113469\n"
     ]
    },
    {
     "name": "stderr",
     "output_type": "stream",
     "text": [
      "\r",
      " 20%|██        | 161/800 [32:23<2:09:34, 12.17s/it]"
     ]
    },
    {
     "name": "stdout",
     "output_type": "stream",
     "text": [
      "Epoch 161/800: 12.12s - Training loss = 0.000471 - Validation loss = 0.108136\n"
     ]
    },
    {
     "name": "stderr",
     "output_type": "stream",
     "text": [
      "\r",
      " 20%|██        | 162/800 [32:35<2:09:18, 12.16s/it]"
     ]
    },
    {
     "name": "stdout",
     "output_type": "stream",
     "text": [
      "Epoch 162/800: 12.15s - Training loss = 0.000465 - Validation loss = 0.110947\n"
     ]
    },
    {
     "name": "stderr",
     "output_type": "stream",
     "text": [
      "\r",
      " 20%|██        | 163/800 [32:47<2:09:30, 12.20s/it]"
     ]
    },
    {
     "name": "stdout",
     "output_type": "stream",
     "text": [
      "Epoch 163/800: 12.29s - Training loss = 0.000518 - Validation loss = 0.113648\n"
     ]
    },
    {
     "name": "stderr",
     "output_type": "stream",
     "text": [
      "\r",
      " 20%|██        | 164/800 [33:00<2:09:25, 12.21s/it]"
     ]
    },
    {
     "name": "stdout",
     "output_type": "stream",
     "text": [
      "Epoch 164/800: 12.24s - Training loss = 0.000413 - Validation loss = 0.109835\n"
     ]
    },
    {
     "name": "stderr",
     "output_type": "stream",
     "text": [
      "\r",
      " 21%|██        | 165/800 [33:12<2:09:17, 12.22s/it]"
     ]
    },
    {
     "name": "stdout",
     "output_type": "stream",
     "text": [
      "Epoch 165/800: 12.23s - Training loss = 0.000461 - Validation loss = 0.109713\n"
     ]
    },
    {
     "name": "stderr",
     "output_type": "stream",
     "text": [
      "\r",
      " 21%|██        | 166/800 [33:24<2:09:09, 12.22s/it]"
     ]
    },
    {
     "name": "stdout",
     "output_type": "stream",
     "text": [
      "Epoch 166/800: 12.24s - Training loss = 0.000557 - Validation loss = 0.112213\n"
     ]
    },
    {
     "name": "stderr",
     "output_type": "stream",
     "text": [
      "\r",
      " 21%|██        | 167/800 [33:36<2:09:11, 12.24s/it]"
     ]
    },
    {
     "name": "stdout",
     "output_type": "stream",
     "text": [
      "Epoch 167/800: 12.29s - Training loss = 0.000449 - Validation loss = 0.110936\n"
     ]
    },
    {
     "name": "stderr",
     "output_type": "stream",
     "text": [
      "\r",
      " 21%|██        | 168/800 [33:49<2:09:18, 12.28s/it]"
     ]
    },
    {
     "name": "stdout",
     "output_type": "stream",
     "text": [
      "Epoch 168/800: 12.35s - Training loss = 0.000466 - Validation loss = 0.110698\n"
     ]
    },
    {
     "name": "stderr",
     "output_type": "stream",
     "text": [
      "\r",
      " 21%|██        | 169/800 [34:01<2:09:08, 12.28s/it]"
     ]
    },
    {
     "name": "stdout",
     "output_type": "stream",
     "text": [
      "Epoch 169/800: 12.28s - Training loss = 0.000481 - Validation loss = 0.111618\n"
     ]
    },
    {
     "name": "stderr",
     "output_type": "stream",
     "text": [
      "\r",
      " 21%|██▏       | 170/800 [34:13<2:09:11, 12.30s/it]"
     ]
    },
    {
     "name": "stdout",
     "output_type": "stream",
     "text": [
      "Epoch 170/800: 12.36s - Training loss = 0.000500 - Validation loss = 0.107979\n"
     ]
    },
    {
     "name": "stderr",
     "output_type": "stream",
     "text": [
      "\r",
      " 21%|██▏       | 171/800 [34:26<2:08:49, 12.29s/it]"
     ]
    },
    {
     "name": "stdout",
     "output_type": "stream",
     "text": [
      "Epoch 171/800: 12.25s - Training loss = 0.000477 - Validation loss = 0.108951\n"
     ]
    },
    {
     "name": "stderr",
     "output_type": "stream",
     "text": [
      "\r",
      " 22%|██▏       | 172/800 [34:38<2:08:51, 12.31s/it]"
     ]
    },
    {
     "name": "stdout",
     "output_type": "stream",
     "text": [
      "Epoch 172/800: 12.36s - Training loss = 0.000443 - Validation loss = 0.108777\n"
     ]
    },
    {
     "name": "stderr",
     "output_type": "stream",
     "text": [
      "\r",
      " 22%|██▏       | 173/800 [34:50<2:08:15, 12.27s/it]"
     ]
    },
    {
     "name": "stdout",
     "output_type": "stream",
     "text": [
      "Epoch 173/800: 12.18s - Training loss = 0.000573 - Validation loss = 0.108726\n"
     ]
    },
    {
     "name": "stderr",
     "output_type": "stream",
     "text": [
      "\r",
      " 22%|██▏       | 174/800 [35:02<2:07:36, 12.23s/it]"
     ]
    },
    {
     "name": "stdout",
     "output_type": "stream",
     "text": [
      "Epoch 174/800: 12.13s - Training loss = 0.000467 - Validation loss = 0.108885\n"
     ]
    },
    {
     "name": "stderr",
     "output_type": "stream",
     "text": [
      "\r",
      " 22%|██▏       | 175/800 [35:14<2:07:15, 12.22s/it]"
     ]
    },
    {
     "name": "stdout",
     "output_type": "stream",
     "text": [
      "Epoch 175/800: 12.18s - Training loss = 0.000500 - Validation loss = 0.109629\n"
     ]
    },
    {
     "name": "stderr",
     "output_type": "stream",
     "text": [
      "\r",
      " 22%|██▏       | 176/800 [35:27<2:06:56, 12.21s/it]"
     ]
    },
    {
     "name": "stdout",
     "output_type": "stream",
     "text": [
      "Epoch 176/800: 12.18s - Training loss = 0.000433 - Validation loss = 0.109235\n"
     ]
    },
    {
     "name": "stderr",
     "output_type": "stream",
     "text": [
      "\r",
      " 22%|██▏       | 177/800 [35:39<2:06:35, 12.19s/it]"
     ]
    },
    {
     "name": "stdout",
     "output_type": "stream",
     "text": [
      "Epoch 177/800: 12.16s - Training loss = 0.000569 - Validation loss = 0.112974\n"
     ]
    },
    {
     "name": "stderr",
     "output_type": "stream",
     "text": [
      "\r",
      " 22%|██▏       | 178/800 [35:51<2:06:11, 12.17s/it]"
     ]
    },
    {
     "name": "stdout",
     "output_type": "stream",
     "text": [
      "Epoch 178/800: 12.12s - Training loss = 0.000486 - Validation loss = 0.109925\n"
     ]
    },
    {
     "name": "stderr",
     "output_type": "stream",
     "text": [
      "\r",
      " 22%|██▏       | 179/800 [36:03<2:05:56, 12.17s/it]"
     ]
    },
    {
     "name": "stdout",
     "output_type": "stream",
     "text": [
      "Epoch 179/800: 12.16s - Training loss = 0.000465 - Validation loss = 0.110412\n"
     ]
    },
    {
     "name": "stderr",
     "output_type": "stream",
     "text": [
      "\r",
      " 22%|██▎       | 180/800 [36:15<2:05:33, 12.15s/it]"
     ]
    },
    {
     "name": "stdout",
     "output_type": "stream",
     "text": [
      "Epoch 180/800: 12.11s - Training loss = 0.000470 - Validation loss = 0.111986\n"
     ]
    },
    {
     "name": "stderr",
     "output_type": "stream",
     "text": [
      "\r",
      " 23%|██▎       | 181/800 [36:27<2:05:20, 12.15s/it]"
     ]
    },
    {
     "name": "stdout",
     "output_type": "stream",
     "text": [
      "Epoch 181/800: 12.15s - Training loss = 0.000421 - Validation loss = 0.109908\n"
     ]
    },
    {
     "name": "stderr",
     "output_type": "stream",
     "text": [
      "\r",
      " 23%|██▎       | 182/800 [36:39<2:05:13, 12.16s/it]"
     ]
    },
    {
     "name": "stdout",
     "output_type": "stream",
     "text": [
      "Epoch 182/800: 12.18s - Training loss = 0.000461 - Validation loss = 0.109513\n"
     ]
    },
    {
     "name": "stderr",
     "output_type": "stream",
     "text": [
      "\r",
      " 23%|██▎       | 183/800 [36:52<2:05:11, 12.17s/it]"
     ]
    },
    {
     "name": "stdout",
     "output_type": "stream",
     "text": [
      "Epoch 183/800: 12.21s - Training loss = 0.000428 - Validation loss = 0.107922\n"
     ]
    },
    {
     "name": "stderr",
     "output_type": "stream",
     "text": [
      "\r",
      " 23%|██▎       | 184/800 [37:04<2:05:01, 12.18s/it]"
     ]
    },
    {
     "name": "stdout",
     "output_type": "stream",
     "text": [
      "Epoch 184/800: 12.19s - Training loss = 0.000441 - Validation loss = 0.110676\n"
     ]
    },
    {
     "name": "stderr",
     "output_type": "stream",
     "text": [
      "\r",
      " 23%|██▎       | 185/800 [37:16<2:04:54, 12.19s/it]"
     ]
    },
    {
     "name": "stdout",
     "output_type": "stream",
     "text": [
      "Epoch 185/800: 12.20s - Training loss = 0.000573 - Validation loss = 0.109637\n"
     ]
    },
    {
     "name": "stderr",
     "output_type": "stream",
     "text": [
      "\r",
      " 23%|██▎       | 186/800 [37:28<2:04:46, 12.19s/it]"
     ]
    },
    {
     "name": "stdout",
     "output_type": "stream",
     "text": [
      "Epoch 186/800: 12.21s - Training loss = 0.000488 - Validation loss = 0.110333\n"
     ]
    },
    {
     "name": "stderr",
     "output_type": "stream",
     "text": [
      "\r",
      " 23%|██▎       | 187/800 [37:41<2:04:42, 12.21s/it]"
     ]
    },
    {
     "name": "stdout",
     "output_type": "stream",
     "text": [
      "Epoch 187/800: 12.24s - Training loss = 0.000483 - Validation loss = 0.113289\n"
     ]
    },
    {
     "name": "stderr",
     "output_type": "stream",
     "text": [
      "\r",
      " 24%|██▎       | 188/800 [37:53<2:04:23, 12.20s/it]"
     ]
    },
    {
     "name": "stdout",
     "output_type": "stream",
     "text": [
      "Epoch 188/800: 12.17s - Training loss = 0.000494 - Validation loss = 0.108066\n"
     ]
    },
    {
     "name": "stderr",
     "output_type": "stream",
     "text": [
      "\r",
      " 24%|██▎       | 189/800 [38:05<2:03:52, 12.17s/it]"
     ]
    },
    {
     "name": "stdout",
     "output_type": "stream",
     "text": [
      "Epoch 189/800: 12.09s - Training loss = 0.000490 - Validation loss = 0.110120\n"
     ]
    },
    {
     "name": "stderr",
     "output_type": "stream",
     "text": [
      "\r",
      " 24%|██▍       | 190/800 [38:17<2:03:43, 12.17s/it]"
     ]
    },
    {
     "name": "stdout",
     "output_type": "stream",
     "text": [
      "Epoch 190/800: 12.18s - Training loss = 0.000421 - Validation loss = 0.108185\n"
     ]
    },
    {
     "name": "stderr",
     "output_type": "stream",
     "text": [
      "\r",
      " 24%|██▍       | 191/800 [38:29<2:03:32, 12.17s/it]"
     ]
    },
    {
     "name": "stdout",
     "output_type": "stream",
     "text": [
      "Epoch 191/800: 12.18s - Training loss = 0.000532 - Validation loss = 0.113115\n"
     ]
    },
    {
     "name": "stderr",
     "output_type": "stream",
     "text": [
      "\r",
      " 24%|██▍       | 192/800 [38:41<2:03:24, 12.18s/it]"
     ]
    },
    {
     "name": "stdout",
     "output_type": "stream",
     "text": [
      "Epoch 192/800: 12.19s - Training loss = 0.000437 - Validation loss = 0.109637\n"
     ]
    },
    {
     "name": "stderr",
     "output_type": "stream",
     "text": [
      "\r",
      " 24%|██▍       | 192/800 [38:54<2:03:11, 12.16s/it]"
     ]
    },
    {
     "name": "stdout",
     "output_type": "stream",
     "text": [
      "Epoch 193/800: -0.00s - Training loss = 0.000481 - Validation loss = 0.107995\n"
     ]
    },
    {
     "name": "stderr",
     "output_type": "stream",
     "text": [
      "\n"
     ]
    },
    {
     "ename": "TypeError",
     "evalue": "expected str, bytes or os.PathLike object, not dict",
     "output_type": "error",
     "traceback": [
      "\u001b[0;31m---------------------------------------------------------------------------\u001b[0m",
      "\u001b[0;31mTypeError\u001b[0m                                 Traceback (most recent call last)",
      "Cell \u001b[0;32mIn[296], line 90\u001b[0m\n\u001b[1;32m     86\u001b[0m     \u001b[38;5;28mprint\u001b[39m(\u001b[38;5;124mf\u001b[39m\u001b[38;5;124m'\u001b[39m\u001b[38;5;124mEpoch \u001b[39m\u001b[38;5;132;01m{\u001b[39;00mepoch\u001b[38;5;241m+\u001b[39m\u001b[38;5;241m1\u001b[39m\u001b[38;5;132;01m}\u001b[39;00m\u001b[38;5;124m/\u001b[39m\u001b[38;5;132;01m{\u001b[39;00mn_epochs\u001b[38;5;132;01m}\u001b[39;00m\u001b[38;5;124m: \u001b[39m\u001b[38;5;132;01m{\u001b[39;00mt2\u001b[38;5;241m-\u001b[39mt1\u001b[38;5;132;01m:\u001b[39;00m\u001b[38;5;124m.2f\u001b[39m\u001b[38;5;132;01m}\u001b[39;00m\u001b[38;5;124ms - Training loss = \u001b[39m\u001b[38;5;132;01m{\u001b[39;00mlossAvg\u001b[38;5;132;01m:\u001b[39;00m\u001b[38;5;124m.6f\u001b[39m\u001b[38;5;132;01m}\u001b[39;00m\u001b[38;5;124m - Validation loss = \u001b[39m\u001b[38;5;132;01m{\u001b[39;00mloss_valid\u001b[38;5;241m.\u001b[39mitem()\u001b[38;5;132;01m:\u001b[39;00m\u001b[38;5;124m.6f\u001b[39m\u001b[38;5;132;01m}\u001b[39;00m\u001b[38;5;124m'\u001b[39m)\n\u001b[1;32m     89\u001b[0m torch\u001b[38;5;241m.\u001b[39msave(model_valid, folder\u001b[38;5;241m+\u001b[39m\u001b[38;5;124m\"\u001b[39m\u001b[38;5;124m/\u001b[39m\u001b[38;5;124m\"\u001b[39m\u001b[38;5;241m+\u001b[39mmodel_file)\n\u001b[0;32m---> 90\u001b[0m \u001b[43mnp\u001b[49m\u001b[38;5;241;43m.\u001b[39;49m\u001b[43msave\u001b[49m\u001b[43m(\u001b[49m\u001b[43mloss_dict\u001b[49m\u001b[43m,\u001b[49m\u001b[43mfolder\u001b[49m\u001b[38;5;241;43m+\u001b[39;49m\u001b[38;5;124;43m\"\u001b[39;49m\u001b[38;5;124;43m/loss_\u001b[39;49m\u001b[38;5;124;43m\"\u001b[39;49m\u001b[38;5;241;43m+\u001b[39;49m\u001b[43mmodel_file\u001b[49m\u001b[43m \u001b[49m\u001b[43m)\u001b[49m\n\u001b[1;32m     91\u001b[0m \u001b[38;5;28mprint\u001b[39m(loss_valid_min)\n",
      "File \u001b[0;32m/usr/lib/python3/dist-packages/numpy/lib/npyio.py:539\u001b[0m, in \u001b[0;36msave\u001b[0;34m(file, arr, allow_pickle, fix_imports)\u001b[0m\n\u001b[1;32m    537\u001b[0m     file_ctx \u001b[38;5;241m=\u001b[39m contextlib\u001b[38;5;241m.\u001b[39mnullcontext(file)\n\u001b[1;32m    538\u001b[0m \u001b[38;5;28;01melse\u001b[39;00m:\n\u001b[0;32m--> 539\u001b[0m     file \u001b[38;5;241m=\u001b[39m os_fspath(file)\n\u001b[1;32m    540\u001b[0m     \u001b[38;5;28;01mif\u001b[39;00m \u001b[38;5;129;01mnot\u001b[39;00m file\u001b[38;5;241m.\u001b[39mendswith(\u001b[38;5;124m'\u001b[39m\u001b[38;5;124m.npy\u001b[39m\u001b[38;5;124m'\u001b[39m):\n\u001b[1;32m    541\u001b[0m         file \u001b[38;5;241m=\u001b[39m file \u001b[38;5;241m+\u001b[39m \u001b[38;5;124m'\u001b[39m\u001b[38;5;124m.npy\u001b[39m\u001b[38;5;124m'\u001b[39m\n",
      "\u001b[0;31mTypeError\u001b[0m: expected str, bytes or os.PathLike object, not dict"
     ]
    }
   ],
   "source": [
    "torch.cuda.empty_cache()\n",
    "gc.collect()\n",
    "\n",
    "#               x_train             y_train\n",
    "# Dimension 0 : évènements          évènements\n",
    "# Dimension 1 : directions (3)      labels (4)\n",
    "# Dimension 2 : stations (50)       -\n",
    "# Dimension 3 : temps (2048)    \n",
    "\n",
    "x_train, y_train = arrData[0][0], arrData[0][1]\n",
    "for data_file in train_file[1:]:\n",
    "    x_train = np.concatenate((x_train, arrData[0][0]), axis = 0)\n",
    "    y_train = np.concatenate((y_train, arrData[0][1]), axis = 0)\n",
    "\n",
    "x_train = torch.permute(torch.Tensor(x_train).to(device),(0,3,1,2))\n",
    "y_train = torch.Tensor(y_train[:,1:]).to(device)\n",
    "pos = torch.Tensor(arrData[0][2].T).to(device)\n",
    "dist = torch.Tensor(arrData[0][3]).to(device)\n",
    "\n",
    "(x_valid, y_valid, _, _) = np.load(valid_file, allow_pickle=True)\n",
    "x_valid = torch.permute(torch.Tensor(x_valid).to(device),(0,3,1,2))\n",
    "y_valid = torch.Tensor(y_valid[:,1:]).to(device)\n",
    "\n",
    "\n",
    "knn = torch.topk(dist, K, largest=False)[1].cpu().detach().numpy()\n",
    "adj = np.zeros((len(dist), len(dist)))\n",
    "for i, row in enumerate(knn):\n",
    "    for j in row:\n",
    "        adj[i, j] = 1\n",
    "adj = torch.Tensor(adj).to(device)\n",
    "\n",
    "model =  md.GNN2(x_train.shape[1], adj, pos, dropout_rate).to(device)\n",
    "\n",
    "model_file = \"model_GNN2.pt\"\n",
    "optimizer = torch.optim.Adam(model.parameters(),lr=lr)\n",
    "if L2:\n",
    "    criterion = nn.MSELoss().to(device)\n",
    "else:\n",
    "    criterion = nn.L1Loss().to(device)\n",
    "    \n",
    "loss_dict = {\"train\" : [],\n",
    "            \"valid\" : []}\n",
    "loss_valid_min = 0\n",
    "\n",
    "\n",
    "earlyStopper = EarlyStopper(50, 0.0002)\n",
    "for epoch in tqdm(range(n_epochs)):\n",
    "    \n",
    "    t1 = timeit.default_timer()\n",
    "    inds = np.arange(len(x_train))\n",
    "    np.random.shuffle(inds)\n",
    "    \n",
    "    lossAvg = 0\n",
    "    count = 0\n",
    "    \n",
    "    for k in range(0, len(x_train)-batch_size, batch_size):\n",
    "        inds_k = inds[k:k+batch_size]\n",
    "        results = model(x_train[inds_k])\n",
    "        loss = criterion(results,y_train[inds_k])\n",
    "\n",
    "#        print(loss.item(),k,epoch,time()-t)\n",
    "        optimizer.zero_grad()\n",
    "        loss.backward()\n",
    "        optimizer.step()\n",
    "        lossAvg = loss.item()\n",
    "        count +=1\n",
    "        \n",
    "    lossAvg = lossAvg / count\n",
    "    loss_dict[\"train\"].append(lossAvg)\n",
    "\n",
    "    # Early stopping\n",
    "    with torch.no_grad():\n",
    "        results_valid = model(x_valid)\n",
    "    loss_valid = criterion(results_valid, y_valid)\n",
    "    #print(loss_valid.item(), epoch, time()-t)\n",
    "    if loss_valid_min == 0 or loss_valid_min > loss_valid.item():\n",
    "        loss_valid_min = loss_valid.item()\n",
    "        model_valid = model.state_dict()\n",
    "    loss_dict[\"valid\"].append(loss_valid.item())\n",
    "    \n",
    "    if earlyStopper.early_stop(loss_valid.item()):\n",
    "        print(f'Epoch {epoch+1}/{n_epochs}: {t2-t1:.2f}s - Training loss = {lossAvg:.6f} - Validation loss = {loss_valid.item():.6f}')\n",
    "        break\n",
    "    \n",
    "    t2 = timeit.default_timer()\n",
    "    print(f'Epoch {epoch+1}/{n_epochs}: {t2-t1:.2f}s - Training loss = {lossAvg:.6f} - Validation loss = {loss_valid.item():.6f}')\n",
    "\n",
    "\n",
    "torch.save(model_valid, folder+\"/\"+model_file)\n",
    "np.save(folder+\"/loss_\"+model_file, loss_dict)\n",
    "print(loss_valid_min)"
   ]
  },
  {
   "cell_type": "markdown",
   "id": "96989e76",
   "metadata": {},
   "source": [
    "### Plotting the results"
   ]
  },
  {
   "cell_type": "code",
   "execution_count": 302,
   "id": "2416691a",
   "metadata": {},
   "outputs": [
    {
     "data": {
      "text/plain": [
       "Text(0.5, 1.0, 'Loss function for GNN2')"
      ]
     },
     "execution_count": 302,
     "metadata": {},
     "output_type": "execute_result"
    },
    {
     "data": {
      "image/png": "[encoded data removed]",
      "text/plain": [
       "<Figure size 800x600 with 1 Axes>"
      ]
     },
     "metadata": {},
     "output_type": "display_data"
    }
   ],
   "source": [
    "\n",
    "model_file = \"model_GNN2.pt\"\n",
    "\n",
    "dict_loss = np.load(folder+\"/loss_\"+model_file + \".npy\", allow_pickle=True).item()\n",
    "\n",
    "fig = plt.figure(figsize=(8,6))\n",
    "plt.semilogy(dict_loss[\"train\"], linewidth=4, color=\"red\", alpha=0.5, label=\"Training\")\n",
    "plt.semilogy(dict_loss[\"valid\"], linewidth=4, color=\"blue\", alpha=0.5, label=\"Validation\")\n",
    "plt.plot(np.argmin(dict_loss[\"valid\"]), np.min(dict_loss[\"valid\"]), 'k*', markersize=12, label=\"Best Epoch\")\n",
    "plt.legend()\n",
    "plt.xlabel(\"Epochs\")\n",
    "plt.ylabel(\"Loss\")\n",
    "plt.title(\"Loss function for GNN2\")\n"
   ]
  },
  {
   "cell_type": "code",
   "execution_count": 303,
   "id": "fa92ecaa",
   "metadata": {},
   "outputs": [
    {
     "data": {
      "image/png": "[encoded data removed]",
      "text/plain": [
       "<Figure size 1600x600 with 6 Axes>"
      ]
     },
     "metadata": {},
     "output_type": "display_data"
    }
   ],
   "source": [
    "\n",
    "name = \"../SCEDC/agreg-results/GNN2-DATA-select-0-0\"\n",
    "name_ref = \".\"\n",
    "\n",
    "(results, labels, _) = pickle.load(open(name + \"-all-test-results-mul.pkl\", \"rb\"))\n",
    "if name_ref != \".\":\n",
    "    (results_ref, labels_ref, _) = pickle.load(open(name_ref + \"-all-test-results.pkl\", \"rb\"))\n",
    "\n",
    "fig, axs = plt.subplots(2, 3, figsize=(16, 6), gridspec_kw={'height_ratios':[1,3]})\n",
    "titles = (\"Distance\", \"Depth\", \"Magnitude\")\n",
    "err_ranges = ((0, 200), (-30, 30), (-2.0, 2.0))\n",
    "\n",
    "def plot_density(i, results, labels, l, pos):\n",
    "\n",
    "    ax = axs[1,i]\n",
    "\n",
    "    if i == 0:\n",
    "        lat = results[:, 0] * np.pi/180\n",
    "        lat_lab = labels[:, 0] * np.pi/180\n",
    "        lon = results[:, 1] * np.pi/180\n",
    "        lon_lab = labels[:, 1] * np.pi/180\n",
    "        test_diff = 6371 * np.arccos(np.sin(lat)*np.sin(lat_lab)+np.cos(lat)*np.cos(lat_lab)*np.cos(lon-lon_lab))\n",
    "    else:\n",
    "        test_diff = results[:, i+1] - labels[:, i+1]\n",
    "    \n",
    "    test_hist, test_bins = np.histogram(test_diff, bins=100, range=err_ranges[i], density=True)\n",
    "    test_bins = 0.5 * (test_bins[1:] + test_bins[:-1])\n",
    "\n",
    "    ax.plot(test_bins, test_hist, c=\"C\"+str(pos), lw=1., alpha=1, label=l)\n",
    "    ax.fill_between(test_bins, 0, test_hist, fc=\"C\"+str(pos), alpha=0.1)\n",
    "\n",
    "    ax = axs[0,i]\n",
    "\n",
    "    ax.boxplot(test_diff, sym=\"\", vert=False, whis=[5,95], positions=[pos], widths = 0.5, labels=[l])\n",
    "    if i != 0:\n",
    "        ax.set_yticks([])\n",
    "\n",
    "axs[1,0].set_xlabel(\"error [km]\")\n",
    "axs[1,1].set_xlabel(\"error [km]\")\n",
    "axs[1,2].set_xlabel(\"error\")\n",
    "axs[1,0].set_ylabel(\"density\")\n",
    "\n",
    "for j in range(2):\n",
    "    axs[j,0].set_xlim(0.0, 80.0)\n",
    "    axs[j,1].set_xlim(-20.0, 20.0)\n",
    "    axs[j,2].set_xlim(-0.5, 0.5)\n",
    "\n",
    "absvlines = [[0, 20, 40, 60, 80], [-20, -10, 0, 10, 20], [-0.4, -0.2, 0.0, 0.2, 0.4]]\n",
    "\n",
    "\n",
    "for i in range(3):\n",
    "    \n",
    "    for a in absvlines[i]:\n",
    "        axs[1,i].axvline(a, c=\"grey\", lw = 0.5)\n",
    "\n",
    "    if name_ref != \".\":\n",
    "        plot_density(i, results_ref, labels_ref, name_ref, 0)\n",
    "    plot_density(i, results, labels, \"GNN2\", 1)\n",
    "#    axs[1,i].legend()\n",
    "\n",
    "    axs[0,i].invert_yaxis()\n",
    "    axs[0,i].set_title(titles[i])\n",
    "\n",
    "\n",
    "plt.savefig(name + \"-density.jpeg\")\n",
    "\n",
    "\n",
    "\n"
   ]
  },
  {
   "cell_type": "markdown",
   "id": "19550e9e",
   "metadata": {},
   "source": [
    "### Third architecture : Dynamic Graph Neural Network GNN3"
   ]
  },
  {
   "cell_type": "markdown",
   "id": "e80cb68a",
   "metadata": {},
   "source": [
    "Like the second one, the third architecture replaces the second component of our general framework with a Message-Passing Neural Networks for which the graph is dynamically recomputed between each layer of the component. This time, the neighborhoods computed rely on two criteria which are the geographic proximity, the euclidean distance between the geographic coordinates $||p_i - p_j||_2$ of the stations, and the signal similarity  $||x_i - x_j||_2$, the euclidean distance between two signals waveforms of differents stations.\n",
    "\n",
    "<img src=\"./images/DynamicGraphConvLayer.png\" alt=\"\" />\n",
    "\n",
    "For this MPNN with a neighborhood k for a node $v_s$ at layer $l$ $\\mathbb{N^{(l)}_k}(v_s)$, the update equation is written as :\n",
    "\n",
    "$$ x^{(l+1)}_i = \\sum_k \\max_{j | k \\in \\mathbb{N^{(l)}_k}(v_i)} f_k^{(l)} \\big(u^{(l)}_i, u^{(l)}_j - u^{(l)}_i\\big) $$\n",
    "\n",
    "In this case, we have two neighborhoods $\\mathbb{N}^{(l)}_{geo}(v_s)$ and $\\mathbb{N}^{(l)}_{sig}(v_s)$ computed from $f^{(l)}_{geo}(p_i^{(l)}, p_j^{(l)} - p_i^{(l)}, x_i^{(l)}, x_j^{(l)} - x_i^{(l)})$ and $f^{(l)}_{sig}(x_i^{(l)}, x_j^{(l)} - x_i^{(l)})$."
   ]
  },
  {
   "cell_type": "code",
   "execution_count": null,
   "id": "26a75f0e",
   "metadata": {},
   "outputs": [],
   "source": [
    " \n",
    "class DynamicGraphConvLayer(nn.Module):\n",
    "\n",
    "\n",
    "    def __init__(self, in_channels, out_channels, K, dist, pos, activ = F.relu, dropout = 0, version = 3):\n",
    "        \"\"\"\n",
    "        :param in_channels: Number of input features at each node in each time step.\n",
    "        :param out_channels: Desired number of output features at each node in each time step.\n",
    "        :param K: Nearest neighbors hyperparameter\n",
    "        :param_pos: position of stations (2, num_nodes)\n",
    "        \"\"\"\n",
    "        super(DynamicGraphConvLayer, self).__init__()\n",
    "\n",
    "        self.version = version\n",
    "\n",
    "        self.K = K\n",
    "\n",
    "        self.pos = pos\n",
    "        self.diff = pos.unsqueeze(1)-pos.unsqueeze(2)                               # Shape (2, num_nodes, num_nodes)\n",
    "        self.ind_st_D = torch.topk(dist, self.K, largest=False)[1]                  # Shape (num_nodes, K)\n",
    "\n",
    "        self.D1 = nn.Linear(in_channels*2 + 4, out_channels//2)\n",
    "        self.D2 = nn.Linear(out_channels//2, out_channels)\n",
    "        nn.init.orthogonal_(self.D1.weight)\n",
    "        nn.init.orthogonal_(self.D2.weight)\n",
    "        \n",
    "        self.F1 = nn.Linear(in_channels*2, out_channels//2)\n",
    "        self.F2 = nn.Linear(out_channels//2, out_channels)\n",
    "        nn.init.orthogonal_(self.F1.weight)\n",
    "        nn.init.orthogonal_(self.F2.weight)\n",
    "\n",
    "\n",
    "        self.activ = activ\n",
    "        self.dropout = nn.Dropout2d(dropout)\n",
    "        self.pooling = nn.MaxPool3d((K, 1, 1))\n",
    "\n",
    "    def knn(self, X):\n",
    "        \"\"\"\n",
    "        :param X: Features of shape (batch_size, num_features=in_channels, num_nodes, num_timesteps)\n",
    "        return tensor of shape (batch_size, num_features=in_channels, num_nodes, num_nodes, num_timesteps)\n",
    "        \"\"\"\n",
    "        \n",
    "        diff = X.unsqueeze(2)-X.unsqueeze(3)                                            # Shape (batch_size, in_channels, num_nodes, num_nodes, num_timesteps)\n",
    "        dist = torch.sum(diff**2, (1,4))                                                # Shape (batch_size, num_nodes, num_nodes)\n",
    "        indices = torch.topk(dist, self.K, largest=False)[1]                          # Shape (batch_size, num_nodes, K)\n",
    "        return indices, diff\n",
    "\n",
    "    def forward(self, X):\n",
    "        \"\"\"\n",
    "        :param X: Input data of shape (batch_size, num_features=in_channels, num_nodes, num_timesteps)\n",
    "        \"\"\"\n",
    "\n",
    "        X_F_1 = X.repeat(self.K, 1, 1, 1, 1)                                        # Shape (K, batch_size, in_channels, num_nodes, num_timesteps)\n",
    "        X_F_1 = X_F_1.permute(1, 3, 0, 4, 2)                                        # Shape (batch_size, num_nodes, K, num_timesteps, in_channels)\n",
    "        ind_st_F, diffX = self.knn(X)\n",
    "        ind_st_F = ind_st_F.repeat(X.shape[1], X.shape[3], 1, 1, 1)                 # Shape (in_channels, num_timesteps, batch_size, num_nodes, K)\n",
    "        ind_st_F = ind_st_F.permute(2, 0, 3, 4, 1)                                  # Shape (batch_size, in_channels, num_nodes, K, num_timesteps)\n",
    "        X_F_2 = torch.gather(diffX, 3, ind_st_F)                                    # Shape (batch_size, in_channels, num_nodes, K, num_timesteps)\n",
    "        X_F_2 = X_F_2.permute(0, 2, 3, 4, 1)                                        # Shape (batch_size, num_nodes, K, num_timesteps, in_channels)\n",
    "\n",
    "        X_F = torch.cat((X_F_1, X_F_2), 4)                                          # Shape (batch_size, num_nodes, K, num_timesteps, 2*in_channels)\n",
    "        \n",
    "        Y_F = X_F_1 + X_F_2                                                         # pour les variantes\n",
    "\n",
    "        Y = self.pos.repeat(X.shape[0], X.shape[3], 1, 1).permute(0, 2, 3, 1)       # Shape (batch_size, 2, num_nodes, num_timesteps)\n",
    "        X_Y = torch.cat((X, Y), 1)                                                  # Shape (batch_size, in_channels + 2, num_nodes, num_timesteps)\n",
    "        X_D_1 = X_Y.repeat(self.K, 1, 1, 1, 1)                                      # Shape (K, batch_size, in_channels + 2, num_nodes, num_timesteps)\n",
    "        X_D_1 = X_D_1.permute(1, 3, 0, 4, 2)                                        # Shape (batch_size, num_nodes, K, num_timesteps, in_channels + 2)\n",
    "        ind_st_D = self.ind_st_D.repeat(X.shape[0], X_Y.shape[1], X.shape[3], 1, 1) # Shape (batch_size, in_channels + 2, num_timesteps, num_nodes, K)\n",
    "        ind_st_D = ind_st_D.permute(0, 1, 3, 4, 2)                                  # Shape (batch_size, in_channels + 2, num_nodes, K, num_timesteps)\n",
    "        diffY = self.diff.repeat(X.shape[0], X.shape[3], 1, 1, 1)                   # Shape (batch_size, num_timesteps, 2, num_nodes, num_nodes)\n",
    "        diffY = diffY.permute(0, 2, 3, 4, 1)                                        # Shape (batch_size, 2, num_nodes, num_nodes, num_timesteps)\n",
    "        diff = torch.cat((diffX, diffY), 1)                                         # Shape (batch_size, in_channels + 2, num_nodes, num_nodes, num_timesteps)\n",
    "        X_D_2 = torch.gather(diff, 3, ind_st_D)                                     # Shape (batch_size, in_channels + 2, num_nodes, K, num_timesteps)\n",
    "        X_D_2 = X_D_2.permute(0, 2, 3, 4, 1)                                        # Shape (batch_size, num_nodes, K, num_timesteps, in_channels + 2)\n",
    "        \n",
    "        X_D = torch.cat((X_D_1, X_D_2), 4)                                          # Shape (batch_size, num_nodes, K, num_timesteps, 2*in_channels + 4)\n",
    "     \n",
    "        Y_D = X_D_1 + X_D_2                                                         # pour les variantes\n",
    "\n",
    "        X_D = self.activ(self.D1(X_D))\n",
    "        X_D = self.activ(self.D2(X_D))\n",
    "\n",
    "        X_F = self.activ(self.F1(X_F))\n",
    "        X_F = self.activ(self.F2(X_F))\n",
    "\n",
    "        X = self.pooling(X_D) + self.pooling(X_F)\n",
    "        \n",
    "        X = torch.squeeze(X, dim = 2).permute(0, 3, 1, 2)\n",
    "        X = self.dropout(X)\n",
    "\n",
    "        return X"
   ]
  },
  {
   "cell_type": "markdown",
   "id": "b4abe69e",
   "metadata": {},
   "source": [
    "Thanks to the dynamic redefinition of neighborhoods N  at each layer, the model can\n",
    "adapt to evolving relational structures within the data. The combination of multi-criteria\n",
    "neighborhood definitions, dynamic message passing, and multi-scale feature represen-\n",
    "tations motivates our use of the term Dynamic-GNN for this architecture.\n",
    "<img src=\"./images/GNN3.png\" alt=\"\" />\n",
    "\n",
    "Before being passed as an input of the third component, a multi-scaled embedding is produced from all of the graphs layers such as:\n",
    "\n",
    "$\\tilde{x} = x^{(0)} || ... || x^{(L)}$"
   ]
  },
  {
   "cell_type": "code",
   "execution_count": null,
   "id": "5cb3000e",
   "metadata": {},
   "outputs": [],
   "source": [
    "\n",
    "        \n",
    "class GNN3(nn.Module):\n",
    "\n",
    "    def __init__(self, in_channels, K, dist, pos, dropout = 0, nlayers = 4):\n",
    "        \"\"\"\n",
    "        :param in_channels: Number of input features at each node in each time step.\n",
    "        :param pos: Positions of stations : shape (2, num_nodes)\n",
    "        \"\"\"\n",
    "\n",
    "        super(GNN3, self).__init__()\n",
    "        \n",
    "        self.CNNlayer = CNN(in_channels = in_channels, dropout = dropout)\n",
    "        \n",
    "        self.slayers = nn.ModuleList()\n",
    "        for L in range(nlayers):\n",
    "            self.slayers.append(DynamicGraphConvLayer(in_channels = 64, out_channels = 64, K = K, dist = dist, pos = pos, activ = F.relu, dropout = dropout, version = version))\n",
    "        \n",
    "        self.MLP = MLP(num_nodes = pos.shape[1], in_channels = 64 * (nlayers + 1), dropout = dropout)\n",
    "\n",
    "    def forward(self, X):\n",
    "        \"\"\"\n",
    "        :param X: Input data of shape (batch_size, num_features=in_channels, num_nodes=N, num_timesteps)\n",
    "        \"\"\"\n",
    "        \n",
    "        X = self.CNNlayer(X)\n",
    "        \n",
    "        X_layers = [X]\n",
    "        for L in self.slayers:\n",
    "            X_layers.append(L(X_layers[-1]))\n",
    "\n",
    "        X = torch.cat(X_layers, 1)\n",
    "        X = self.MLP(X)\n",
    "        \n",
    "        return X\n"
   ]
  },
  {
   "cell_type": "code",
   "execution_count": 323,
   "id": "86027d16",
   "metadata": {
    "scrolled": true
   },
   "outputs": [
    {
     "name": "stdout",
     "output_type": "stream",
     "text": [
      "Total params: 326756\n"
     ]
    },
    {
     "data": {
      "text/plain": [
       "==========================================================================================\n",
       "Layer (type:depth-idx)                   Output Shape              Param #\n",
       "==========================================================================================\n",
       "GNN3                                     [4]                       --\n",
       "├─CNN: 1-1                               [1, 64, 72, 1]            --\n",
       "│    └─ModuleList: 2-1                   --                        --\n",
       "│    │    └─TimeBlock: 3-1               [1, 8, 72, 509]           784\n",
       "│    │    └─TimeBlock: 3-2               [1, 16, 72, 124]          3,248\n",
       "│    │    └─TimeBlock: 3-3               [1, 32, 72, 28]           12,896\n",
       "│    │    └─TimeBlock: 3-4               [1, 64, 72, 20]           30,848\n",
       "│    │    └─TimeBlock: 3-5               [1, 64, 72, 1]            20,544\n",
       "├─ModuleList: 1-2                        --                        --\n",
       "│    └─DynamicGraphConvLayer: 2-2        [1, 64, 72, 1]            --\n",
       "│    │    └─Linear: 3-6                  [1, 72, 5, 1, 32]         4,256\n",
       "│    │    └─Linear: 3-7                  [1, 72, 5, 1, 64]         2,112\n",
       "│    │    └─Linear: 3-8                  [1, 72, 5, 1, 32]         4,128\n",
       "│    │    └─Linear: 3-9                  [1, 72, 5, 1, 64]         2,112\n",
       "│    │    └─MaxPool3d: 3-10              [1, 72, 1, 1, 64]         --\n",
       "│    │    └─MaxPool3d: 3-11              [1, 72, 1, 1, 64]         --\n",
       "│    │    └─Dropout2d: 3-12              [1, 64, 72, 1]            --\n",
       "│    └─DynamicGraphConvLayer: 2-3        [1, 64, 72, 1]            --\n",
       "│    │    └─Linear: 3-13                 [1, 72, 5, 1, 32]         4,256\n",
       "│    │    └─Linear: 3-14                 [1, 72, 5, 1, 64]         2,112\n",
       "│    │    └─Linear: 3-15                 [1, 72, 5, 1, 32]         4,128\n",
       "│    │    └─Linear: 3-16                 [1, 72, 5, 1, 64]         2,112\n",
       "│    │    └─MaxPool3d: 3-17              [1, 72, 1, 1, 64]         --\n",
       "│    │    └─MaxPool3d: 3-18              [1, 72, 1, 1, 64]         --\n",
       "│    │    └─Dropout2d: 3-19              [1, 64, 72, 1]            --\n",
       "│    └─DynamicGraphConvLayer: 2-4        [1, 64, 72, 1]            --\n",
       "│    │    └─Linear: 3-20                 [1, 72, 5, 1, 32]         4,256\n",
       "│    │    └─Linear: 3-21                 [1, 72, 5, 1, 64]         2,112\n",
       "│    │    └─Linear: 3-22                 [1, 72, 5, 1, 32]         4,128\n",
       "│    │    └─Linear: 3-23                 [1, 72, 5, 1, 64]         2,112\n",
       "│    │    └─MaxPool3d: 3-24              [1, 72, 1, 1, 64]         --\n",
       "│    │    └─MaxPool3d: 3-25              [1, 72, 1, 1, 64]         --\n",
       "│    │    └─Dropout2d: 3-26              [1, 64, 72, 1]            --\n",
       "│    └─DynamicGraphConvLayer: 2-5        [1, 64, 72, 1]            --\n",
       "│    │    └─Linear: 3-27                 [1, 72, 5, 1, 32]         4,256\n",
       "│    │    └─Linear: 3-28                 [1, 72, 5, 1, 64]         2,112\n",
       "│    │    └─Linear: 3-29                 [1, 72, 5, 1, 32]         4,128\n",
       "│    │    └─Linear: 3-30                 [1, 72, 5, 1, 64]         2,112\n",
       "│    │    └─MaxPool3d: 3-31              [1, 72, 1, 1, 64]         --\n",
       "│    │    └─MaxPool3d: 3-32              [1, 72, 1, 1, 64]         --\n",
       "│    │    └─Dropout2d: 3-33              [1, 64, 72, 1]            --\n",
       "│    └─DynamicGraphConvLayer: 2-6        [1, 64, 72, 1]            --\n",
       "│    │    └─Linear: 3-34                 [1, 72, 5, 1, 32]         4,256\n",
       "│    │    └─Linear: 3-35                 [1, 72, 5, 1, 64]         2,112\n",
       "│    │    └─Linear: 3-36                 [1, 72, 5, 1, 32]         4,128\n",
       "│    │    └─Linear: 3-37                 [1, 72, 5, 1, 64]         2,112\n",
       "│    │    └─MaxPool3d: 3-38              [1, 72, 1, 1, 64]         --\n",
       "│    │    └─MaxPool3d: 3-39              [1, 72, 1, 1, 64]         --\n",
       "│    │    └─Dropout2d: 3-40              [1, 64, 72, 1]            --\n",
       "│    └─DynamicGraphConvLayer: 2-7        [1, 64, 72, 1]            --\n",
       "│    │    └─Linear: 3-41                 [1, 72, 5, 1, 32]         4,256\n",
       "│    │    └─Linear: 3-42                 [1, 72, 5, 1, 64]         2,112\n",
       "│    │    └─Linear: 3-43                 [1, 72, 5, 1, 32]         4,128\n",
       "│    │    └─Linear: 3-44                 [1, 72, 5, 1, 64]         2,112\n",
       "│    │    └─MaxPool3d: 3-45              [1, 72, 1, 1, 64]         --\n",
       "│    │    └─MaxPool3d: 3-46              [1, 72, 1, 1, 64]         --\n",
       "│    │    └─Dropout2d: 3-47              [1, 64, 72, 1]            --\n",
       "│    └─DynamicGraphConvLayer: 2-8        [1, 64, 72, 1]            --\n",
       "│    │    └─Linear: 3-48                 [1, 72, 5, 1, 32]         4,256\n",
       "│    │    └─Linear: 3-49                 [1, 72, 5, 1, 64]         2,112\n",
       "│    │    └─Linear: 3-50                 [1, 72, 5, 1, 32]         4,128\n",
       "│    │    └─Linear: 3-51                 [1, 72, 5, 1, 64]         2,112\n",
       "│    │    └─MaxPool3d: 3-52              [1, 72, 1, 1, 64]         --\n",
       "│    │    └─MaxPool3d: 3-53              [1, 72, 1, 1, 64]         --\n",
       "│    │    └─Dropout2d: 3-54              [1, 64, 72, 1]            --\n",
       "│    └─DynamicGraphConvLayer: 2-9        [1, 64, 72, 1]            --\n",
       "│    │    └─Linear: 3-55                 [1, 72, 5, 1, 32]         4,256\n",
       "│    │    └─Linear: 3-56                 [1, 72, 5, 1, 64]         2,112\n",
       "│    │    └─Linear: 3-57                 [1, 72, 5, 1, 32]         4,128\n",
       "│    │    └─Linear: 3-58                 [1, 72, 5, 1, 64]         2,112\n",
       "│    │    └─MaxPool3d: 3-59              [1, 72, 1, 1, 64]         --\n",
       "│    │    └─MaxPool3d: 3-60              [1, 72, 1, 1, 64]         --\n",
       "│    │    └─Dropout2d: 3-61              [1, 64, 72, 1]            --\n",
       "│    └─DynamicGraphConvLayer: 2-10       [1, 64, 72, 1]            --\n",
       "│    │    └─Linear: 3-62                 [1, 72, 5, 1, 32]         4,256\n",
       "│    │    └─Linear: 3-63                 [1, 72, 5, 1, 64]         2,112\n",
       "│    │    └─Linear: 3-64                 [1, 72, 5, 1, 32]         4,128\n",
       "│    │    └─Linear: 3-65                 [1, 72, 5, 1, 64]         2,112\n",
       "│    │    └─MaxPool3d: 3-66              [1, 72, 1, 1, 64]         --\n",
       "│    │    └─MaxPool3d: 3-67              [1, 72, 1, 1, 64]         --\n",
       "│    │    └─Dropout2d: 3-68              [1, 64, 72, 1]            --\n",
       "│    └─DynamicGraphConvLayer: 2-11       [1, 64, 72, 1]            --\n",
       "│    │    └─Linear: 3-69                 [1, 72, 5, 1, 32]         4,256\n",
       "│    │    └─Linear: 3-70                 [1, 72, 5, 1, 64]         2,112\n",
       "│    │    └─Linear: 3-71                 [1, 72, 5, 1, 32]         4,128\n",
       "│    │    └─Linear: 3-72                 [1, 72, 5, 1, 64]         2,112\n",
       "│    │    └─MaxPool3d: 3-73              [1, 72, 1, 1, 64]         --\n",
       "│    │    └─MaxPool3d: 3-74              [1, 72, 1, 1, 64]         --\n",
       "│    │    └─Dropout2d: 3-75              [1, 64, 72, 1]            --\n",
       "│    └─DynamicGraphConvLayer: 2-12       [1, 64, 72, 1]            --\n",
       "│    │    └─Linear: 3-76                 [1, 72, 5, 1, 32]         4,256\n",
       "│    │    └─Linear: 3-77                 [1, 72, 5, 1, 64]         2,112\n",
       "│    │    └─Linear: 3-78                 [1, 72, 5, 1, 32]         4,128\n",
       "│    │    └─Linear: 3-79                 [1, 72, 5, 1, 64]         2,112\n",
       "│    │    └─MaxPool3d: 3-80              [1, 72, 1, 1, 64]         --\n",
       "│    │    └─MaxPool3d: 3-81              [1, 72, 1, 1, 64]         --\n",
       "│    │    └─Dropout2d: 3-82              [1, 64, 72, 1]            --\n",
       "│    └─DynamicGraphConvLayer: 2-13       [1, 64, 72, 1]            --\n",
       "│    │    └─Linear: 3-83                 [1, 72, 5, 1, 32]         4,256\n",
       "│    │    └─Linear: 3-84                 [1, 72, 5, 1, 64]         2,112\n",
       "│    │    └─Linear: 3-85                 [1, 72, 5, 1, 32]         4,128\n",
       "│    │    └─Linear: 3-86                 [1, 72, 5, 1, 64]         2,112\n",
       "│    │    └─MaxPool3d: 3-87              [1, 72, 1, 1, 64]         --\n",
       "│    │    └─MaxPool3d: 3-88              [1, 72, 1, 1, 64]         --\n",
       "│    │    └─Dropout2d: 3-89              [1, 64, 72, 1]            --\n",
       "├─MLP: 1-3                               [4]                       --\n",
       "│    └─MaxPool2d: 2-14                   [1, 832, 1, 1]            --\n",
       "│    └─Linear: 2-15                      [128]                     106,624\n",
       "│    └─Dropout: 2-16                     [128]                     --\n",
       "│    └─Linear: 2-17                      [4]                       516\n",
       "==========================================================================================\n",
       "Total params: 326,756\n",
       "Trainable params: 326,756\n",
       "Non-trainable params: 0\n",
       "Total mult-adds (Units.MEGABYTES): 423.90\n",
       "==========================================================================================\n",
       "Input size (MB): 1.77\n",
       "Forward/backward pass size (MB): 57.32\n",
       "Params size (MB): 1.31\n",
       "Estimated Total Size (MB): 60.39\n",
       "=========================================================================================="
      ]
     },
     "execution_count": 323,
     "metadata": {},
     "output_type": "execute_result"
    }
   ],
   "source": [
    "model = GNN3(x_train.shape[1], K, dist, pos, dropout_rate, version, nlayers).to(device)\n",
    "print('Total params: ' + str(sum(p.numel() for p in model.parameters())))\n",
    "summary(model, x_train[0].unsqueeze(0).shape)\n"
   ]
  },
  {
   "cell_type": "code",
   "execution_count": 298,
   "id": "2751895a",
   "metadata": {},
   "outputs": [
    {
     "name": "stderr",
     "output_type": "stream",
     "text": [
      "  0%|          | 0/800 [00:02<?, ?it/s]\n"
     ]
    },
    {
     "ename": "KeyboardInterrupt",
     "evalue": "",
     "output_type": "error",
     "traceback": [
      "\u001b[0;31m---------------------------------------------------------------------------\u001b[0m",
      "\u001b[0;31mKeyboardInterrupt\u001b[0m                         Traceback (most recent call last)",
      "Cell \u001b[0;32mIn[298], line 55\u001b[0m\n\u001b[1;32m     53\u001b[0m \u001b[38;5;66;03m#        print(loss.item(),k,epoch,time()-t)\u001b[39;00m\n\u001b[1;32m     54\u001b[0m         optimizer\u001b[38;5;241m.\u001b[39mzero_grad()\n\u001b[0;32m---> 55\u001b[0m         \u001b[43mloss\u001b[49m\u001b[38;5;241;43m.\u001b[39;49m\u001b[43mbackward\u001b[49m\u001b[43m(\u001b[49m\u001b[43m)\u001b[49m\n\u001b[1;32m     56\u001b[0m         optimizer\u001b[38;5;241m.\u001b[39mstep()\n\u001b[1;32m     57\u001b[0m         lossAvg \u001b[38;5;241m=\u001b[39m loss\u001b[38;5;241m.\u001b[39mitem()\n",
      "File \u001b[0;32m/usr/lib/python3/dist-packages/torch/_tensor.py:492\u001b[0m, in \u001b[0;36mTensor.backward\u001b[0;34m(self, gradient, retain_graph, create_graph, inputs)\u001b[0m\n\u001b[1;32m    482\u001b[0m \u001b[38;5;28;01mif\u001b[39;00m has_torch_function_unary(\u001b[38;5;28mself\u001b[39m):\n\u001b[1;32m    483\u001b[0m     \u001b[38;5;28;01mreturn\u001b[39;00m handle_torch_function(\n\u001b[1;32m    484\u001b[0m         Tensor\u001b[38;5;241m.\u001b[39mbackward,\n\u001b[1;32m    485\u001b[0m         (\u001b[38;5;28mself\u001b[39m,),\n\u001b[0;32m   (...)\u001b[0m\n\u001b[1;32m    490\u001b[0m         inputs\u001b[38;5;241m=\u001b[39minputs,\n\u001b[1;32m    491\u001b[0m     )\n\u001b[0;32m--> 492\u001b[0m \u001b[43mtorch\u001b[49m\u001b[38;5;241;43m.\u001b[39;49m\u001b[43mautograd\u001b[49m\u001b[38;5;241;43m.\u001b[39;49m\u001b[43mbackward\u001b[49m\u001b[43m(\u001b[49m\n\u001b[1;32m    493\u001b[0m \u001b[43m    \u001b[49m\u001b[38;5;28;43mself\u001b[39;49m\u001b[43m,\u001b[49m\u001b[43m \u001b[49m\u001b[43mgradient\u001b[49m\u001b[43m,\u001b[49m\u001b[43m \u001b[49m\u001b[43mretain_graph\u001b[49m\u001b[43m,\u001b[49m\u001b[43m \u001b[49m\u001b[43mcreate_graph\u001b[49m\u001b[43m,\u001b[49m\u001b[43m \u001b[49m\u001b[43minputs\u001b[49m\u001b[38;5;241;43m=\u001b[39;49m\u001b[43minputs\u001b[49m\n\u001b[1;32m    494\u001b[0m \u001b[43m\u001b[49m\u001b[43m)\u001b[49m\n",
      "File \u001b[0;32m/usr/lib/python3/dist-packages/torch/autograd/__init__.py:251\u001b[0m, in \u001b[0;36mbackward\u001b[0;34m(tensors, grad_tensors, retain_graph, create_graph, grad_variables, inputs)\u001b[0m\n\u001b[1;32m    246\u001b[0m     retain_graph \u001b[38;5;241m=\u001b[39m create_graph\n\u001b[1;32m    248\u001b[0m \u001b[38;5;66;03m# The reason we repeat the same comment below is that\u001b[39;00m\n\u001b[1;32m    249\u001b[0m \u001b[38;5;66;03m# some Python versions print out the first line of a multi-line function\u001b[39;00m\n\u001b[1;32m    250\u001b[0m \u001b[38;5;66;03m# calls in the traceback and some print out the last line\u001b[39;00m\n\u001b[0;32m--> 251\u001b[0m \u001b[43mVariable\u001b[49m\u001b[38;5;241;43m.\u001b[39;49m\u001b[43m_execution_engine\u001b[49m\u001b[38;5;241;43m.\u001b[39;49m\u001b[43mrun_backward\u001b[49m\u001b[43m(\u001b[49m\u001b[43m  \u001b[49m\u001b[38;5;66;43;03m# Calls into the C++ engine to run the backward pass\u001b[39;49;00m\n\u001b[1;32m    252\u001b[0m \u001b[43m    \u001b[49m\u001b[43mtensors\u001b[49m\u001b[43m,\u001b[49m\n\u001b[1;32m    253\u001b[0m \u001b[43m    \u001b[49m\u001b[43mgrad_tensors_\u001b[49m\u001b[43m,\u001b[49m\n\u001b[1;32m    254\u001b[0m \u001b[43m    \u001b[49m\u001b[43mretain_graph\u001b[49m\u001b[43m,\u001b[49m\n\u001b[1;32m    255\u001b[0m \u001b[43m    \u001b[49m\u001b[43mcreate_graph\u001b[49m\u001b[43m,\u001b[49m\n\u001b[1;32m    256\u001b[0m \u001b[43m    \u001b[49m\u001b[43minputs\u001b[49m\u001b[43m,\u001b[49m\n\u001b[1;32m    257\u001b[0m \u001b[43m    \u001b[49m\u001b[43mallow_unreachable\u001b[49m\u001b[38;5;241;43m=\u001b[39;49m\u001b[38;5;28;43;01mTrue\u001b[39;49;00m\u001b[43m,\u001b[49m\n\u001b[1;32m    258\u001b[0m \u001b[43m    \u001b[49m\u001b[43maccumulate_grad\u001b[49m\u001b[38;5;241;43m=\u001b[39;49m\u001b[38;5;28;43;01mTrue\u001b[39;49;00m\u001b[43m,\u001b[49m\n\u001b[1;32m    259\u001b[0m \u001b[43m\u001b[49m\u001b[43m)\u001b[49m\n",
      "\u001b[0;31mKeyboardInterrupt\u001b[0m: "
     ]
    }
   ],
   "source": [
    "torch.cuda.empty_cache()\n",
    "gc.collect()\n",
    "\n",
    "#               x_train             y_train\n",
    "# Dimension 0 : évènements          évènements\n",
    "# Dimension 1 : directions (3)      labels (4)\n",
    "# Dimension 2 : stations (50)       -\n",
    "# Dimension 3 : temps (2048)    \n",
    "\n",
    "x_train, y_train = arrData[0][0], arrData[0][1]\n",
    "for data_file in train_file[1:]:\n",
    "    x_train = np.concatenate((x_train, arrData[0][0]), axis = 0)\n",
    "    y_train = np.concatenate((y_train, arrData[0][1]), axis = 0)\n",
    "\n",
    "x_train = torch.permute(torch.Tensor(x_train).to(device),(0,3,1,2))\n",
    "y_train = torch.Tensor(y_train[:,1:]).to(device)\n",
    "pos = torch.Tensor(arrData[0][2].T).to(device)\n",
    "dist = torch.Tensor(arrData[0][3]).to(device)\n",
    "\n",
    "(x_valid, y_valid, _, _) = np.load(valid_file, allow_pickle=True)\n",
    "x_valid = torch.permute(torch.Tensor(x_valid).to(device),(0,3,1,2))\n",
    "y_valid = torch.Tensor(y_valid[:,1:]).to(device)\n",
    "\n",
    "\n",
    "model = md.GNN3(x_train.shape[1], K, dist, pos, dropout_rate, version, nlayers).to(device)\n",
    "\n",
    "optimizer = torch.optim.Adam(model.parameters(),lr=lr)\n",
    "if L2:\n",
    "    criterion = nn.MSELoss().to(device)\n",
    "else:\n",
    "    criterion = nn.L1Loss().to(device)\n",
    "    \n",
    "loss_dict = {\"train\" : [],\n",
    "            \"valid\" : []}\n",
    "loss_valid_min = 0\n",
    "\n",
    "\n",
    "earlyStopper = EarlyStopper(50, 0.0002)\n",
    "for epoch in tqdm(range(n_epochs)):\n",
    "    \n",
    "    t1 = timeit.default_timer()\n",
    "    inds = np.arange(len(x_train))\n",
    "    np.random.shuffle(inds)\n",
    "    \n",
    "    lossAvg = 0\n",
    "    count = 0\n",
    "    \n",
    "    for k in range(0, len(x_train)-batch_size, batch_size):\n",
    "        inds_k = inds[k:k+batch_size]\n",
    "        results = model(x_train[inds_k])\n",
    "        loss = criterion(results,y_train[inds_k])\n",
    "\n",
    "#        print(loss.item(),k,epoch,time()-t)\n",
    "        optimizer.zero_grad()\n",
    "        loss.backward()\n",
    "        optimizer.step()\n",
    "        lossAvg = loss.item()\n",
    "        count +=1\n",
    "        \n",
    "    lossAvg = lossAvg / count\n",
    "    loss_dict[\"train\"].append(lossAvg)\n",
    "\n",
    "    # Early stopping\n",
    "    with torch.no_grad():\n",
    "        results_valid = model(x_valid)\n",
    "    loss_valid = criterion(results_valid, y_valid)\n",
    "    #print(loss_valid.item(), epoch, time()-t)\n",
    "    if loss_valid_min == 0 or loss_valid_min > loss_valid.item():\n",
    "        loss_valid_min = loss_valid.item()\n",
    "        model_valid = model.state_dict()\n",
    "    loss_dict[\"valid\"].append(loss_valid.item())\n",
    "    \n",
    "    if earlyStopper.early_stop(loss_valid.item()):\n",
    "        print(f'Epoch {epoch+1}/{n_epochs}: {t2-t1:.2f}s - Training loss = {lossAvg:.6f} - Validation loss = {loss_valid.item():.6f}')\n",
    "        break\n",
    "    \n",
    "    t2 = timeit.default_timer()\n",
    "    print(f'Epoch {epoch+1}/{n_epochs}: {t2-t1:.2f}s - Training loss = {lossAvg:.6f} - Validation loss = {loss_valid.item():.6f}')\n",
    "\n",
    "\n",
    "torch.save(model_valid, folder+\"/\"+model_file)\n",
    "np.save(folder+\"/loss_\"+model_file, loss_dict)\n",
    "print(loss_valid_min)"
   ]
  },
  {
   "cell_type": "markdown",
   "id": "b5792a98",
   "metadata": {},
   "source": [
    "### Plotting the results"
   ]
  },
  {
   "cell_type": "code",
   "execution_count": null,
   "id": "8629c728",
   "metadata": {},
   "outputs": [],
   "source": []
  },
  {
   "cell_type": "code",
   "execution_count": 305,
   "id": "675b31ac",
   "metadata": {},
   "outputs": [
    {
     "data": {
      "image/png": "[encoded data removed]",
      "text/plain": [
       "<Figure size 1600x600 with 6 Axes>"
      ]
     },
     "metadata": {},
     "output_type": "display_data"
    }
   ],
   "source": [
    "\n",
    "name = \"../SCEDC/agreg-results/GNN3-DATA-select-0-0\"\n",
    "name_ref = \".\"\n",
    "\n",
    "(results, labels, _) = pickle.load(open(name + \"-all-test-results-mul.pkl\", \"rb\"))\n",
    "if name_ref != \".\":\n",
    "    (results_ref, labels_ref, _) = pickle.load(open(name_ref + \"-all-test-results.pkl\", \"rb\"))\n",
    "\n",
    "fig, axs = plt.subplots(2, 3, figsize=(16, 6), gridspec_kw={'height_ratios':[1,3]})\n",
    "titles = (\"Distance\", \"Depth\", \"Magnitude\")\n",
    "err_ranges = ((0, 200), (-30, 30), (-2.0, 2.0))\n",
    "\n",
    "def plot_density(i, results, labels, l, pos):\n",
    "\n",
    "    ax = axs[1,i]\n",
    "\n",
    "    if i == 0:\n",
    "        lat = results[:, 0] * np.pi/180\n",
    "        lat_lab = labels[:, 0] * np.pi/180\n",
    "        lon = results[:, 1] * np.pi/180\n",
    "        lon_lab = labels[:, 1] * np.pi/180\n",
    "        test_diff = 6371 * np.arccos(np.sin(lat)*np.sin(lat_lab)+np.cos(lat)*np.cos(lat_lab)*np.cos(lon-lon_lab))\n",
    "    else:\n",
    "        test_diff = results[:, i+1] - labels[:, i+1]\n",
    "    \n",
    "    test_hist, test_bins = np.histogram(test_diff, bins=100, range=err_ranges[i], density=True)\n",
    "    test_bins = 0.5 * (test_bins[1:] + test_bins[:-1])\n",
    "\n",
    "    ax.plot(test_bins, test_hist, c=\"C\"+str(pos), lw=1., alpha=1, label=l)\n",
    "    ax.fill_between(test_bins, 0, test_hist, fc=\"C\"+str(pos), alpha=0.1)\n",
    "\n",
    "    ax = axs[0,i]\n",
    "\n",
    "    ax.boxplot(test_diff, sym=\"\", vert=False, whis=[5,95], positions=[pos], widths = 0.5, labels=[l])\n",
    "    if i != 0:\n",
    "        ax.set_yticks([])\n",
    "\n",
    "axs[1,0].set_xlabel(\"error [km]\")\n",
    "axs[1,1].set_xlabel(\"error [km]\")\n",
    "axs[1,2].set_xlabel(\"error\")\n",
    "axs[1,0].set_ylabel(\"density\")\n",
    "\n",
    "for j in range(2):\n",
    "    axs[j,0].set_xlim(0.0, 80.0)\n",
    "    axs[j,1].set_xlim(-20.0, 20.0)\n",
    "    axs[j,2].set_xlim(-0.5, 0.5)\n",
    "\n",
    "absvlines = [[0, 20, 40, 60, 80], [-20, -10, 0, 10, 20], [-0.4, -0.2, 0.0, 0.2, 0.4]]\n",
    "\n",
    "\n",
    "for i in range(3):\n",
    "    \n",
    "    for a in absvlines[i]:\n",
    "        axs[1,i].axvline(a, c=\"grey\", lw = 0.5)\n",
    "\n",
    "    if name_ref != \".\":\n",
    "        plot_density(i, results_ref, labels_ref, name_ref, 0)\n",
    "    plot_density(i, results, labels, \"GNN3\", 1)\n",
    "#    axs[1,i].legend()\n",
    "\n",
    "    axs[0,i].invert_yaxis()\n",
    "    axs[0,i].set_title(titles[i])\n",
    "\n",
    "\n",
    "plt.savefig(name + \"-density.jpeg\")\n",
    "\n",
    "\n",
    "\n"
   ]
  },
  {
   "cell_type": "code",
   "execution_count": null,
   "id": "39151cb7",
   "metadata": {},
   "outputs": [],
   "source": [
    "import pickle\n",
    "import numpy as np\n",
    "import matplotlib.pyplot as plt\n",
    "\n",
    "models = [\"../SCEDC/agreg-results/GNN1-DATA-select-0-0\",\n",
    "          \"../SCEDC/agreg-results/GNN2-DATA-select-0-0\",\n",
    "          \"../SCEDC/agreg-results/GNN3-DATA-select-0-0\"]\n",
    "name = \"GNN\"\n",
    "\n",
    "fig, axs = plt.subplots(1, 3, figsize=(16, 8))\n",
    "titles = (\"Distance\", \"Depth\", \"Magnitude\")\n",
    "\n",
    "axs[0].set_ylabel(\"error [km]\")\n",
    "axs[1].set_ylabel(\"error [km]\")\n",
    "axs[2].set_ylabel(\"error\")\n",
    "#axs[0].set_ylim(10.0, 30.0)\n",
    "#axs[1].set_ylim(3.8, 5.0)\n",
    "#axs[2].set_ylim(0.15, 0.3)\n",
    "\n",
    "for i in range(3):\n",
    "\n",
    "    axs[i].set_xlim(-0.5, len(models)-0.5)\n",
    "\n",
    "    for j, model in enumerate(models):\n",
    "\n",
    "        (results, labels, index) = pickle.load(open(model + \"-all-test-results-mul.pkl\", \"rb\"))\n",
    "\n",
    "        if i == 0:\n",
    "            lat = results[:, 0] * np.pi/180\n",
    "            lat_lab = labels[:, 0] * np.pi/180\n",
    "            lon = results[:, 1] * np.pi/180\n",
    "            lon_lab = labels[:, 1] * np.pi/180\n",
    "            test_diff = 6371 * np.arccos(np.sin(lat)*np.sin(lat_lab)+np.cos(lat)*np.cos(lat_lab)*np.cos(lon-lon_lab))\n",
    "        else:\n",
    "            test_diff = results[:, i+1] - labels[:, i+1]\n",
    "\n",
    "        RMSE = np.zeros((10))\n",
    "        for f in range(10):\n",
    "            RMSE[f] = np.sqrt(np.sum((index[:,1] == f)*np.abs(test_diff)**2)/np.sum(index[:,1] == f))\n",
    "        \n",
    "        axs[i].boxplot(RMSE, sym=\"\", whis=[5,95], positions=[j], widths = 0.5, labels=[model.split(\"/\")[-1].split(\"-\")[0]])\n",
    "\n",
    "    axs[i].set_title(titles[i])\n",
    "\n",
    "plt.savefig(\"./images/\" + name + \"-boxplot.jpeg\")\n",
    "plt.show()\n",
    "\n"
   ]
  },
  {
   "cell_type": "markdown",
   "id": "88255e89",
   "metadata": {},
   "source": [
    "✅ Why Dynamical Graph + MPNN is Better\n",
    "1. Learnable Structure (vs Fixed GCN)\n",
    "\n",
    "   - Dynamic MPNNs build or adapt the graph structure (edges, weights) from data at each step.\n",
    "\n",
    "   - This is crucial when true relational structure is unknown or noisy (e.g., in point clouds, particle systems, social data).\n",
    "\n",
    "📌 Fixed GCNs assume a predefined adjacency matrix, which can be suboptimal or incorrect.\n",
    "\n",
    "2. Relational Expressivity (vs Deep Sets)\n",
    "\n",
    "    - MPNNs capture interactions between elements, not just aggregate them.\n",
    "\n",
    "    - Useful in systems where pairwise (or higher-order) interactions matter (e.g., physical simulations, molecules).\n",
    "\n",
    "📌 Deep Sets assume i.i.d. elements, and lack mechanisms for learning how elements influence each other.\n",
    "\n",
    "3. Adaptive Topology\n",
    "\n",
    "   - In dynamic graphs, connectivity can change with inputs or over time (e.g., based on learned attention, distances, features).\n",
    "\n",
    "   - This supports tasks like tracking, segmentation, graph prediction, etc.\n",
    "\n",
    "📌 Fixed graphs cannot adapt to changing relationships.\n",
    "\n",
    "⚠️ Limitations of Dynamical MPNNs\n",
    "\n",
    "   - Computational Overhead : Recomputing the graph and doing message passing is more expensive than Deep Sets or fixed GCNs.\n",
    "\n",
    "   - Stability : Dynamically learning edge weights or topologies can be unstable or harder to train without regularization.\n",
    "\n",
    "   - Interpretability : Dynamic graphs are harder to analyze or visualize, especially when edges are implicit (e.g., via attention).\n",
    "\n",
    "   - Scalability :  For large NN, dynamic graphs can require O(N2)O(N2) memory (if fully connected or dense attention).\n",
    "\n",
    "🧪 Summary Table\n",
    "\n",
    "| Model Type |  Perm. Invariance | Learns Structure | Captures Interactions | Adaptive | Cost |\n",
    "| ------------ | ----------------- | ---------------- | --------------------- | -------- | -----|\n",
    "| Deep Sets | ✅ Yes | ❌ No | ❌ No | ❌ No | 🔋 Low |\n",
    "| Fixed GCN | ❌ No (semi-local) | ❌ No | ✅ Yes (static) | ❌ No | ⚡ Medium |\n",
    "| Dynamic MPNN | ✅ / ❌ (depends) |  ✅ Yes | ✅ Yes (adaptive) | ✅ Yes | 🔥 High |"
   ]
  },
  {
   "cell_type": "markdown",
   "id": "724b0f4f",
   "metadata": {},
   "source": [
    "## 6. Hyperparameters optimization with the Optuna package (Working in progress)\n",
    "\n",
    "=> Add a few explanation on Optuna & the chosen sampler"
   ]
  },
  {
   "cell_type": "code",
   "execution_count": 183,
   "id": "c478b31e",
   "metadata": {},
   "outputs": [],
   "source": [
    "gc.collect()\n",
    "torch.cuda.empty_cache()\n",
    "def main_loop(model_name=\"GNN1\", batch_size=32, lr=0.0002, \n",
    "              K=5, nlayers=12, concat=True, L2=True,\n",
    "              dropout_rate=0.15, version=3, n_epochs=800,\n",
    "             patience=50, min_delta=0.0002, device=\"cuda:0\"):\n",
    "    \n",
    "    best_val = np.inf\n",
    "    try:\n",
    "        folder = os.path.join(os.getcwd(), 'example')\n",
    "        train_file = data[:-1] \n",
    "        valid_file = data[-1]\n",
    "        \n",
    "        strConcat = \"\"\n",
    "        strL2 = \"\"\n",
    "        if L2:\n",
    "            strL2 = \"L2\"\n",
    "        if concat:\n",
    "            strConcat=\"concat\"\n",
    "        model_file = f\"{model_name}_Ne{n_epochs}_Bs{batch_size}_lr{lr:.5f}_K{K}_Nl{nlayers}_{strConcat}_{strL2}.pt\"\n",
    "\n",
    "        #               x_train             y_train\n",
    "        # Dimension 0 : évènements          évènements\n",
    "        # Dimension 1 : directions (3)      labels (4)\n",
    "        # Dimension 2 : stations (50)       -\n",
    "        # Dimension 3 : temps (2048)        -\n",
    "\n",
    "        x_train, y_train = arrData[0][0], arrData[0][1]\n",
    "        for data_file in train_file[1:]:\n",
    "            x_train = np.concatenate((x_train, arrData[0][0]), axis = 0)\n",
    "            y_train = np.concatenate((y_train, arrData[0][1]), axis = 0)\n",
    "\n",
    "        x_train = torch.permute(torch.Tensor(x_train).to(device),(0,3,1,2))\n",
    "        y_train = torch.Tensor(y_train[:,2:]).to(device)\n",
    "        pos = torch.Tensor(arrData[0][2].T).to(device)\n",
    "        dist = torch.Tensor(arrData[0][3]).to(device)\n",
    "\n",
    "        (x_valid, y_valid, _, _) = np.load(valid_file, allow_pickle=True)\n",
    "        x_valid = torch.permute(torch.Tensor(x_valid).to(device),(0,3,1,2))\n",
    "        y_valid = torch.Tensor(y_valid[:,2:]).to(device)\n",
    "\n",
    "\n",
    "        knn = torch.topk(dist, K, largest=False)[1].cpu().detach().numpy()\n",
    "        adj = np.zeros((len(dist), len(dist)))\n",
    "        for i, row in enumerate(knn):\n",
    "            for j in row:\n",
    "                adj[i, j] = 1\n",
    "        adj = torch.Tensor(adj).to(device)\n",
    "\n",
    "\n",
    "        if model_name == \"GNN1\":\n",
    "            model = GNN1(x_train.shape[1], pos, dropout_rate).to(device)\n",
    "        elif model_name == \"GNN2\":\n",
    "            model = GNN2(x_train.shape[1], adj, pos, dropout_rate).to(device)\n",
    "        elif model_name == \"GNN3\":\n",
    "            model = GNN3(x_train.shape[1], K, dist, pos, dropout_rate, version, nlayers).to(device)\n",
    "        elif model_name == \"GNN1D\":\n",
    "            model = GNN1_depth(x_train.shape[1], pos, dropout_rate, concat, nlayers).to(device)\n",
    "        elif model_name == \"GNN2D\":\n",
    "            model = GNN2_depth(x_train.shape[1], adj, pos, dropout_rate, concat, nlayers).to(device)\n",
    "\n",
    "\n",
    "        model = model.to(device)\n",
    "        x_train = x_train.to(device)\n",
    "        y_train = y_train.to(device)\n",
    "        x_valid = x_valid.to(device)\n",
    "        y_valid = y_valid.to(device)\n",
    "        \n",
    "        optimizer = torch.optim.Adam(model.parameters(),lr=lr)\n",
    "        if L2:\n",
    "            criterion = nn.MSELoss().to(device)\n",
    "        else:\n",
    "            criterion = nn.L1Loss().to(device)\n",
    "\n",
    "\n",
    "        loss_dict = {\"train\" : [],\n",
    "                    \"valid\" : []}\n",
    "        loss_valid_min = 0\n",
    "        earlyStopper = EarlyStopper(patience, min_delta)\n",
    "        for epoch in range(n_epochs):\n",
    "\n",
    "            t1 = timeit.default_timer()\n",
    "            inds = np.arange(len(x_train))\n",
    "            np.random.shuffle(inds)\n",
    "\n",
    "            lossAvg = 0\n",
    "            count = 0\n",
    "\n",
    "            for k in range(0, len(x_train)-batch_size, batch_size):\n",
    "                inds_k = inds[k:k+batch_size]\n",
    "                results = model(x_train[inds_k])\n",
    "                loss = criterion(results,y_train[inds_k])\n",
    "\n",
    "        #        print(loss.item(),k,epoch,time()-t)\n",
    "                optimizer.zero_grad()\n",
    "                loss.backward()\n",
    "                optimizer.step()\n",
    "                lossAvg = loss.item()\n",
    "                count +=1\n",
    "\n",
    "            lossAvg = lossAvg / count\n",
    "            loss_dict[\"train\"].append(lossAvg)\n",
    "\n",
    "            # Early stopping\n",
    "            with torch.no_grad():\n",
    "                results_valid = model(x_valid)\n",
    "            loss_valid = criterion(results_valid, y_valid)\n",
    "            \n",
    "            if earlyStopper.early_stop(loss_valid.item()):\n",
    "                print(f'Epoch {epoch+1}/{n_epochs}: {t2-t1:.2f}s - Training loss = {lossAvg:.6f} - Validation loss = {loss_valid.item():.6f}')\n",
    "                break\n",
    "            \n",
    "            #print(loss_valid.item(), epoch, time()-t)\n",
    "            if loss_valid_min == 0 or loss_valid_min > loss_valid.item():\n",
    "                loss_valid_min = loss_valid.item()\n",
    "                model_valid = model.state_dict()\n",
    "            loss_dict[\"valid\"].append(loss_valid.item())\n",
    "            best_val = loss_valid_min\n",
    "\n",
    "            t2 = timeit.default_timer()\n",
    "            if epoch % 20 == 0:\n",
    "                print(f'Epoch {epoch+1}/{n_epochs}: {t2-t1:.2f}s - Training loss = {lossAvg:.6f} - Validation loss = {loss_valid.item():.6f}')\n",
    "\n",
    "\n",
    "        torch.save(model_valid, folder+\"/model_\"+model_file)\n",
    "        np.save(folder+\"/loss_\"+model_file, loss_dict)\n",
    "        print(loss_valid_min)\n",
    "        return best_val\n",
    "    except Exception as e:\n",
    "        print(e)\n",
    "        pass\n",
    "\n",
    "    finally:\n",
    "        return best_val"
   ]
  },
  {
   "cell_type": "code",
   "execution_count": 184,
   "id": "bcf49bae",
   "metadata": {},
   "outputs": [],
   "source": [
    "\n",
    "   \n",
    "search_space = {\n",
    "    'model_name' : [\"GNN1\", \"GNN2\", \"GNN3\"],\n",
    "    'batch_size': [16, 32, 128],\n",
    "    'lr': [0.00001, 0.000025, 0.00005, 0.000075, 0.0001],\n",
    "    'K' : [1, 5, 10],\n",
    "    'nlayers' : [4, 8, 12, 16],\n",
    "    'concat' : [True, False],\n",
    "    'L2' : [True, False]\n",
    "}\n"
   ]
  },
  {
   "cell_type": "code",
   "execution_count": 185,
   "id": "4d2ba683",
   "metadata": {},
   "outputs": [],
   "source": [
    "\n",
    "def objective(trial):\n",
    "    try:\n",
    "        model_name = trial.suggest_categorical(\"model_name\",search_space['model_name'])\n",
    "        batch_size = int(trial.suggest_categorical(\"batch_size\",search_space['batch_size']))\n",
    "        lr = float(trial.suggest_categorical(\"lr\",search_space['lr']))\n",
    "        K = int(trial.suggest_categorical(\"K\",search_space['K']))\n",
    "        nlayers = int(trial.suggest_categorical(\"nlayers\",search_space['nlayers']))\n",
    "        concat = bool(trial.suggest_categorical(\"concat\",search_space['concat']))\n",
    "        L2 = bool(trial.suggest_categorical(\"L2\", search_space['L2']))\n",
    "        print(f\"New trial : {model_name} - BS {batch_size} - lr {lr} - K {K} - nlayers {nlayers} - concat {concat} - L2 {L2} \")\n",
    "        obj = main_loop(model_name, batch_size, lr,  K, nlayers, concat, L2)\n",
    "    except Exception as e:\n",
    "        obj = np.inf\n",
    "        print(e)\n",
    "        pass\n",
    "    return obj"
   ]
  },
  {
   "cell_type": "code",
   "execution_count": 186,
   "id": "6959a7f2",
   "metadata": {},
   "outputs": [
    {
     "name": "stderr",
     "output_type": "stream",
     "text": [
      "/tmp/ipykernel_3984207/3479652192.py:12: ExperimentalWarning: QMCSampler is experimental (supported from v3.0.0). The interface can change in the future.\n",
      "  study = optuna.create_study(study_name=dBName, storage=storage, sampler=optuna.samplers.QMCSampler())\n",
      "[I 2025-06-05 10:00:05,883] A new study created in RDB with name: gnn\n"
     ]
    }
   ],
   "source": [
    "import optuna\n",
    "N_JOBS=2\n",
    "storage = \"sqlite:///gnn.db\"\n",
    "dBName = \"gnn\"\n",
    "\n",
    "\n",
    "if dBName in optuna.study.get_all_study_names(storage):\n",
    "    optuna.study.delete_study(study_name=dBName,\n",
    "                              storage=storage)\n",
    "\n",
    "\n",
    "study = optuna.create_study(study_name=dBName, storage=storage, sampler=optuna.samplers.QMCSampler())\n",
    "\n",
    "\n",
    "def optimize(n_trials):\n",
    "    study = optuna.load_study(study_name=dBName, storage=storage)\n",
    "    study.optimize(objective, n_trials=n_trials, n_jobs=N_JOBS)\n",
    "\n"
   ]
  },
  {
   "cell_type": "code",
   "execution_count": 188,
   "id": "f3751db5",
   "metadata": {},
   "outputs": [
    {
     "name": "stdout",
     "output_type": "stream",
     "text": [
      "New trial : GNN2 - BS 16 - lr 1e-05 - K 10 - nlayers 4 - concat False - L2 False \n",
      "New trial : GNN2 - BS 16 - lr 5e-05 - K 5 - nlayers 16 - concat True - L2 True \n",
      "Epoch 1/800: 678.44s - Training loss = 0.001210 - Validation loss = 0.488501\n"
     ]
    },
    {
     "name": "stderr",
     "output_type": "stream",
     "text": [
      "[I 2025-06-05 12:32:47,707] Trial 3 finished with value: 0.32984066009521484 and parameters: {'model_name': 'GNN2', 'batch_size': 16, 'lr': 1e-05, 'K': 10, 'nlayers': 4, 'concat': False, 'L2': False}. Best is trial 1 with value: 0.1138925850391388.\n"
     ]
    },
    {
     "name": "stdout",
     "output_type": "stream",
     "text": [
      "Epoch 1/800: 1400.44s - Training loss = 0.000697 - Validation loss = 0.210768\n",
      "Epoch 21/800: 66.74s - Training loss = 0.000938 - Validation loss = 0.336144\n",
      "Epoch 41/800: 58.10s - Training loss = 0.000904 - Validation loss = 0.334727\n",
      "Epoch 21/800: 156.96s - Training loss = 0.000494 - Validation loss = 0.198347\n",
      "Epoch 61/800: 33.87s - Training loss = 0.000794 - Validation loss = 0.331748\n",
      "Epoch 81/800: 33.51s - Training loss = 0.000754 - Validation loss = 0.332497\n",
      "Epoch 101/800: 33.91s - Training loss = 0.000800 - Validation loss = 0.334012\n",
      "Epoch 41/800: 88.80s - Training loss = 0.000290 - Validation loss = 0.130740\n",
      "Epoch 121/800: 33.62s - Training loss = 0.000953 - Validation loss = 0.332785\n",
      "Epoch 139/800: -0.00s - Training loss = 0.000789 - Validation loss = 0.332111\n",
      "0.32984066009521484\n",
      "New trial : GNN1 - BS 32 - lr 7.5e-05 - K 5 - nlayers 16 - concat False - L2 False \n",
      "Epoch 1/800: 21.74s - Training loss = 0.001897 - Validation loss = 0.339505\n",
      "Epoch 21/800: 21.84s - Training loss = 0.001500 - Validation loss = 0.331072\n",
      "Epoch 61/800: 107.65s - Training loss = 0.000195 - Validation loss = 0.120495\n",
      "Epoch 41/800: 21.30s - Training loss = 0.001583 - Validation loss = 0.329525\n",
      "Epoch 61/800: 21.92s - Training loss = 0.001096 - Validation loss = 0.224187\n",
      "Epoch 81/800: 21.92s - Training loss = 0.001115 - Validation loss = 0.204464\n",
      "Epoch 101/800: 21.47s - Training loss = 0.000962 - Validation loss = 0.195737\n",
      "Epoch 121/800: 21.45s - Training loss = 0.000887 - Validation loss = 0.194544\n",
      "Epoch 81/800: 106.96s - Training loss = 0.000173 - Validation loss = 0.116873\n",
      "Epoch 141/800: 21.33s - Training loss = 0.000581 - Validation loss = 0.189262\n",
      "Epoch 161/800: 21.34s - Training loss = 0.000532 - Validation loss = 0.189633\n",
      "Epoch 181/800: 21.18s - Training loss = 0.000635 - Validation loss = 0.191314\n",
      "Epoch 201/800: 21.52s - Training loss = 0.000642 - Validation loss = 0.189797\n",
      "Epoch 221/800: 21.36s - Training loss = 0.000535 - Validation loss = 0.190639\n",
      "Epoch 101/800: 105.35s - Training loss = 0.000209 - Validation loss = 0.121625\n",
      "Epoch 241/800: 21.33s - Training loss = 0.000564 - Validation loss = 0.185583\n",
      "Epoch 261/800: 21.21s - Training loss = 0.000586 - Validation loss = 0.185750\n"
     ]
    },
    {
     "name": "stderr",
     "output_type": "stream",
     "text": [
      "[I 2025-06-05 14:08:38,154] Trial 4 finished with value: 0.18316024541854858 and parameters: {'model_name': 'GNN1', 'batch_size': 32, 'lr': 7.5e-05, 'K': 5, 'nlayers': 16, 'concat': False, 'L2': False}. Best is trial 1 with value: 0.1138925850391388.\n"
     ]
    },
    {
     "name": "stdout",
     "output_type": "stream",
     "text": [
      "Epoch 268/800: -0.00s - Training loss = 0.000688 - Validation loss = 0.186952\n",
      "0.18316024541854858\n",
      "New trial : GNN3 - BS 16 - lr 2.5e-05 - K 10 - nlayers 8 - concat False - L2 True \n",
      "Epoch 1/800: 77.92s - Training loss = 0.000685 - Validation loss = 0.209775\n",
      "Epoch 121/800: 47.17s - Training loss = 0.000189 - Validation loss = 0.124986\n"
     ]
    },
    {
     "ename": "KeyboardInterrupt",
     "evalue": "",
     "output_type": "error",
     "traceback": [
      "\u001b[0;31m---------------------------------------------------------------------------\u001b[0m",
      "\u001b[0;31mKeyboardInterrupt\u001b[0m                         Traceback (most recent call last)",
      "File \u001b[0;32m/usr/lib/python3/dist-packages/optuna/study/_optimize.py:96\u001b[0m, in \u001b[0;36m_optimize\u001b[0;34m(study, func, n_trials, timeout, n_jobs, catch, callbacks, gc_after_trial, show_progress_bar)\u001b[0m\n\u001b[1;32m     95\u001b[0m \u001b[38;5;28;01mif\u001b[39;00m \u001b[38;5;28mlen\u001b[39m(futures) \u001b[38;5;241m>\u001b[39m\u001b[38;5;241m=\u001b[39m n_jobs:\n\u001b[0;32m---> 96\u001b[0m     completed, futures \u001b[38;5;241m=\u001b[39m \u001b[43mwait\u001b[49m\u001b[43m(\u001b[49m\u001b[43mfutures\u001b[49m\u001b[43m,\u001b[49m\u001b[43m \u001b[49m\u001b[43mreturn_when\u001b[49m\u001b[38;5;241;43m=\u001b[39;49m\u001b[43mFIRST_COMPLETED\u001b[49m\u001b[43m)\u001b[49m\n\u001b[1;32m     97\u001b[0m     \u001b[38;5;66;03m# Raise if exception occurred in executing the completed futures.\u001b[39;00m\n",
      "File \u001b[0;32m/usr/lib/python3.11/concurrent/futures/_base.py:305\u001b[0m, in \u001b[0;36mwait\u001b[0;34m(fs, timeout, return_when)\u001b[0m\n\u001b[1;32m    303\u001b[0m     waiter \u001b[38;5;241m=\u001b[39m _create_and_install_waiters(fs, return_when)\n\u001b[0;32m--> 305\u001b[0m \u001b[43mwaiter\u001b[49m\u001b[38;5;241;43m.\u001b[39;49m\u001b[43mevent\u001b[49m\u001b[38;5;241;43m.\u001b[39;49m\u001b[43mwait\u001b[49m\u001b[43m(\u001b[49m\u001b[43mtimeout\u001b[49m\u001b[43m)\u001b[49m\n\u001b[1;32m    306\u001b[0m \u001b[38;5;28;01mfor\u001b[39;00m f \u001b[38;5;129;01min\u001b[39;00m fs:\n",
      "File \u001b[0;32m/usr/lib/python3.11/threading.py:629\u001b[0m, in \u001b[0;36mEvent.wait\u001b[0;34m(self, timeout)\u001b[0m\n\u001b[1;32m    628\u001b[0m \u001b[38;5;28;01mif\u001b[39;00m \u001b[38;5;129;01mnot\u001b[39;00m signaled:\n\u001b[0;32m--> 629\u001b[0m     signaled \u001b[38;5;241m=\u001b[39m \u001b[38;5;28;43mself\u001b[39;49m\u001b[38;5;241;43m.\u001b[39;49m\u001b[43m_cond\u001b[49m\u001b[38;5;241;43m.\u001b[39;49m\u001b[43mwait\u001b[49m\u001b[43m(\u001b[49m\u001b[43mtimeout\u001b[49m\u001b[43m)\u001b[49m\n\u001b[1;32m    630\u001b[0m \u001b[38;5;28;01mreturn\u001b[39;00m signaled\n",
      "File \u001b[0;32m/usr/lib/python3.11/threading.py:327\u001b[0m, in \u001b[0;36mCondition.wait\u001b[0;34m(self, timeout)\u001b[0m\n\u001b[1;32m    326\u001b[0m \u001b[38;5;28;01mif\u001b[39;00m timeout \u001b[38;5;129;01mis\u001b[39;00m \u001b[38;5;28;01mNone\u001b[39;00m:\n\u001b[0;32m--> 327\u001b[0m     \u001b[43mwaiter\u001b[49m\u001b[38;5;241;43m.\u001b[39;49m\u001b[43macquire\u001b[49m\u001b[43m(\u001b[49m\u001b[43m)\u001b[49m\n\u001b[1;32m    328\u001b[0m     gotit \u001b[38;5;241m=\u001b[39m \u001b[38;5;28;01mTrue\u001b[39;00m\n",
      "\u001b[0;31mKeyboardInterrupt\u001b[0m: ",
      "\nDuring handling of the above exception, another exception occurred:\n",
      "\u001b[0;31mKeyboardInterrupt\u001b[0m                         Traceback (most recent call last)",
      "Cell \u001b[0;32mIn[188], line 6\u001b[0m\n\u001b[1;32m      3\u001b[0m MAX_EVALS\u001b[38;5;241m=\u001b[39m\u001b[38;5;241m20\u001b[39m\n\u001b[1;32m      5\u001b[0m \u001b[38;5;28;01mwith\u001b[39;00m parallel_backend(\u001b[38;5;124m'\u001b[39m\u001b[38;5;124mmultiprocessing\u001b[39m\u001b[38;5;124m'\u001b[39m):  \u001b[38;5;66;03m# Overrides `prefer=\"threads\"` to use multi-processing.\u001b[39;00m\n\u001b[0;32m----> 6\u001b[0m     \u001b[43moptimize\u001b[49m\u001b[43m(\u001b[49m\u001b[43mn_trials\u001b[49m\u001b[38;5;241;43m=\u001b[39;49m\u001b[43mMAX_EVALS\u001b[49m\u001b[43m)\u001b[49m\n\u001b[1;32m      8\u001b[0m \u001b[38;5;66;03m#r = Parallel(n_jobs=N_JOBS)([delayed(optimize)(MAX_EVALS) for _ in range(MAX_EVALS)])\u001b[39;00m\n",
      "Cell \u001b[0;32mIn[186], line 17\u001b[0m, in \u001b[0;36moptimize\u001b[0;34m(n_trials)\u001b[0m\n\u001b[1;32m     15\u001b[0m \u001b[38;5;28;01mdef\u001b[39;00m \u001b[38;5;21moptimize\u001b[39m(n_trials):\n\u001b[1;32m     16\u001b[0m     study \u001b[38;5;241m=\u001b[39m optuna\u001b[38;5;241m.\u001b[39mload_study(study_name\u001b[38;5;241m=\u001b[39mdBName, storage\u001b[38;5;241m=\u001b[39mstorage)\n\u001b[0;32m---> 17\u001b[0m     \u001b[43mstudy\u001b[49m\u001b[38;5;241;43m.\u001b[39;49m\u001b[43moptimize\u001b[49m\u001b[43m(\u001b[49m\u001b[43mobjective\u001b[49m\u001b[43m,\u001b[49m\u001b[43m \u001b[49m\u001b[43mn_trials\u001b[49m\u001b[38;5;241;43m=\u001b[39;49m\u001b[43mn_trials\u001b[49m\u001b[43m,\u001b[49m\u001b[43m \u001b[49m\u001b[43mn_jobs\u001b[49m\u001b[38;5;241;43m=\u001b[39;49m\u001b[43mN_JOBS\u001b[49m\u001b[43m)\u001b[49m\n",
      "File \u001b[0;32m/usr/lib/python3/dist-packages/optuna/study/study.py:451\u001b[0m, in \u001b[0;36mStudy.optimize\u001b[0;34m(self, func, n_trials, timeout, n_jobs, catch, callbacks, gc_after_trial, show_progress_bar)\u001b[0m\n\u001b[1;32m    348\u001b[0m \u001b[38;5;28;01mdef\u001b[39;00m \u001b[38;5;21moptimize\u001b[39m(\n\u001b[1;32m    349\u001b[0m     \u001b[38;5;28mself\u001b[39m,\n\u001b[1;32m    350\u001b[0m     func: ObjectiveFuncType,\n\u001b[0;32m   (...)\u001b[0m\n\u001b[1;32m    357\u001b[0m     show_progress_bar: \u001b[38;5;28mbool\u001b[39m \u001b[38;5;241m=\u001b[39m \u001b[38;5;28;01mFalse\u001b[39;00m,\n\u001b[1;32m    358\u001b[0m ) \u001b[38;5;241m-\u001b[39m\u001b[38;5;241m>\u001b[39m \u001b[38;5;28;01mNone\u001b[39;00m:\n\u001b[1;32m    359\u001b[0m \u001b[38;5;250m    \u001b[39m\u001b[38;5;124;03m\"\"\"Optimize an objective function.\u001b[39;00m\n\u001b[1;32m    360\u001b[0m \n\u001b[1;32m    361\u001b[0m \u001b[38;5;124;03m    Optimization is done by choosing a suitable set of hyperparameter values from a given\u001b[39;00m\n\u001b[0;32m   (...)\u001b[0m\n\u001b[1;32m    449\u001b[0m \u001b[38;5;124;03m            If nested invocation of this method occurs.\u001b[39;00m\n\u001b[1;32m    450\u001b[0m \u001b[38;5;124;03m    \"\"\"\u001b[39;00m\n\u001b[0;32m--> 451\u001b[0m     \u001b[43m_optimize\u001b[49m\u001b[43m(\u001b[49m\n\u001b[1;32m    452\u001b[0m \u001b[43m        \u001b[49m\u001b[43mstudy\u001b[49m\u001b[38;5;241;43m=\u001b[39;49m\u001b[38;5;28;43mself\u001b[39;49m\u001b[43m,\u001b[49m\n\u001b[1;32m    453\u001b[0m \u001b[43m        \u001b[49m\u001b[43mfunc\u001b[49m\u001b[38;5;241;43m=\u001b[39;49m\u001b[43mfunc\u001b[49m\u001b[43m,\u001b[49m\n\u001b[1;32m    454\u001b[0m \u001b[43m        \u001b[49m\u001b[43mn_trials\u001b[49m\u001b[38;5;241;43m=\u001b[39;49m\u001b[43mn_trials\u001b[49m\u001b[43m,\u001b[49m\n\u001b[1;32m    455\u001b[0m \u001b[43m        \u001b[49m\u001b[43mtimeout\u001b[49m\u001b[38;5;241;43m=\u001b[39;49m\u001b[43mtimeout\u001b[49m\u001b[43m,\u001b[49m\n\u001b[1;32m    456\u001b[0m \u001b[43m        \u001b[49m\u001b[43mn_jobs\u001b[49m\u001b[38;5;241;43m=\u001b[39;49m\u001b[43mn_jobs\u001b[49m\u001b[43m,\u001b[49m\n\u001b[1;32m    457\u001b[0m \u001b[43m        \u001b[49m\u001b[43mcatch\u001b[49m\u001b[38;5;241;43m=\u001b[39;49m\u001b[38;5;28;43mtuple\u001b[39;49m\u001b[43m(\u001b[49m\u001b[43mcatch\u001b[49m\u001b[43m)\u001b[49m\u001b[43m \u001b[49m\u001b[38;5;28;43;01mif\u001b[39;49;00m\u001b[43m \u001b[49m\u001b[38;5;28;43misinstance\u001b[39;49m\u001b[43m(\u001b[49m\u001b[43mcatch\u001b[49m\u001b[43m,\u001b[49m\u001b[43m \u001b[49m\u001b[43mIterable\u001b[49m\u001b[43m)\u001b[49m\u001b[43m \u001b[49m\u001b[38;5;28;43;01melse\u001b[39;49;00m\u001b[43m \u001b[49m\u001b[43m(\u001b[49m\u001b[43mcatch\u001b[49m\u001b[43m,\u001b[49m\u001b[43m)\u001b[49m\u001b[43m,\u001b[49m\n\u001b[1;32m    458\u001b[0m \u001b[43m        \u001b[49m\u001b[43mcallbacks\u001b[49m\u001b[38;5;241;43m=\u001b[39;49m\u001b[43mcallbacks\u001b[49m\u001b[43m,\u001b[49m\n\u001b[1;32m    459\u001b[0m \u001b[43m        \u001b[49m\u001b[43mgc_after_trial\u001b[49m\u001b[38;5;241;43m=\u001b[39;49m\u001b[43mgc_after_trial\u001b[49m\u001b[43m,\u001b[49m\n\u001b[1;32m    460\u001b[0m \u001b[43m        \u001b[49m\u001b[43mshow_progress_bar\u001b[49m\u001b[38;5;241;43m=\u001b[39;49m\u001b[43mshow_progress_bar\u001b[49m\u001b[43m,\u001b[49m\n\u001b[1;32m    461\u001b[0m \u001b[43m    \u001b[49m\u001b[43m)\u001b[49m\n",
      "File \u001b[0;32m/usr/lib/python3/dist-packages/optuna/study/_optimize.py:81\u001b[0m, in \u001b[0;36m_optimize\u001b[0;34m(study, func, n_trials, timeout, n_jobs, catch, callbacks, gc_after_trial, show_progress_bar)\u001b[0m\n\u001b[1;32m     78\u001b[0m time_start \u001b[38;5;241m=\u001b[39m datetime\u001b[38;5;241m.\u001b[39mdatetime\u001b[38;5;241m.\u001b[39mnow()\n\u001b[1;32m     79\u001b[0m futures: \u001b[38;5;28mset\u001b[39m[Future] \u001b[38;5;241m=\u001b[39m \u001b[38;5;28mset\u001b[39m()\n\u001b[0;32m---> 81\u001b[0m \u001b[43m\u001b[49m\u001b[38;5;28;43;01mwith\u001b[39;49;00m\u001b[43m \u001b[49m\u001b[43mThreadPoolExecutor\u001b[49m\u001b[43m(\u001b[49m\u001b[43mmax_workers\u001b[49m\u001b[38;5;241;43m=\u001b[39;49m\u001b[43mn_jobs\u001b[49m\u001b[43m)\u001b[49m\u001b[43m \u001b[49m\u001b[38;5;28;43;01mas\u001b[39;49;00m\u001b[43m \u001b[49m\u001b[43mexecutor\u001b[49m\u001b[43m:\u001b[49m\n\u001b[1;32m     82\u001b[0m \u001b[43m    \u001b[49m\u001b[38;5;28;43;01mfor\u001b[39;49;00m\u001b[43m \u001b[49m\u001b[43mn_submitted_trials\u001b[49m\u001b[43m \u001b[49m\u001b[38;5;129;43;01min\u001b[39;49;00m\u001b[43m \u001b[49m\u001b[43mitertools\u001b[49m\u001b[38;5;241;43m.\u001b[39;49m\u001b[43mcount\u001b[49m\u001b[43m(\u001b[49m\u001b[43m)\u001b[49m\u001b[43m:\u001b[49m\n\u001b[1;32m     83\u001b[0m \u001b[43m        \u001b[49m\u001b[38;5;28;43;01mif\u001b[39;49;00m\u001b[43m \u001b[49m\u001b[43mstudy\u001b[49m\u001b[38;5;241;43m.\u001b[39;49m\u001b[43m_stop_flag\u001b[49m\u001b[43m:\u001b[49m\n",
      "File \u001b[0;32m/usr/lib/python3.11/concurrent/futures/_base.py:647\u001b[0m, in \u001b[0;36mExecutor.__exit__\u001b[0;34m(self, exc_type, exc_val, exc_tb)\u001b[0m\n\u001b[1;32m    646\u001b[0m \u001b[38;5;28;01mdef\u001b[39;00m \u001b[38;5;21m__exit__\u001b[39m(\u001b[38;5;28mself\u001b[39m, exc_type, exc_val, exc_tb):\n\u001b[0;32m--> 647\u001b[0m     \u001b[38;5;28;43mself\u001b[39;49m\u001b[38;5;241;43m.\u001b[39;49m\u001b[43mshutdown\u001b[49m\u001b[43m(\u001b[49m\u001b[43mwait\u001b[49m\u001b[38;5;241;43m=\u001b[39;49m\u001b[38;5;28;43;01mTrue\u001b[39;49;00m\u001b[43m)\u001b[49m\n\u001b[1;32m    648\u001b[0m     \u001b[38;5;28;01mreturn\u001b[39;00m \u001b[38;5;28;01mFalse\u001b[39;00m\n",
      "File \u001b[0;32m/usr/lib/python3.11/concurrent/futures/thread.py:235\u001b[0m, in \u001b[0;36mThreadPoolExecutor.shutdown\u001b[0;34m(self, wait, cancel_futures)\u001b[0m\n\u001b[1;32m    233\u001b[0m \u001b[38;5;28;01mif\u001b[39;00m wait:\n\u001b[1;32m    234\u001b[0m     \u001b[38;5;28;01mfor\u001b[39;00m t \u001b[38;5;129;01min\u001b[39;00m \u001b[38;5;28mself\u001b[39m\u001b[38;5;241m.\u001b[39m_threads:\n\u001b[0;32m--> 235\u001b[0m         \u001b[43mt\u001b[49m\u001b[38;5;241;43m.\u001b[39;49m\u001b[43mjoin\u001b[49m\u001b[43m(\u001b[49m\u001b[43m)\u001b[49m\n",
      "File \u001b[0;32m/usr/lib/python3.11/threading.py:1119\u001b[0m, in \u001b[0;36mThread.join\u001b[0;34m(self, timeout)\u001b[0m\n\u001b[1;32m   1116\u001b[0m     \u001b[38;5;28;01mraise\u001b[39;00m \u001b[38;5;167;01mRuntimeError\u001b[39;00m(\u001b[38;5;124m\"\u001b[39m\u001b[38;5;124mcannot join current thread\u001b[39m\u001b[38;5;124m\"\u001b[39m)\n\u001b[1;32m   1118\u001b[0m \u001b[38;5;28;01mif\u001b[39;00m timeout \u001b[38;5;129;01mis\u001b[39;00m \u001b[38;5;28;01mNone\u001b[39;00m:\n\u001b[0;32m-> 1119\u001b[0m     \u001b[38;5;28;43mself\u001b[39;49m\u001b[38;5;241;43m.\u001b[39;49m\u001b[43m_wait_for_tstate_lock\u001b[49m\u001b[43m(\u001b[49m\u001b[43m)\u001b[49m\n\u001b[1;32m   1120\u001b[0m \u001b[38;5;28;01melse\u001b[39;00m:\n\u001b[1;32m   1121\u001b[0m     \u001b[38;5;66;03m# the behavior of a negative timeout isn't documented, but\u001b[39;00m\n\u001b[1;32m   1122\u001b[0m     \u001b[38;5;66;03m# historically .join(timeout=x) for x<0 has acted as if timeout=0\u001b[39;00m\n\u001b[1;32m   1123\u001b[0m     \u001b[38;5;28mself\u001b[39m\u001b[38;5;241m.\u001b[39m_wait_for_tstate_lock(timeout\u001b[38;5;241m=\u001b[39m\u001b[38;5;28mmax\u001b[39m(timeout, \u001b[38;5;241m0\u001b[39m))\n",
      "File \u001b[0;32m/usr/lib/python3.11/threading.py:1139\u001b[0m, in \u001b[0;36mThread._wait_for_tstate_lock\u001b[0;34m(self, block, timeout)\u001b[0m\n\u001b[1;32m   1136\u001b[0m     \u001b[38;5;28;01mreturn\u001b[39;00m\n\u001b[1;32m   1138\u001b[0m \u001b[38;5;28;01mtry\u001b[39;00m:\n\u001b[0;32m-> 1139\u001b[0m     \u001b[38;5;28;01mif\u001b[39;00m \u001b[43mlock\u001b[49m\u001b[38;5;241;43m.\u001b[39;49m\u001b[43macquire\u001b[49m\u001b[43m(\u001b[49m\u001b[43mblock\u001b[49m\u001b[43m,\u001b[49m\u001b[43m \u001b[49m\u001b[43mtimeout\u001b[49m\u001b[43m)\u001b[49m:\n\u001b[1;32m   1140\u001b[0m         lock\u001b[38;5;241m.\u001b[39mrelease()\n\u001b[1;32m   1141\u001b[0m         \u001b[38;5;28mself\u001b[39m\u001b[38;5;241m.\u001b[39m_stop()\n",
      "\u001b[0;31mKeyboardInterrupt\u001b[0m: "
     ]
    },
    {
     "name": "stdout",
     "output_type": "stream",
     "text": [
      "Epoch 141/800: 45.85s - Training loss = 0.000122 - Validation loss = 0.121684\n"
     ]
    },
    {
     "name": "stderr",
     "output_type": "stream",
     "text": [
      "[I 2025-06-05 14:45:08,542] Trial 5 finished with value: 0.20159859955310822 and parameters: {'model_name': 'GNN3', 'batch_size': 16, 'lr': 2.5e-05, 'K': 10, 'nlayers': 8, 'concat': False, 'L2': True}. Best is trial 1 with value: 0.1138925850391388.\n",
      "--- Logging error ---\n",
      "Traceback (most recent call last):\n",
      "  File \"/usr/lib/python3.11/logging/__init__.py\", line 1113, in emit\n",
      "    stream.write(msg + self.terminator)\n",
      "  File \"/usr/lib/python3/dist-packages/ipykernel/iostream.py\", line 694, in write\n",
      "    self._schedule_flush()\n",
      "  File \"/usr/lib/python3/dist-packages/ipykernel/iostream.py\", line 590, in _schedule_flush\n",
      "    self.pub_thread.schedule(_schedule_in_thread)\n",
      "  File \"/usr/lib/python3/dist-packages/ipykernel/iostream.py\", line 267, in schedule\n",
      "    self._event_pipe.send(b\"\")\n",
      "  File \"/usr/lib/python3/dist-packages/zmq/sugar/socket.py\", line 620, in send\n",
      "    return super().send(data, flags=flags, copy=copy, track=track)\n",
      "           ^^^^^^^^^^^^^^^^^^^^^^^^^^^^^^^^^^^^^^^^^^^^^^^^^^^^^^^\n",
      "  File \"zmq/backend/cython/socket.pyx\", line 746, in zmq.backend.cython.socket.Socket.send\n",
      "  File \"zmq/backend/cython/socket.pyx\", line 787, in zmq.backend.cython.socket.Socket.send\n",
      "  File \"zmq/backend/cython/socket.pyx\", line 138, in zmq.backend.cython.socket._check_closed\n",
      "zmq.error.ZMQError: Socket operation on non-socket\n",
      "Call stack:\n",
      "  File \"/usr/lib/python3.11/threading.py\", line 1002, in _bootstrap\n",
      "    self._bootstrap_inner()\n",
      "  File \"/usr/lib/python3.11/threading.py\", line 1045, in _bootstrap_inner\n",
      "    self.run()\n",
      "  File \"/usr/lib/python3/dist-packages/ipykernel/ipkernel.py\", line 766, in run_closure\n",
      "    _threading_Thread_run(self)\n",
      "  File \"/usr/lib/python3.11/threading.py\", line 982, in run\n",
      "    self._target(*self._args, **self._kwargs)\n",
      "  File \"/usr/lib/python3.11/concurrent/futures/thread.py\", line 83, in _worker\n",
      "    work_item.run()\n",
      "  File \"/usr/lib/python3.11/concurrent/futures/thread.py\", line 58, in run\n",
      "    result = self.fn(*self.args, **self.kwargs)\n",
      "  File \"/usr/lib/python3/dist-packages/optuna/study/_optimize.py\", line 159, in _optimize_sequential\n",
      "    frozen_trial = _run_trial(study, func, catch)\n",
      "  File \"/usr/lib/python3/dist-packages/optuna/study/_optimize.py\", line 220, in _run_trial\n",
      "    study._log_completed_trial(frozen_trial)\n",
      "  File \"/usr/lib/python3/dist-packages/optuna/study/study.py\", line 1113, in _log_completed_trial\n",
      "    _logger.info(\n",
      "Message: \"Trial 5 finished with value: 0.20159859955310822 and parameters: {'model_name': 'GNN3', 'batch_size': 16, 'lr': 2.5e-05, 'K': 10, 'nlayers': 8, 'concat': False, 'L2': True}. Best is trial 1 with value: 0.1138925850391388.\"\n",
      "Arguments: ()\n",
      "[I 2025-06-05 14:53:45,965] Trial 2 finished with value: 0.10865287482738495 and parameters: {'model_name': 'GNN2', 'batch_size': 16, 'lr': 5e-05, 'K': 5, 'nlayers': 16, 'concat': True, 'L2': True}. Best is trial 2 with value: 0.10865287482738495.\n"
     ]
    },
    {
     "name": "stdout",
     "output_type": "stream",
     "text": [
      "Epoch 21/800: 141.11s - Training loss = 0.000660 - Validation loss = 0.202549Socket operation on non-socket\n",
      "Epoch 156/800: -0.00s - Training loss = 0.000122 - Validation loss = 0.117438\n",
      "0.10865287482738495\n"
     ]
    }
   ],
   "source": [
    "from joblib import Parallel, delayed, parallel_backend\n",
    "\n",
    "MAX_EVALS=20\n",
    "\n",
    "with parallel_backend('multiprocessing'):  # Overrides `prefer=\"threads\"` to use multi-processing.\n",
    "    optimize(n_trials=MAX_EVALS)\n",
    "\n",
    "#r = Parallel(n_jobs=N_JOBS)([delayed(optimize)(MAX_EVALS) for _ in range(MAX_EVALS)])"
   ]
  },
  {
   "cell_type": "code",
   "execution_count": null,
   "id": "1c95ca5b",
   "metadata": {},
   "outputs": [],
   "source": []
  },
  {
   "cell_type": "markdown",
   "id": "4a4c2966",
   "metadata": {},
   "source": [
    "## 7. Compare to Ground Truth\n"
   ]
  },
  {
   "cell_type": "code",
   "execution_count": null,
   "id": "e062cd69",
   "metadata": {},
   "outputs": [],
   "source": []
  },
  {
   "cell_type": "code",
   "execution_count": null,
   "id": "35489124",
   "metadata": {},
   "outputs": [],
   "source": [
    "import pandas as pd\n",
    "import seaborn as sns\n",
    "\n",
    "true_vals = event_metadata[\"true\"]\n",
    "\n",
    "df = pd.DataFrame({\n",
    "    \"Parameter\": [\"Latitude\", \"Longitude\", \"Magnitude\", \"Depth\"],\n",
    "    \"True\": true_vals.numpy(),\n",
    "    \"Predicted\": prediction.numpy()\n",
    "})\n",
    "\n",
    "sns.barplot(data=df.melt(id_vars=\"Parameter\"), x=\"Parameter\", y=\"value\", hue=\"variable\")\n",
    "plt.title(\"Predicted vs. True Seismic Event Properties\")\n",
    "plt.ylabel(\"Value\")\n",
    "plt.show()\n"
   ]
  },
  {
   "cell_type": "markdown",
   "id": "5942349d",
   "metadata": {},
   "source": [
    "## 8. Optional: Map Predicted vs. True Location\n"
   ]
  },
  {
   "cell_type": "code",
   "execution_count": null,
   "id": "de75e0d7",
   "metadata": {},
   "outputs": [],
   "source": [
    "import geopandas as gpd\n",
    "\n",
    "world = gpd.read_file(gpd.datasets.get_path(\"naturalearth_lowres\"))\n",
    "ax = world.plot(figsize=(10, 6), color=\"lightgray\", edgecolor=\"black\")\n",
    "\n",
    "### Longitude = x, Latitude = y\n",
    "plt.scatter(true_vals[1], true_vals[0], color='green', label='True Location')\n",
    "plt.scatter(prediction[1], prediction[0], color='red', label='Predicted Location')\n",
    "plt.legend()\n",
    "plt.title(\"Seismic Event Location: True vs Predicted\")\n",
    "plt.xlabel(\"Longitude\")\n",
    "plt.ylabel(\"Latitude\")\n",
    "plt.show()"
   ]
  },
  {
   "cell_type": "code",
   "execution_count": null,
   "id": "f7b84e3f",
   "metadata": {},
   "outputs": [],
   "source": []
  },
  {
   "cell_type": "markdown",
   "id": "7bf9be5c",
   "metadata": {},
   "source": [
    "\n",
    "##  9. Conclusion\n",
    "- GNNs provide an effective way to model spatial dependencies in seismic networks.\n",
    "- With pre-trained models, inference is fast and suitable for near real-time analysis.\n",
    "- This approach can be extended with more station data, real-time feeds, and uncertainty quantification.\n",
    "\n",
    "**Next Steps:**\n",
    "- Add edge features (e.g., travel time estimates)\n",
    "- Batch inference for multiple events\n",
    "- Uncertainty estimation via Bayesian GNNs\n",
    "\"\"\"\n"
   ]
  },
  {
   "cell_type": "markdown",
   "id": "75b11cbe",
   "metadata": {},
   "source": [
    "## References"
   ]
  },
  {
   "cell_type": "markdown",
   "id": "c4c1f776",
   "metadata": {},
   "source": [
    "################################################################################################################"
   ]
  },
  {
   "cell_type": "markdown",
   "id": "d1fce908",
   "metadata": {},
   "source": [
    "################################################################################################################"
   ]
  },
  {
   "cell_type": "markdown",
   "id": "18f37af4",
   "metadata": {},
   "source": [
    "################################################################################################################"
   ]
  },
  {
   "cell_type": "markdown",
   "id": "20d34caa",
   "metadata": {},
   "source": [
    "# Sandbox Zone (for little tests)"
   ]
  },
  {
   "cell_type": "code",
   "execution_count": null,
   "id": "1eac5857",
   "metadata": {},
   "outputs": [],
   "source": []
  },
  {
   "cell_type": "code",
   "execution_count": null,
   "id": "6b864911",
   "metadata": {},
   "outputs": [],
   "source": []
  }
 ],
 "metadata": {
  "kernelspec": {
   "display_name": "Python 3 (ipykernel)",
   "language": "python",
   "name": "python3"
  },
  "language_info": {
   "codemirror_mode": {
    "name": "ipython",
    "version": 3
   },
   "file_extension": ".py",
   "mimetype": "text/x-python",
   "name": "python",
   "nbconvert_exporter": "python",
   "pygments_lexer": "ipython3",
   "version": "3.11.9"
  }
 },
 "nbformat": 4,
 "nbformat_minor": 5
}
